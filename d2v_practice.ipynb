{
 "cells": [
  {
   "cell_type": "markdown",
   "metadata": {},
   "source": [
    "# Doc2Vec Tutorial on the Lee Dataset"
   ]
  },
  {
   "cell_type": "markdown",
   "metadata": {},
   "source": [
    "Doc2Vec is an NLP tool for representing documents as a vector and is a generalizing of the Word2Vec method. This tutorial will serve as an introduction to Doc2Vec and present ways to train and assess a Doc2Vec model."
   ]
  },
  {
   "cell_type": "code",
   "execution_count": 1,
   "metadata": {
    "collapsed": false
   },
   "outputs": [
    {
     "name": "stderr",
     "output_type": "stream",
     "text": [
      "C:\\Users\\lisrba\\Anaconda3\\lib\\site-packages\\gensim\\utils.py:855: UserWarning: detected Windows; aliasing chunkize to chunkize_serial\n",
      "  warnings.warn(\"detected Windows; aliasing chunkize to chunkize_serial\")\n"
     ]
    }
   ],
   "source": [
    "import gensim\n",
    "import os\n",
    "import collections\n",
    "import smart_open\n",
    "import random"
   ]
  },
  {
   "cell_type": "markdown",
   "metadata": {},
   "source": [
    "## Getting Started"
   ]
  },
  {
   "cell_type": "markdown",
   "metadata": {},
   "source": [
    " In theory, a document could be anything from a short 140 character tweet, a single paragraph (i.e., journal article abstract), a news article, or a book. In NLP parlance a collection or set of documents is often referred to as a corpus."
   ]
  },
  {
   "cell_type": "code",
   "execution_count": 2,
   "metadata": {
    "collapsed": true
   },
   "outputs": [],
   "source": [
    "# Set file names for train and test data\n",
    "test_data_dir = '{}'.format(os.sep).join([gensim.__path__[0], 'test', 'test_data'])\n",
    "lee_train_file = test_data_dir + os.sep + 'lee_background.cor'\n",
    "lee_test_file = test_data_dir + os.sep + 'lee.cor'"
   ]
  },
  {
   "cell_type": "markdown",
   "metadata": {},
   "source": [
    "## Define a Function to Read and Preprocess Text"
   ]
  },
  {
   "cell_type": "code",
   "execution_count": 3,
   "metadata": {
    "collapsed": true
   },
   "outputs": [],
   "source": [
    "def read_corpus(fname, tokens_only=False):\n",
    "    with smart_open.smart_open(fname, encoding=\"iso-8859-1\") as f:\n",
    "        for i, line in enumerate(f):\n",
    "            if tokens_only:\n",
    "                yield gensim.utils.simple_preprocess(line)\n",
    "            else:\n",
    "                # For training data, add tags\n",
    "                yield gensim.models.doc2vec.TaggedDocument(gensim.utils.simple_preprocess(line), [i])"
   ]
  },
  {
   "cell_type": "code",
   "execution_count": 4,
   "metadata": {
    "collapsed": true
   },
   "outputs": [],
   "source": [
    "train_corpus = list(read_corpus(lee_train_file))\n",
    "test_corpus = list(read_corpus(lee_test_file, tokens_only=True))"
   ]
  },
  {
   "cell_type": "code",
   "execution_count": 9,
   "metadata": {
    "collapsed": false
   },
   "outputs": [
    {
     "data": {
      "text/plain": [
       "[TaggedDocument(words=['hundreds', 'of', 'people', 'have', 'been', 'forced', 'to', 'vacate', 'their', 'homes', 'in', 'the', 'southern', 'highlands', 'of', 'new', 'south', 'wales', 'as', 'strong', 'winds', 'today', 'pushed', 'huge', 'bushfire', 'towards', 'the', 'town', 'of', 'hill', 'top', 'new', 'blaze', 'near', 'goulburn', 'south', 'west', 'of', 'sydney', 'has', 'forced', 'the', 'closure', 'of', 'the', 'hume', 'highway', 'at', 'about', 'pm', 'aedt', 'marked', 'deterioration', 'in', 'the', 'weather', 'as', 'storm', 'cell', 'moved', 'east', 'across', 'the', 'blue', 'mountains', 'forced', 'authorities', 'to', 'make', 'decision', 'to', 'evacuate', 'people', 'from', 'homes', 'in', 'outlying', 'streets', 'at', 'hill', 'top', 'in', 'the', 'new', 'south', 'wales', 'southern', 'highlands', 'an', 'estimated', 'residents', 'have', 'left', 'their', 'homes', 'for', 'nearby', 'mittagong', 'the', 'new', 'south', 'wales', 'rural', 'fire', 'service', 'says', 'the', 'weather', 'conditions', 'which', 'caused', 'the', 'fire', 'to', 'burn', 'in', 'finger', 'formation', 'have', 'now', 'eased', 'and', 'about', 'fire', 'units', 'in', 'and', 'around', 'hill', 'top', 'are', 'optimistic', 'of', 'defending', 'all', 'properties', 'as', 'more', 'than', 'blazes', 'burn', 'on', 'new', 'year', 'eve', 'in', 'new', 'south', 'wales', 'fire', 'crews', 'have', 'been', 'called', 'to', 'new', 'fire', 'at', 'gunning', 'south', 'of', 'goulburn', 'while', 'few', 'details', 'are', 'available', 'at', 'this', 'stage', 'fire', 'authorities', 'says', 'it', 'has', 'closed', 'the', 'hume', 'highway', 'in', 'both', 'directions', 'meanwhile', 'new', 'fire', 'in', 'sydney', 'west', 'is', 'no', 'longer', 'threatening', 'properties', 'in', 'the', 'cranebrook', 'area', 'rain', 'has', 'fallen', 'in', 'some', 'parts', 'of', 'the', 'illawarra', 'sydney', 'the', 'hunter', 'valley', 'and', 'the', 'north', 'coast', 'but', 'the', 'bureau', 'of', 'meteorology', 'claire', 'richards', 'says', 'the', 'rain', 'has', 'done', 'little', 'to', 'ease', 'any', 'of', 'the', 'hundred', 'fires', 'still', 'burning', 'across', 'the', 'state', 'the', 'falls', 'have', 'been', 'quite', 'isolated', 'in', 'those', 'areas', 'and', 'generally', 'the', 'falls', 'have', 'been', 'less', 'than', 'about', 'five', 'millimetres', 'she', 'said', 'in', 'some', 'places', 'really', 'not', 'significant', 'at', 'all', 'less', 'than', 'millimetre', 'so', 'there', 'hasn', 'been', 'much', 'relief', 'as', 'far', 'as', 'rain', 'is', 'concerned', 'in', 'fact', 'they', 've', 'probably', 'hampered', 'the', 'efforts', 'of', 'the', 'firefighters', 'more', 'because', 'of', 'the', 'wind', 'gusts', 'that', 'are', 'associated', 'with', 'those', 'thunderstorms'], tags=[0]),\n",
       " TaggedDocument(words=['indian', 'security', 'forces', 'have', 'shot', 'dead', 'eight', 'suspected', 'militants', 'in', 'night', 'long', 'encounter', 'in', 'southern', 'kashmir', 'the', 'shootout', 'took', 'place', 'at', 'dora', 'village', 'some', 'kilometers', 'south', 'of', 'the', 'kashmiri', 'summer', 'capital', 'srinagar', 'the', 'deaths', 'came', 'as', 'pakistani', 'police', 'arrested', 'more', 'than', 'two', 'dozen', 'militants', 'from', 'extremist', 'groups', 'accused', 'of', 'staging', 'an', 'attack', 'on', 'india', 'parliament', 'india', 'has', 'accused', 'pakistan', 'based', 'lashkar', 'taiba', 'and', 'jaish', 'mohammad', 'of', 'carrying', 'out', 'the', 'attack', 'on', 'december', 'at', 'the', 'behest', 'of', 'pakistani', 'military', 'intelligence', 'military', 'tensions', 'have', 'soared', 'since', 'the', 'raid', 'with', 'both', 'sides', 'massing', 'troops', 'along', 'their', 'border', 'and', 'trading', 'tit', 'for', 'tat', 'diplomatic', 'sanctions', 'yesterday', 'pakistan', 'announced', 'it', 'had', 'arrested', 'lashkar', 'taiba', 'chief', 'hafiz', 'mohammed', 'saeed', 'police', 'in', 'karachi', 'say', 'it', 'is', 'likely', 'more', 'raids', 'will', 'be', 'launched', 'against', 'the', 'two', 'groups', 'as', 'well', 'as', 'other', 'militant', 'organisations', 'accused', 'of', 'targetting', 'india', 'military', 'tensions', 'between', 'india', 'and', 'pakistan', 'have', 'escalated', 'to', 'level', 'not', 'seen', 'since', 'their', 'war'], tags=[1])]"
      ]
     },
     "execution_count": 9,
     "metadata": {},
     "output_type": "execute_result"
    }
   ],
   "source": [
    "train_corpus[:2]"
   ]
  },
  {
   "cell_type": "code",
   "execution_count": 10,
   "metadata": {
    "collapsed": false
   },
   "outputs": [
    {
     "name": "stdout",
     "output_type": "stream",
     "text": [
      "[['the', 'national', 'executive', 'of', 'the', 'strife', 'torn', 'democrats', 'last', 'night', 'appointed', 'little', 'known', 'west', 'australian', 'senator', 'brian', 'greig', 'as', 'interim', 'leader', 'shock', 'move', 'likely', 'to', 'provoke', 'further', 'conflict', 'between', 'the', 'party', 'senators', 'and', 'its', 'organisation', 'in', 'move', 'to', 'reassert', 'control', 'over', 'the', 'party', 'seven', 'senators', 'the', 'national', 'executive', 'last', 'night', 'rejected', 'aden', 'ridgeway', 'bid', 'to', 'become', 'interim', 'leader', 'in', 'favour', 'of', 'senator', 'greig', 'supporter', 'of', 'deposed', 'leader', 'natasha', 'stott', 'despoja', 'and', 'an', 'outspoken', 'gay', 'rights', 'activist'], ['cash', 'strapped', 'financial', 'services', 'group', 'amp', 'has', 'shelved', 'million', 'plan', 'to', 'buy', 'shares', 'back', 'from', 'investors', 'and', 'will', 'raise', 'million', 'in', 'fresh', 'capital', 'after', 'profits', 'crashed', 'in', 'the', 'six', 'months', 'to', 'june', 'chief', 'executive', 'paul', 'batchelor', 'said', 'the', 'result', 'was', 'solid', 'in', 'what', 'he', 'described', 'as', 'the', 'worst', 'conditions', 'for', 'stock', 'markets', 'in', 'years', 'amp', 'half', 'year', 'profit', 'sank', 'per', 'cent', 'to', 'million', 'or', 'share', 'as', 'australia', 'largest', 'investor', 'and', 'fund', 'manager', 'failed', 'to', 'hit', 'projected', 'per', 'cent', 'earnings', 'growth', 'targets', 'and', 'was', 'battered', 'by', 'falling', 'returns', 'on', 'share', 'markets']]\n"
     ]
    }
   ],
   "source": [
    "print(test_corpus[:2])"
   ]
  },
  {
   "cell_type": "markdown",
   "metadata": {},
   "source": [
    "\n",
    "Notice that the testing corpus is just a list of lists and does not contain any tags."
   ]
  },
  {
   "cell_type": "markdown",
   "metadata": {},
   "source": [
    "## Training the Model"
   ]
  },
  {
   "cell_type": "markdown",
   "metadata": {},
   "source": [
    "### Instantiate a Doc2Vec Object"
   ]
  },
  {
   "cell_type": "markdown",
   "metadata": {},
   "source": [
    "Now, we'll instantiate a Doc2Vec model with a vector size with 50 words and iterating over the training corpus 10 times. We set the minimum word count to 2 in order to give higher frequency words more weighting. Model accuracy can be improved by increasing the number of iterations but this generally increases the training time."
   ]
  },
  {
   "cell_type": "code",
   "execution_count": 11,
   "metadata": {
    "collapsed": true
   },
   "outputs": [],
   "source": [
    "model = gensim.models.doc2vec.Doc2Vec(size=50, min_count=2, iter=10)"
   ]
  },
  {
   "cell_type": "markdown",
   "metadata": {},
   "source": [
    "### Build a Vocabulary"
   ]
  },
  {
   "cell_type": "code",
   "execution_count": 13,
   "metadata": {
    "collapsed": true
   },
   "outputs": [],
   "source": [
    "model.build_vocab(train_corpus)"
   ]
  },
  {
   "cell_type": "markdown",
   "metadata": {},
   "source": [
    "Essentially, the vocabulary is a dictionary (accessible via model.vocab) of all of the unique words extracted from the training corpus along with the count (e.g., model.vocab['penalty'].count for counts for the word penalty)."
   ]
  },
  {
   "cell_type": "markdown",
   "metadata": {},
   "source": [
    "### Time to Train"
   ]
  },
  {
   "cell_type": "code",
   "execution_count": 14,
   "metadata": {
    "collapsed": false
   },
   "outputs": [
    {
     "name": "stdout",
     "output_type": "stream",
     "text": [
      "Wall time: 444 ms\n"
     ]
    },
    {
     "data": {
      "text/plain": [
       "426778"
      ]
     },
     "execution_count": 14,
     "metadata": {},
     "output_type": "execute_result"
    }
   ],
   "source": [
    "%time model.train(train_corpus)"
   ]
  },
  {
   "cell_type": "markdown",
   "metadata": {},
   "source": [
    "### Inferring a Vector"
   ]
  },
  {
   "cell_type": "markdown",
   "metadata": {},
   "source": [
    "One important thing to note is that you can now infer a vector for any piece of text without having to re-train the model by passing a list of words to the model.infer_vector function. This vector can then be compared with other vectors via cosine similarity."
   ]
  },
  {
   "cell_type": "code",
   "execution_count": 15,
   "metadata": {
    "collapsed": false
   },
   "outputs": [
    {
     "data": {
      "text/plain": [
       "array([-0.00398235, -0.00461269, -0.02679544, -0.00935559, -0.00363114,\n",
       "       -0.01800475,  0.00599421, -0.04219684,  0.01010247, -0.01585881,\n",
       "        0.03546004, -0.00756014,  0.02242384, -0.00484945, -0.00255826,\n",
       "       -0.01466642,  0.0159989 , -0.00532978, -0.0121013 , -0.00150979,\n",
       "        0.02956434,  0.00016201,  0.00784938, -0.01737342, -0.01330245,\n",
       "       -0.01583373, -0.01426438,  0.01153005,  0.02079429,  0.01086976,\n",
       "        0.00197235, -0.01115874, -0.00574612, -0.01148573,  0.02358464,\n",
       "       -0.03167198,  0.02231628,  0.02417704,  0.03692144, -0.0199048 ,\n",
       "       -0.00967707,  0.02325767, -0.04682001,  0.00731927,  0.02529767,\n",
       "        0.03053166,  0.02304165,  0.00541707, -0.00276967, -0.03043545], dtype=float32)"
      ]
     },
     "execution_count": 15,
     "metadata": {},
     "output_type": "execute_result"
    }
   ],
   "source": [
    "model.infer_vector(['only', 'you', 'can', 'prevent', 'forrest', 'fires'])"
   ]
  },
  {
   "cell_type": "markdown",
   "metadata": {},
   "source": [
    "## Assessing Model"
   ]
  },
  {
   "cell_type": "markdown",
   "metadata": {},
   "source": [
    "To assess our new model, we'll first infer new vectors for each document of the training corpus, compare the inferred vectors with the training corpus, and then returning the rank of the document based on self-similarity. Basically, we're pretending as if the training corpus is some new unseen data and then seeing how they compare with the trained model. The expectation is that we've likely overfit our model (i.e., all of the ranks will be less than 2) and so we should be able to find similar documents very easily. Additionally, we'll keep track of the second ranks for a comparison of less similar documents."
   ]
  },
  {
   "cell_type": "code",
   "execution_count": 16,
   "metadata": {
    "collapsed": true
   },
   "outputs": [],
   "source": [
    "ranks = []\n",
    "second_ranks = []\n",
    "for doc_id in range(len(train_corpus)):\n",
    "    inferred_vector = model.infer_vector(train_corpus[doc_id].words)\n",
    "    sims = model.docvecs.most_similar([inferred_vector], topn=len(model.docvecs))\n",
    "    rank = [docid for docid, sim in sims].index(doc_id)\n",
    "    ranks.append(rank)\n",
    "    \n",
    "    second_ranks.append(sims[1])"
   ]
  },
  {
   "cell_type": "markdown",
   "metadata": {},
   "source": [
    "\n",
    "Let's count how each document ranks with respect to the training corpus"
   ]
  },
  {
   "cell_type": "code",
   "execution_count": 17,
   "metadata": {
    "collapsed": false
   },
   "outputs": [
    {
     "data": {
      "text/plain": [
       "Counter({0: 30,\n",
       "         1: 25,\n",
       "         2: 12,\n",
       "         3: 15,\n",
       "         4: 16,\n",
       "         5: 8,\n",
       "         6: 8,\n",
       "         7: 11,\n",
       "         8: 14,\n",
       "         9: 6,\n",
       "         10: 12,\n",
       "         11: 11,\n",
       "         12: 7,\n",
       "         13: 5,\n",
       "         14: 4,\n",
       "         15: 4,\n",
       "         16: 2,\n",
       "         17: 4,\n",
       "         18: 6,\n",
       "         19: 2,\n",
       "         20: 3,\n",
       "         21: 4,\n",
       "         22: 6,\n",
       "         23: 4,\n",
       "         24: 1,\n",
       "         25: 5,\n",
       "         26: 3,\n",
       "         27: 3,\n",
       "         28: 5,\n",
       "         29: 3,\n",
       "         30: 3,\n",
       "         31: 2,\n",
       "         33: 2,\n",
       "         34: 1,\n",
       "         35: 1,\n",
       "         36: 2,\n",
       "         37: 2,\n",
       "         39: 1,\n",
       "         40: 5,\n",
       "         41: 1,\n",
       "         42: 3,\n",
       "         43: 1,\n",
       "         45: 1,\n",
       "         46: 3,\n",
       "         47: 3,\n",
       "         48: 2,\n",
       "         49: 1,\n",
       "         50: 1,\n",
       "         53: 2,\n",
       "         54: 1,\n",
       "         57: 3,\n",
       "         58: 2,\n",
       "         59: 1,\n",
       "         61: 1,\n",
       "         62: 1,\n",
       "         63: 1,\n",
       "         65: 1,\n",
       "         66: 1,\n",
       "         68: 1,\n",
       "         77: 1,\n",
       "         80: 1,\n",
       "         82: 1,\n",
       "         86: 1,\n",
       "         98: 1,\n",
       "         103: 2,\n",
       "         111: 1,\n",
       "         139: 1,\n",
       "         205: 1,\n",
       "         243: 1})"
      ]
     },
     "execution_count": 17,
     "metadata": {},
     "output_type": "execute_result"
    }
   ],
   "source": [
    "collections.Counter(ranks)  #96% accuracy"
   ]
  },
  {
   "cell_type": "code",
   "execution_count": 18,
   "metadata": {
    "collapsed": false
   },
   "outputs": [
    {
     "name": "stdout",
     "output_type": "stream",
     "text": [
      "Document (299): «australia will take on france in the doubles rubber of the davis cup tennis final today with the tie levelled at wayne arthurs and todd woodbridge are scheduled to lead australia in the doubles against cedric pioline and fabrice santoro however changes can be made to the line up up to an hour before the match and australian team captain john fitzgerald suggested he might do just that we ll make team appraisal of the whole situation go over the pros and cons and make decision french team captain guy forget says he will not make changes but does not know what to expect from australia todd is the best doubles player in the world right now so expect him to play he said would probably use wayne arthurs but don know what to expect really pat rafter salvaged australia davis cup campaign yesterday with win in the second singles match rafter overcame an arm injury to defeat french number one sebastien grosjean in three sets the australian says he is happy with his form it not very pretty tennis there isn too many consistent bounces you are playing like said bit of classic old grass court rafter said rafter levelled the score after lleyton hewitt shock five set loss to nicholas escude in the first singles rubber but rafter says he felt no added pressure after hewitt defeat knew had good team to back me up even if we were down he said knew could win on the last day know the boys can win doubles so even if we were down still feel we are good enough team to win and vice versa they are good enough team to beat us as well»\n",
      "\n",
      "SIMILAR/DISSIMILAR DOCS PER MODEL Doc2Vec(dm/m,d50,n5,w5,mc2,s0.001,t3):\n",
      "\n",
      "MOST (83, 0.997178316116333): «the opposition leader simon crean says child abuse scandal in brisbane has damaged the office of the governor general and its incumbent dr peter hollingworth child advocates have called on dr hollingworth to step down as governor general saying he did not do enough to prevent abuse of children in an anglican school when he was archbishop of brisbane mr crean says he is not calling on dr hollingworth to resign but he says there are still unanswered questions think it has tarnished the office of the governor general the fact that it took so long for this statement to come out he said many people have been calling for it me included think if we are to avoid further damage to the office we need to clear it up completely brisbane lord mayor says the governor general explanation of his handling of child sex abuse allegations at queensland school raises more questions than it answers jim soorley who is former catholic priest says the explanation does not wash within the christian tradition bishops are regarded as shepherds he said it very clear that he was not good shepherd and there are serious consequences for that think his actions are not the actions of good shepherd and think there are still questions to be answered»\n",
      "\n",
      "MEDIAN (84, 0.9935686588287354): «it has been confirmed two asylum seekers at the woomera detention centre have mutilated themselves during the current unrest the department has confirmed two asylum seekers harmed themselves yesterday an ambulance was seen entering and leaving the facility at high speed but the director of nursing at woomera hospital says no one from the detention centre has been admitted there since monday night unrest continued at the facility overnight with collective voice of detainees chanting visa the immigration department has confirmed at least to detainees breached compound fencing into prohibited zone in the facility overnight twenty two buildings have been destroyed or damaged by fire in three days it is thought the cooler temperatures expected in woomera today may lead to heightened daytime detainee activity south australian police are expected to reveal details soon of their operations after three days of detainee riots meanwhile coalition of australian religious leaders is calling for greater intake of refugees leaders from christian islamic and jewish communities are meeting in melbourne in response to what they say is detention system out of step with religious values the reverend tim costello says it is important for christians to remember jesus was refugee he says australians need to look beyond the small number of trouble makers at the woomera centre if the taliban was such an evil government for us to go to war against and risk our boys dying then surely those fleeing that government deserve our compassion he said»\n",
      "\n",
      "LEAST (250, 0.9838523864746094): «israel launched massive air raids across the west bank and gaza tuesday piling pressure on yasser arafat with rocket strike on police post next to his offices after prime minister ariel sharon branded his administration sponsor of terrorism israeli warplanes launched series of strikes on gaza city while apache helicopters fired rockets on palestinian security offices in khan yunis in the southern gaza strip and on the west bank towns of salfit and tulkarem they also fired missiles on security post just metres from mr arafat offices in ramallah but the palestinian leader who was in his office at the time was unhurt but two policemen were slightly wounded officials said israeli army spokesman brigadier general ron kitrey said mr arafat was not targeted two people were killed in the gaza strikes and around injured half of them schoolboys palestinian hospital officials said the attacks came as israel foreign minister shimon peres said he did not believe israeli forces would take direct action against the palestinian leader the strikes also came day after mr sharon furious that mr arafat had not stopped hardline islamic groups who killed two dozen israelis in devastating suicide attacks at the weekend ordered his forces to blast symbols of mr arafat power gunships destroyed mr arafat three helicopters in gaza city while bulldozers ploughed up the runway at gaza international airport used by mr arafat for his frequent travels abroad palestinian officials called mr sharon campaign an attempt to topple mr arafat and destroy his self rule palestinian authority mr arafat told cnn television that mr sharon was trying to torpedo his own crackdown on terrorism with the airstrikes he doesn want me to succeed and for this he is escalating his military activities against our towns our cities our establishments the palestinian leader said french foreign minister hubert vedrine accused israel of conducting deliberate policy aimed at eliminating mr arafat arafat has been weakened by the harassment of the israeli army and as result people are using his weakness as an argument to say that since he can not re establish order in his own camp he should in some way be eliminated however britain prime minister tony blair and us president george bush expressed sympathy with israel and called on all sides to do anything they can to stabilise the situation mr sharon hard words and air strikes opened major divisions in his cross party government with left wing mr peres denouncing what he called bid during monday emergency cabinet meeting to cause the downfall of the palestinian authority the region had been braced for huge israeli retaliation after three palestinian suicide bombers from the hardline islamic movement hamas killed people on saturday and sunday in the suicide attacks in jerusalem and haifa mr sharon made national address after blasting gaza city and jenin in the west bank on monday accusing mr arafat of having chosen the path of terrorism and being the greatest obstacle to peace and stability in the middle east mr peres said the move by mr sharon dominant right wingers in effect means israeli policy is based purely on force with no political hope public radio said mr peres had called all the ministers from his labour party for special meeting wednesday to discuss the fallout of the strikes and mr sharon accusation that mr arafat was responsible for everything that has happened here chief palestinian negotiator saeb erakat speaking after mr sharon speech monday evening said the words amounted to declaration of war he called on the united states and europe to rein in mr sharon and dispatch international observers to oversee the spiralling conflict»\n",
      "\n"
     ]
    }
   ],
   "source": [
    "print('Document ({}): «{}»\\n'.format(doc_id, ' '.join(train_corpus[doc_id].words)))\n",
    "print(u'SIMILAR/DISSIMILAR DOCS PER MODEL %s:\\n' % model)\n",
    "for label, index in [('MOST', 0), ('MEDIAN', len(sims)//2), ('LEAST', len(sims) - 1)]:\n",
    "    print(u'%s %s: «%s»\\n' % (label, sims[index], ' '.join(train_corpus[sims[index][0]].words)))"
   ]
  },
  {
   "cell_type": "markdown",
   "metadata": {},
   "source": [
    "Notice above that the most similar document is has a similarity score of ~80% (or higher). However, the similarity score for the second ranked documents should be significantly lower (assuming the documents are in fact different) and the reasoning becomes obvious when we examine the text itself"
   ]
  },
  {
   "cell_type": "code",
   "execution_count": 19,
   "metadata": {
    "collapsed": false
   },
   "outputs": [
    {
     "name": "stdout",
     "output_type": "stream",
     "text": [
      "Train Document (231): «the us space shuttle endeavour has blasted off from the kennedy space centre en route to the international space station iss with replacement crew endeavour launch was delayed three times most recently by bad weather over the space centre yesterday the national aeronautics and space administration nasa had earlier pushed back the launch twice due to problems with the docking of russian cargo ship at the station rectified on monday by spacewalk completed by two russian cosmonauts the shuttle is taking to the station its fourth long term crew russian commander yuri onufrienko and americans carl walz and dan bursch and is due to return to earth on december with the current crew members who have been on the station since august the shuttle is also carrying the italian raffaello module laden with tonnes of equipment food supplies and materials for scientific experiments it was the first us space shuttle launch since september when hijacked airliners left around people dead and missing in new york washington and pennsylvania tight security surrounded the space centre during the launch»\n",
      "\n",
      "Similar Document (82, 0.9969801306724548): «the owner of nudist resort in south australia riverland is expecting hundreds of people from across australia to participate in his planned mass nude photo shoot following in the footsteps of american spencer tunick who has photographed large groups of people in the nude around the world pelican point nudist resort owner rex bakes wants to do the same at his lake bonney resort on january mr bakes says there has been lot of interest so far ve spoken to people in new south wales and victoria and in south australia so far and we even had priest and his wife coming from perth until today but unfortunately the poor man has had heart attack he said it has received lot of interest from all around the place but it all about people turning up on the day defence minister robert hill has provided further details of two australian men believed to have trained with the al qaeda terrorist network in afghanistan year old man thought to have entered afghanistan at the beginning of august has previously served with the australian army senator hill says the government believes the man suffered from depression and retired from the defence force the government says year old man left australia in march but it is not yet known when he entered afghanistan the man has no record of military service in australia authorities are continuing investigations into the men and their whereabouts but say neither man entered afghanistan with david hicks who is also accused of fighting alongside the taliban afghanistan interim government has agreed to accept strong multinational force for six months as the united nations geared up for vote authorising the force today disagreements between us allies over defining the mandate of the force and its relationship with the us military operation in afghanistan had held up vote on the resolution for days but un diplomats said last night resolution would be adopted by the member security council today or by early tomorrow at the latest in kabul mohammad qasim fahim defence minister in the interim administration to be inaugurated on saturday announced the agreement on the security force yesterday after talks with british military representatives he said the peacekeepers would only be allowed to stay for six months leaving when the six month mandate of the interim administration led by hamid karzai comes to an end after six months loya jirga assembly of afghan elders is to appoint new transitional government that will lead afghanistan into elections the un draft resolution defines the role of the peacekeeping as assisting the interim authority with the maintenance of security in kabul and its surrounding areas so that the afghan interim authority as well as the personnel of the united nations can operate in secure environment»\n",
      "\n"
     ]
    }
   ],
   "source": [
    "# Pick a random document from the test corpus and infer a vector from the model\n",
    "doc_id = random.randint(0, len(train_corpus))\n",
    "\n",
    "# Compare and print the most/median/least similar documents from the train corpus\n",
    "print('Train Document ({}): «{}»\\n'.format(doc_id, ' '.join(train_corpus[doc_id].words)))\n",
    "sim_id = second_ranks[doc_id]\n",
    "print('Similar Document {}: «{}»\\n'.format(sim_id, ' '.join(train_corpus[sim_id[0]].words)))"
   ]
  },
  {
   "cell_type": "markdown",
   "metadata": {},
   "source": [
    "## Testing the Model"
   ]
  },
  {
   "cell_type": "code",
   "execution_count": 20,
   "metadata": {
    "collapsed": false
   },
   "outputs": [
    {
     "name": "stdout",
     "output_type": "stream",
     "text": [
      "Test Document (12): «drug squad detectives have asked the police ombudsman to investigate the taskforce that is examining allegations of widespread corruption within the squad this coincides with the creation of special unit within the taskforce to track the spending of at least serving and former squad members the corruption taskforce codenamed ceja will check tax records and financial statements in bid to establish if any of the suspects have accrued unexplained wealth over the past seven years but drug squad detectives have countered with their own set of allegations complaining to the ombudsman that the internal investigation is flawed biased and over zealous»\n",
      "\n",
      "SIMILAR/DISSIMILAR DOCS PER MODEL Doc2Vec(dm/m,d50,n5,w5,mc2,s0.001,t3):\n",
      "\n",
      "MOST (143, 0.9983001351356506): «kashmiri militant groups denied involvement in thursday attack on the indian parliament accusing indian intelligence instead we want to make it clear that kashmiris have no connection with this attack said the muttahida jihad council mjc an alliance of groups fighting indian rule in kashmir we believe it was carried out by indian intelligence agencies to achieve their motives about the kashmir issue the groups added in statement the attack on the parliament building in new delhi left at least dead the indian authorities have not said who they believe was behind the killings but the kashmiri groups accused the indian government of masterminding the attack in bid to divert attention from what they called increasing international pressure over kashmir»\n",
      "\n",
      "MEDIAN (233, 0.9970880150794983): «three us troops and five members of the afghan opposition were killed by stray us bomb near kandahar in afghanistan the pentagon said the pentagon had earlier confirmed that two us special forces soldiers were killed and others wounded north of kandahar when bomber dropped pound bomb too close to them the was flying in support of opposition forces north of kandahar said pentagon spokeswoman victori clark we have an update since this morning and unfortunately the number of us forces killed is now three rival afghan factions signed an historic power sharing agreement to form post taliban government and set the country on the road to recovery and democracy after two decades of war the accord was sealed after nine days of exhausting negotiations and paves the way for six month interim administration headed by moderate muslim hamid karzai from the dominant pashtun ethnic group the deal gives the northern alliance control of three key portfolios in the member cabinet which includes two women and is due to be up and running by december it also gives symbolic role to the former king and provides for un security force for kabul the agreement was signed in the german city of bonn by the leaders of the four delegations and un special envoy for afghanistan lakhdar brahimi to applause from an audience which included german chancellor gerhard schroeder we were the champions of resistance and will be proud to be the champions of peace said yunus qanooni the northern alliance chief negotiator and the interim government interior minister delegate from the so called peshawar group sayed hamed gailani summed up the atmosphere in single phrase there are two things evident today yesterday rain does not have the courage to cry and the sun cannot hide its smile he said the appointment of karzai year old tribal pashtun tribal leader currently fighting the taliban near their last stronghold of kandahar was seen as an attempt to balance afghanistan delicate ethnic mix it cements whirlwind transformation in afghanistan fate since the september attacks on new york and washington the trigger for massive us air strikes that have dislodged the taliban militia from most of the country and put the northern alliance back on top showing the strain from nine days of frantic diplomacy brahimi recognised the accord was far from perfect and that its signatories were not fully representative of the afghan people»\n",
      "\n",
      "LEAST (250, 0.9907037615776062): «israel launched massive air raids across the west bank and gaza tuesday piling pressure on yasser arafat with rocket strike on police post next to his offices after prime minister ariel sharon branded his administration sponsor of terrorism israeli warplanes launched series of strikes on gaza city while apache helicopters fired rockets on palestinian security offices in khan yunis in the southern gaza strip and on the west bank towns of salfit and tulkarem they also fired missiles on security post just metres from mr arafat offices in ramallah but the palestinian leader who was in his office at the time was unhurt but two policemen were slightly wounded officials said israeli army spokesman brigadier general ron kitrey said mr arafat was not targeted two people were killed in the gaza strikes and around injured half of them schoolboys palestinian hospital officials said the attacks came as israel foreign minister shimon peres said he did not believe israeli forces would take direct action against the palestinian leader the strikes also came day after mr sharon furious that mr arafat had not stopped hardline islamic groups who killed two dozen israelis in devastating suicide attacks at the weekend ordered his forces to blast symbols of mr arafat power gunships destroyed mr arafat three helicopters in gaza city while bulldozers ploughed up the runway at gaza international airport used by mr arafat for his frequent travels abroad palestinian officials called mr sharon campaign an attempt to topple mr arafat and destroy his self rule palestinian authority mr arafat told cnn television that mr sharon was trying to torpedo his own crackdown on terrorism with the airstrikes he doesn want me to succeed and for this he is escalating his military activities against our towns our cities our establishments the palestinian leader said french foreign minister hubert vedrine accused israel of conducting deliberate policy aimed at eliminating mr arafat arafat has been weakened by the harassment of the israeli army and as result people are using his weakness as an argument to say that since he can not re establish order in his own camp he should in some way be eliminated however britain prime minister tony blair and us president george bush expressed sympathy with israel and called on all sides to do anything they can to stabilise the situation mr sharon hard words and air strikes opened major divisions in his cross party government with left wing mr peres denouncing what he called bid during monday emergency cabinet meeting to cause the downfall of the palestinian authority the region had been braced for huge israeli retaliation after three palestinian suicide bombers from the hardline islamic movement hamas killed people on saturday and sunday in the suicide attacks in jerusalem and haifa mr sharon made national address after blasting gaza city and jenin in the west bank on monday accusing mr arafat of having chosen the path of terrorism and being the greatest obstacle to peace and stability in the middle east mr peres said the move by mr sharon dominant right wingers in effect means israeli policy is based purely on force with no political hope public radio said mr peres had called all the ministers from his labour party for special meeting wednesday to discuss the fallout of the strikes and mr sharon accusation that mr arafat was responsible for everything that has happened here chief palestinian negotiator saeb erakat speaking after mr sharon speech monday evening said the words amounted to declaration of war he called on the united states and europe to rein in mr sharon and dispatch international observers to oversee the spiralling conflict»\n",
      "\n"
     ]
    }
   ],
   "source": [
    "# Pick a random document from the test corpus and infer a vector from the model\n",
    "doc_id = random.randint(0, len(test_corpus))\n",
    "inferred_vector = model.infer_vector(test_corpus[doc_id])\n",
    "sims = model.docvecs.most_similar([inferred_vector], topn=len(model.docvecs))\n",
    "\n",
    "# Compare and print the most/median/least similar documents from the train corpus\n",
    "print('Test Document ({}): «{}»\\n'.format(doc_id, ' '.join(test_corpus[doc_id])))\n",
    "print(u'SIMILAR/DISSIMILAR DOCS PER MODEL %s:\\n' % model)\n",
    "for label, index in [('MOST', 0), ('MEDIAN', len(sims)//2), ('LEAST', len(sims) - 1)]:\n",
    "    print(u'%s %s: «%s»\\n' % (label, sims[index], ' '.join(train_corpus[sims[index][0]].words)))"
   ]
  },
  {
   "cell_type": "markdown",
   "metadata": {},
   "source": [
    "## Wrapping Up\n",
    "That's it! Doc2Vec is a great way to explore relationships between documents."
   ]
  },
  {
   "cell_type": "markdown",
   "metadata": {},
   "source": [
    "---\n",
    "\n",
    "# Try our Amazon Reviews!"
   ]
  },
  {
   "cell_type": "code",
   "execution_count": 24,
   "metadata": {
    "collapsed": false
   },
   "outputs": [],
   "source": [
    "A_train = test_data_dir + os.sep + 'Atrain.csv'\n",
    "A_test = test_data_dir + os.sep + 'Atest.csv'"
   ]
  },
  {
   "cell_type": "code",
   "execution_count": 25,
   "metadata": {
    "collapsed": false
   },
   "outputs": [],
   "source": [
    "Atrain_corpus = list(read_corpus(A_train))\n",
    "Atest_corpus = list(read_corpus(A_test, tokens_only=True))"
   ]
  },
  {
   "cell_type": "code",
   "execution_count": 27,
   "metadata": {
    "collapsed": false
   },
   "outputs": [
    {
     "data": {
      "text/plain": [
       "[TaggedDocument(words=['ve', 'owned', 'some', 'type', 'of', 'dustbuster', 'handvac', 'for', 'the', 'last', 'twenty', 'years', 'and', 'don', 'think', 've', 'ever', 'ever', 'had', 'one', 'that', 'didn', 'hate', 'too', 'little', 'suction', 'power', 'not', 'enough', 'charge', 'time', 'the', 'suction', 'nozzle', 'is', 'awkward', 'to', 'use', 'and', 'the', 'batteries', 'are', 'always', 'dead', 'after', 'couple', 'minutes', 'can', 'keep', 'them', 'plugged', 'into', 'the', 'wall', 'all', 'the', 'time', 'but', 'that', 'kills', 'the', 'battery', 'and', 'wastes', 'electricity', 'have', 'found', 'it', 'much', 'more', 'effective', 'to', 'just', 'use', 'the', 'suction', 'hose', 'on', 'my', 'upright', 'even', 'though', 'that', 'means', 'lugging', 'my', 'vacuum', 'around', 'so', 'decided', 'to', 'see', 'what', 'is', 'new', 'in', 'handvac', 'technology', 'and', 'if', 'they', 'have', 'improved', 'at', 'all', 'over', 'the', 'last', 'ten', 'years', 'fortunately', 'can', 'say', 'that', 'they', 'have', 'the', 'black', 'and', 'decker', 'lithium', 'ion', 'dustbuster', 'is', 'the', 'same', 'handvac', 'as', 'the', 'black', 'decker', 'chv', 'dustbuster', 'volt', 'cordless', 'cyclonic', 'hand', 'vac', 'except', 'it', 'contains', 'lithium', 'ion', 'lib', 'battery', 'whereas', 'the', 'standard', 'chv', 'contains', 'nickel', 'cadmium', 'ni', 'cd', 'battery', 'if', 'you', 're', 'trying', 'to', 'decide', 'between', 'the', 'two', 'devices', 'would', 'recommend', 'this', 'lithium', 'ion', 'model', 'due', 'to', 'the', 'advantages', 'of', 'the', 'battery', 'higher', 'energy', 'density', 'this', 'means', 'that', 'the', 'lib', 'battery', 'can', 'hold', 'more', 'energy', 'per', 'volume', 'in', 'this', 'case', 'the', 'chv', 'holds', 'about', 'twice', 'the', 'amount', 'of', 'energy', 'as', 'the', 'chv', 'greater', 'power', 'density', 'this', 'refers', 'to', 'bursts', 'of', 'power', 'the', 'battery', 'is', 'capable', 'it', 'works', 'well', 'when', 'combined', 'with', 'the', 'higher', 'energy', 'density', 'mentioned', 'above', 'no', 'memory', 'effect', 'this', 'is', 'something', 'you', 'might', 'have', 'noticed', 'with', 'ni', 'cd', 'battery', 'these', 'batteries', 'work', 'best', 'when', 'you', 'fully', 'discharge', 'the', 'battery', 'and', 'then', 'recharge', 'it', 'with', 'dustbuster', 'you', 're', 'almost', 'never', 'going', 'to', 'do', 'this', 'you', 'll', 'use', 'it', 'for', 'few', 'minutes', 'then', 'put', 'it', 'back', 'on', 'the', 'mount', 'to', 'charge', 'this', 'can', 'sometimes', 'product', 'memory', 'effect', 'where', 'the', 'cadmium', 'inside', 'the', 'battery', 'forms', 'crystals', 'and', 'the', 'battery', 'will', 'hold', 'less', 'of', 'charge', 'lib', 'battery', 'does', 'not', 'experience', 'memory', 'effect', 'non', 'toxic', 'ni', 'cd', 'batteries', 'are', 'toxic', 'and', 'classified', 'as', 'hazardous', 'lib', 'aren', 'so', 'disposal', 'is', 'much', 'better', 'for', 'the', 'environment', 'lib', 'do', 'have', 'couple', 'small', 'disadvantages', 'but', 'in', 'this', 'application', 'and', 'with', 'the', 'frequent', 'recharging', 'the', 'dustbuster', 'will', 'see', 'feel', 'that', 'it', 'is', 'definitely', 'the', 'right', 'choice', 'not', 'to', 'mention', 'the', 'toxicity', 'factor', 'alone', 'makes', 'me', 'feel', 'better', 'about', 'using', 'this', 'type', 'of', 'battery', 'use', 'and', 'operation', 'evaluated', 'both', 'the', 'chv', 'and', 'the', 'standard', 'chv', 'at', 'the', 'same', 'time', 'to', 'see', 'what', 'the', 'real', 'difference', 'was', 'between', 'the', 'devices', 'and', 'how', 'the', 'battery', 'affected', 'them', 'the', 'main', 'thing', 'like', 'about', 'the', 'chv', 'does', 'have', 'to', 'do', 'with', 'the', 'battery', 'it', 'will', 'supposedly', 'hold', 'charge', 'for', 'up', 'to', 'months', 'can', 'confirm', 'if', 'this', 'is', 'true', 'but', 'the', 'first', 'time', 'had', 'it', 'gave', 'it', 'full', 'charge', 'and', 'then', 'removed', 'it', 'from', 'the', 'power', 'source', 'and', 'let', 'it', 'sit', 'uncharged', 'for', 'days', 'when', 'tried', 'it', 'out', 'it', 'seemed', 'to', 'be', 'completely', 'charged', 'and', 'worked', 'great', 'with', 'my', 'previous', 'dustbuster', 'it', 'would', 'have', 'been', 'dead', 'after', 'two', 'days', 'did', 'the', 'same', 'day', 'test', 'with', 'the', 'chv', 'although', 'it', 'did', 'still', 'have', 'powerful', 'charge', 'in', 'it', 'and', 'seemed', 'to', 'work', 'fine', 'did', 'notice', 'it', 'was', 'less', 'powerful', 'than', 'the', 'chv', 'tested', 'this', 'by', 'putting', 'two', 'small', 'styrofoam', 'balls', 'in', 'front', 'of', 'the', 'dustbusters', 'at', 'specific', 'distance', 'and', 'then', 'gradually', 'moved', 'the', 'dustbusters', 'closer', 'to', 'the', 'peanuts', 'until', 'they', 'sucked', 'them', 'up', 'in', 'repeated', 'tests', 'the', 'chv', 'grabbed', 'the', 'ball', 'slightly', 'before', 'the', 'chv', 'demonstrating', 'more', 'power', 'for', 'the', 'remainder', 'of', 'my', 'use', 'and', 'testing', 'the', 'two', 'units', 'performed', 'the', 'same', 'the', 'main', 'thing', 'noticed', 'about', 'using', 'the', 'dustbuster', 'is', 'how', 'powerful', 'it', 'is', 'was', 'not', 'expecting', 'much', 'out', 'of', 'it', 'but', 'it', 'performed', 'almost', 'as', 'well', 'as', 'my', 'upright', 'it', 'has', 'narrow', 'opening', 'on', 'the', 'front', 'of', 'it', 'to', 'concentrate', 'more', 'of', 'the', 'power', 'that', 'little', 'green', 'piece', 'on', 'the', 'end', 'pulls', 'out', 'and', 'extends', 'the', 'dustbuster', 'so', 'you', 'can', 'get', 'in', 'hard', 'to', 'reach', 'places', 'this', 'worked', 'great', 'for', 'cobwebs', 'and', 'getting', 'dust', 'from', 'under', 'furniture', 'like', 'sofas', 'and', 'dressers', 'the', 'crevice', 'tool', 'also', 'has', 'small', 'brush', 'attached', 'to', 'it', 'tried', 'it', 'out', 'on', 'sofa', 'covered', 'in', 'dog', 'hair', 'but', 'did', 'not', 'find', 'that', 'the', 'brush', 'helped', 'much', 'at', 'all', 'it', 'was', 'just', 'as', 'easy', 'to', 'use', 'it', 'without', 'the', 'brush', 'the', 'only', 'way', 'see', 'that', 'the', 'brush', 'might', 'be', 'handy', 'is', 'for', 'my', 'ceiling', 'fans', 'which', 'allows', 'me', 'to', 'press', 'down', 'on', 'the', 'crevice', 'tool', 'without', 'pressing', 'into', 'the', 'blade', 'otherwise', 'it', 'not', 'very', 'useful', 'cleaning', 'the', 'chv', 'is', 'very', 'easy', 'to', 'clean', 'it', 'bagless', 'and', 'uses', 'plastic', 'filter', 'you', 'just', 'press', 'in', 'the', 'tabs', 'and', 'it', 'unlocks', 'and', 'you', 'can', 'shake', 'it', 'out', 'into', 'trash', 'can', 'one', 'problem', 'did', 'have', 'with', 'it', 'is', 'that', 'dog', 'hair', 'seemed', 'to', 'collect', 'in', 'the', 'filter', 'holes', 'and', 'had', 'to', 'pull', 'these', 'out', 'by', 'hand', 'but', 've', 'used', 'lot', 'of', 'bagless', 'vacuums', 'like', 'this', 'with', 'these', 'types', 'of', 'filters', 'and', 'would', 'say', 'this', 'is', 'one', 'of', 'the', 'easier', 'ones', 'to', 'clean', 'overall', 'very', 'happy', 'with', 'the', 'chv', 'and', 'plan', 'to', 'use', 'it', 'for', 'almost', 'everything', 'was', 'using', 'my', 'upright', 'for', 'which', 'will', 'save', 'me', 'lot', 'of', 'time', 'not', 'having', 'to', 'drag', 'it', 'out', 'of', 'the', 'closet', 'and', 'plug', 'it', 'in', 'the', 'only', 'real', 'negative', 'have', 'with', 'it', 'is', 'that', 'it', 'fairly', 'loud', 'which', 'guess', 'is', 'to', 'be', 'expected', 'for', 'something', 'so', 'powerful', 'update', 'december', 'it', 'been', 'almost', 'two', 'years', 'and', 'the', 'battery', 'on', 'this', 'dust', 'buster', 'is', 'still', 'going', 'strong', 'use', 'it', 'maybe', 'twice', 'week', 'for', 'total', 'of', 'about', 'minutes'], tags=[0]),\n",
       " TaggedDocument(words=['awesome', 'power', 'at', 'first', 'did', 'not', 'like', 'the', 'fact', 'that', 'it', 'could', 'not', 'be', 'hung', 'up', 'on', 'the', 'wall', 'with', 'the', 'charger', 'plugging', 'into', 'it', 'like', 'my', 'previous', 'dustbusters', 'didn', 'have', 'extra', 'tabletop', 'space', 'to', 'store', 'it', 'flat', 'but', 'once', 'found', 'spot', 'for', 'it', 'it', 'is', 'nice', 'to', 'just', 'rest', 'it', 'on', 'its', 'base', 'and', 'not', 'deal', 'with', 'wires', 'and', 'decisions', 'to', 'connect', 'to', 'charger', 'or', 'not', 'it', 'just', 'is', 'always', 'fully', 'charged', 'have', 'not', 'yet', 'experienced', 'it', 'running', 'out', 'of', 'power', 'during', 'pickup', 'session', 'altho', 'do', 'tend', 'to', 'just', 'use', 'it', 'for', 'quickie', 'pickups', 'plan', 'to', 'push', 'its', 'limits', 'in', 'the', 'future', 'to', 'see', 'just', 'how', 'long', 'it', 'can', 'run', 'on', 'full', 'charge', 'the', 'fact', 'that', 'it', 'is', 'lithium', 'ion', 'is', 'great', 'that', 'it', 'should', 'last', 'longer', 'and', 'perform', 'better', 'than', 'previous', 'nicad', 'batteries', 'after', 'few', 'years', 'the', 'old', 'style', 'dustbusters', 'just', 'don', 'take', 'charge', 'well', 'fyi', 'used', 'two', 'fat', 'shaped', 'hooks', 'mounted', 'few', 'inches', 'apart', 'on', 'the', 'wall', 'to', 'create', 'platform', 'for', 'the', 'vac', 'll', 'post', 'picture', 'if', 'don', 'see', 'similar', 'pic'], tags=[1])]"
      ]
     },
     "execution_count": 27,
     "metadata": {},
     "output_type": "execute_result"
    }
   ],
   "source": [
    "Atrain_corpus[:2]"
   ]
  },
  {
   "cell_type": "code",
   "execution_count": 29,
   "metadata": {
    "collapsed": false
   },
   "outputs": [
    {
     "name": "stdout",
     "output_type": "stream",
     "text": [
      "[['very', 'good', 'suction', 'and', 'the', 'battery', 'doesn', 'fade', 'while', 'being', 'used', 'very', 'impressed', 'and', 'will', 'only', 'use', 'this', 'type', 'of', 'dust', 'buster', 'going', 'forward'], ['plan', 'on', 'buying', 'this', 'for', 'both', 'of', 'my', 'children', 'it', 'is', 'great', 'for', 'vacuuming', 'out', 'my', 'car', 'use', 'this', 'every', 'day', 'and', 'it', 'has', 'good', 'strong', 'charge']]\n"
     ]
    }
   ],
   "source": [
    "print(Atest_corpus[:2])"
   ]
  },
  {
   "cell_type": "code",
   "execution_count": 30,
   "metadata": {
    "collapsed": true
   },
   "outputs": [],
   "source": [
    "Amodel = gensim.models.doc2vec.Doc2Vec(size=100, min_count=5, iter=100)"
   ]
  },
  {
   "cell_type": "code",
   "execution_count": 31,
   "metadata": {
    "collapsed": true
   },
   "outputs": [],
   "source": [
    "Amodel.build_vocab(Atrain_corpus)"
   ]
  },
  {
   "cell_type": "code",
   "execution_count": 32,
   "metadata": {
    "collapsed": false
   },
   "outputs": [
    {
     "name": "stdout",
     "output_type": "stream",
     "text": [
      "Wall time: 26.1 s\n"
     ]
    },
    {
     "data": {
      "text/plain": [
       "20566587"
      ]
     },
     "execution_count": 32,
     "metadata": {},
     "output_type": "execute_result"
    }
   ],
   "source": [
    "%time Amodel.train(Atrain_corpus)"
   ]
  },
  {
   "cell_type": "code",
   "execution_count": 33,
   "metadata": {
    "collapsed": true
   },
   "outputs": [],
   "source": [
    "Aranks = []\n",
    "Asecond_ranks = []\n",
    "for doc_id in range(len(Atrain_corpus)):\n",
    "    inferred_vector = Amodel.infer_vector(Atrain_corpus[doc_id].words)\n",
    "    sims = Amodel.docvecs.most_similar([inferred_vector], topn=len(Amodel.docvecs))\n",
    "    Arank = [docid for docid, sim in sims].index(doc_id)\n",
    "    Aranks.append(Arank)\n",
    "    \n",
    "    Asecond_ranks.append(sims[1])"
   ]
  },
  {
   "cell_type": "code",
   "execution_count": 34,
   "metadata": {
    "collapsed": false
   },
   "outputs": [
    {
     "name": "stdout",
     "output_type": "stream",
     "text": [
      "Document (4499): «it is strong vacuum cleaner it is easy to use it gets charged fast and you use it quite long very affordable convenient and handy»\n",
      "\n",
      "SIMILAR/DISSIMILAR DOCS PER MODEL Doc2Vec(dm/m,d100,n5,w5,mc5,s0.001,t3):\n",
      "\n",
      "MOST (4499, 0.7602863311767578): «it is strong vacuum cleaner it is easy to use it gets charged fast and you use it quite long very affordable convenient and handy»\n",
      "\n",
      "MEDIAN (1981, 0.3023831844329834): «fills up quickly and gets kind of clogged if you are cleaning up cat hair but works quite well most of the time seems like the brush is going to wear out quickly but time will tell plenty of power good unit like the upright storage base this is my first one so have nothing to compare it to but sure like having it»\n",
      "\n",
      "LEAST (131, -0.015795066952705383): «this here black decker bust duster really saved my hash was at home by myself over weekend while my wife was away at work conference while she was gone thought try to make some chocolate from scratch with bunch of organic materials didn know what those ingredients were and decided not to do that so decided drink some absinthe instead the real way had gotten bottle from friend of mine that had never opened because my wife didn want me to have psychotic episode in front of her but since she wasn there figured would give it try poured some absinthe into glass and placed knife across the top didn have one of those absinthe spoons put sugar cube on top of the knife and dripped some cold water over it don know if that worked the way it supposed to work but drank it didn feel too bad just like would after drinking some vodka so had second glass still felt pretty good so had third glass and kind of remember counting backwards for no reason when woke up the next door neighbor elmer was lying on my living room floor next to me with bowl of popcorn between us we each only had one shoe on though and there was popcorn everywhere woke him up and he told me he came over because he wanted to tell me to turn the music down but he had couple glasses of absinthe with me and then he remembered he started counting backwards that crazy right anyway it was sunday and my wife was coming back that day and luckily amazon delivers on sundays and also luckily my wife had ordered this vacuum because our other vacuum was broken opened the box and used the vacuum to vacuum up all the popcorn and kernels couldn see it also scooped up all the crushed sugar cubes on the kitchen floor all had to do was pop the canister out and empty all the evidence into trash bag and then into the trash can and then hopefully into the trash truck on trash day without her noticing that we had some extra trash in the trash can that week she never noticed when elmer saw how well the vacuum worked he said he was going to order one too»\n",
      "\n"
     ]
    }
   ],
   "source": [
    "print('Document ({}): «{}»\\n'.format(doc_id, ' '.join(Atrain_corpus[doc_id].words)))\n",
    "print(u'SIMILAR/DISSIMILAR DOCS PER MODEL %s:\\n' % Amodel)\n",
    "for label, index in [('MOST', 0), ('MEDIAN', len(sims)//2), ('LEAST', len(sims) - 1)]:\n",
    "    print(u'%s %s: «%s»\\n' % (label, sims[index], ' '.join(Atrain_corpus[sims[index][0]].words)))"
   ]
  },
  {
   "cell_type": "code",
   "execution_count": 36,
   "metadata": {
    "collapsed": false
   },
   "outputs": [
    {
     "name": "stdout",
     "output_type": "stream",
     "text": [
      "Train Document (1665): «was really hopeful about this vacuum it works well but its slightly disappointing in that bought it specifically for husky hair on my couch and it doesn do whole lot about that even with full battery and clean filter the cavity for debris is also bit small and find myself emptying it regularly the most useful thing have been doing with it lately is vacuuming up my sweeping piles oh well»\n",
      "\n",
      "Similar Document (3515, 0.6362065076828003): «very pleased with purchase quick delivery»\n",
      "\n"
     ]
    }
   ],
   "source": [
    "# Pick a random document from the test corpus and infer a vector from the model\n",
    "doc_id = random.randint(0, len(Atrain_corpus))\n",
    "\n",
    "# Compare and print the most/median/least similar documents from the train corpus\n",
    "print('Train Document ({}): «{}»\\n'.format(doc_id, ' '.join(Atrain_corpus[doc_id].words)))\n",
    "sim_id = Asecond_ranks[doc_id]\n",
    "print('Similar Document {}: «{}»\\n'.format(sim_id, ' '.join(Atrain_corpus[sim_id[0]].words)))"
   ]
  },
  {
   "cell_type": "code",
   "execution_count": 38,
   "metadata": {
    "collapsed": false
   },
   "outputs": [
    {
     "name": "stdout",
     "output_type": "stream",
     "text": [
      "Test Document (3659): «very little suction»\n",
      "\n",
      "SIMILAR/DISSIMILAR DOCS PER MODEL Doc2Vec(dm/m,d100,n5,w5,mc5,s0.001,t3):\n",
      "\n",
      "MOST (3547, 0.7797701954841614): «very strong suction works amazingly»\n",
      "\n",
      "MEDIAN (1541, 0.29992538690567017): «the design is compact the charging station is handy but all in all it does not have all that muchsuction power it will pick up little dust motes in the back of drawer but didn do much forcleaning the crevices in my car»\n",
      "\n",
      "LEAST (1228, 0.06226041540503502): «after trying other brands and being disappointed now just automatically update my when the suction on the old one goes use my vacuum so many times day should have holster for it this version is down from star rating because of the charging base it is hard to find place for since it has to store upright and it awkward to get properly seated on the base why did they change from such simple recharging system on the last series was so happy to be done with the old bulky wall mount now it bulky shelf mount still the most powerful suction you can find in handheld»\n",
      "\n"
     ]
    }
   ],
   "source": [
    "# Pick a random document from the test corpus and infer a vector from the model\n",
    "doc_id = random.randint(0, len(Atest_corpus))\n",
    "inferred_vector = Amodel.infer_vector(Atest_corpus[doc_id])\n",
    "sims = Amodel.docvecs.most_similar([inferred_vector], topn=len(Amodel.docvecs))\n",
    "\n",
    "# Compare and print the most/median/least similar documents from the train corpus\n",
    "print('Test Document ({}): «{}»\\n'.format(doc_id, ' '.join(Atest_corpus[doc_id])))\n",
    "print(u'SIMILAR/DISSIMILAR DOCS PER MODEL %s:\\n' % Amodel)\n",
    "for label, index in [('MOST', 0), ('MEDIAN', len(sims)//2), ('LEAST', len(sims) - 1)]:\n",
    "    print(u'%s %s: «%s»\\n' % (label, sims[index], ' '.join(Atrain_corpus[sims[index][0]].words)))"
   ]
  },
  {
   "cell_type": "markdown",
   "metadata": {},
   "source": [
    "訓練樣本太少效果很差呀XDDDDDDDDDDDD"
   ]
  },
  {
   "cell_type": "code",
   "execution_count": null,
   "metadata": {
    "collapsed": true
   },
   "outputs": [],
   "source": []
  }
 ],
 "metadata": {
  "anaconda-cloud": {},
  "kernelspec": {
   "display_name": "Python [default]",
   "language": "python",
   "name": "python3"
  },
  "language_info": {
   "codemirror_mode": {
    "name": "ipython",
    "version": 3
   },
   "file_extension": ".py",
   "mimetype": "text/x-python",
   "name": "python",
   "nbconvert_exporter": "python",
   "pygments_lexer": "ipython3",
   "version": "3.5.2"
  }
 },
 "nbformat": 4,
 "nbformat_minor": 1
}
