{
 "cells": [
  {
   "cell_type": "markdown",
   "metadata": {},
   "source": [
    "# Getting Started with gensim"
   ]
  },
  {
   "cell_type": "markdown",
   "metadata": {},
   "source": [
    "https://github.com/RaRe-Technologies/gensim/blob/develop/docs/notebooks/gensim%20Quick%20Start.ipynb"
   ]
  },
  {
   "cell_type": "code",
   "execution_count": 1,
   "metadata": {
    "collapsed": true
   },
   "outputs": [],
   "source": [
    "raw_corpus = [\"Human machine interface for lab abc computer applications\",\n",
    "             \"A survey of user opinion of computer system response time\",\n",
    "             \"The EPS user interface management system\",\n",
    "             \"System and human system engineering testing of EPS\",              \n",
    "             \"Relation of user perceived response time to error measurement\",\n",
    "             \"The generation of random binary unordered trees\",\n",
    "             \"The intersection graph of paths in trees\",\n",
    "             \"Graph minors IV Widths of trees and well quasi ordering\",\n",
    "             \"Graph minors A survey\"]"
   ]
  },
  {
   "cell_type": "code",
   "execution_count": 8,
   "metadata": {
    "collapsed": false
   },
   "outputs": [
    {
     "data": {
      "text/plain": [
       "{'a', 'and', 'for', 'in', 'of', 'the', 'to'}"
      ]
     },
     "execution_count": 8,
     "metadata": {},
     "output_type": "execute_result"
    }
   ],
   "source": [
    "# Create a set of frequent words\n",
    "stoplist = set('for a of the and to in'.split(' '))\n",
    "stoplist"
   ]
  },
  {
   "cell_type": "code",
   "execution_count": 9,
   "metadata": {
    "collapsed": false
   },
   "outputs": [
    {
     "data": {
      "text/plain": [
       "[['human', 'machine', 'interface', 'lab', 'abc', 'computer', 'applications'],\n",
       " ['survey', 'user', 'opinion', 'computer', 'system', 'response', 'time'],\n",
       " ['eps', 'user', 'interface', 'management', 'system'],\n",
       " ['system', 'human', 'system', 'engineering', 'testing', 'eps'],\n",
       " ['relation', 'user', 'perceived', 'response', 'time', 'error', 'measurement'],\n",
       " ['generation', 'random', 'binary', 'unordered', 'trees'],\n",
       " ['intersection', 'graph', 'paths', 'trees'],\n",
       " ['graph', 'minors', 'iv', 'widths', 'trees', 'well', 'quasi', 'ordering'],\n",
       " ['graph', 'minors', 'survey']]"
      ]
     },
     "execution_count": 9,
     "metadata": {},
     "output_type": "execute_result"
    }
   ],
   "source": [
    "# Lowercase each document, split it by white space and filter out stopwords\n",
    "texts = [[word for word in document.lower().split() if word not in stoplist]\n",
    "         for document in raw_corpus]\n",
    "texts"
   ]
  },
  {
   "cell_type": "code",
   "execution_count": 15,
   "metadata": {
    "collapsed": false
   },
   "outputs": [
    {
     "data": {
      "text/plain": [
       "defaultdict(int, {})"
      ]
     },
     "execution_count": 15,
     "metadata": {},
     "output_type": "execute_result"
    }
   ],
   "source": [
    "# Count word frequencies\n",
    "from collections import defaultdict\n",
    "frequency = defaultdict(int)\n",
    "frequency"
   ]
  },
  {
   "cell_type": "code",
   "execution_count": 11,
   "metadata": {
    "collapsed": false
   },
   "outputs": [
    {
     "name": "stdout",
     "output_type": "stream",
     "text": [
      "1\n",
      "1\n",
      "1\n",
      "1\n",
      "1\n",
      "1\n",
      "1\n",
      "1\n",
      "1\n",
      "1\n",
      "2\n",
      "1\n",
      "1\n",
      "1\n",
      "1\n",
      "2\n",
      "2\n",
      "1\n",
      "2\n",
      "3\n",
      "2\n",
      "4\n",
      "1\n",
      "1\n",
      "2\n",
      "1\n",
      "3\n",
      "1\n",
      "2\n",
      "2\n",
      "1\n",
      "1\n",
      "1\n",
      "1\n",
      "1\n",
      "1\n",
      "1\n",
      "1\n",
      "1\n",
      "1\n",
      "2\n",
      "2\n",
      "1\n",
      "1\n",
      "1\n",
      "3\n",
      "1\n",
      "1\n",
      "1\n",
      "3\n",
      "2\n",
      "2\n"
     ]
    }
   ],
   "source": [
    "for text in texts:\n",
    "    for token in text:\n",
    "        frequency[token] += 1\n",
    "        print(frequency[token])"
   ]
  },
  {
   "cell_type": "code",
   "execution_count": 6,
   "metadata": {
    "collapsed": false
   },
   "outputs": [
    {
     "data": {
      "text/plain": [
       "[['human', 'interface', 'computer'],\n",
       " ['survey', 'user', 'computer', 'system', 'response', 'time'],\n",
       " ['eps', 'user', 'interface', 'system'],\n",
       " ['system', 'human', 'system', 'eps'],\n",
       " ['user', 'response', 'time'],\n",
       " ['trees'],\n",
       " ['graph', 'trees'],\n",
       " ['graph', 'minors', 'trees'],\n",
       " ['graph', 'minors', 'survey']]"
      ]
     },
     "execution_count": 6,
     "metadata": {},
     "output_type": "execute_result"
    }
   ],
   "source": [
    "# Only keep words that appear more than once\n",
    "processed_corpus = [[token for token in text if frequency[token] > 1] for text in texts]\n",
    "processed_corpus"
   ]
  },
  {
   "cell_type": "code",
   "execution_count": 17,
   "metadata": {
    "collapsed": false
   },
   "outputs": [
    {
     "name": "stderr",
     "output_type": "stream",
     "text": [
      "C:\\Users\\Student\\Anaconda3\\lib\\site-packages\\gensim\\utils.py:855: UserWarning: detected Windows; aliasing chunkize to chunkize_serial\n",
      "  warnings.warn(\"detected Windows; aliasing chunkize to chunkize_serial\")\n"
     ]
    },
    {
     "name": "stdout",
     "output_type": "stream",
     "text": [
      "Dictionary(12 unique tokens: ['human', 'minors', 'graph', 'response', 'interface']...)\n"
     ]
    }
   ],
   "source": [
    "from gensim import corpora\n",
    "\n",
    "dictionary = corpora.Dictionary(processed_corpus)\n",
    "print(dictionary)"
   ]
  },
  {
   "cell_type": "code",
   "execution_count": 18,
   "metadata": {
    "collapsed": false
   },
   "outputs": [
    {
     "name": "stdout",
     "output_type": "stream",
     "text": [
      "{'human': 0, 'minors': 11, 'graph': 10, 'response': 4, 'interface': 1, 'trees': 9, 'computer': 2, 'system': 3, 'survey': 5, 'time': 7, 'user': 6, 'eps': 8}\n"
     ]
    }
   ],
   "source": [
    "print(dictionary.token2id)"
   ]
  },
  {
   "cell_type": "code",
   "execution_count": 20,
   "metadata": {
    "collapsed": false
   },
   "outputs": [
    {
     "data": {
      "text/plain": [
       "[(0, 1), (2, 1)]"
      ]
     },
     "execution_count": 20,
     "metadata": {},
     "output_type": "execute_result"
    }
   ],
   "source": [
    "new_doc = \"Human computer interaction\"\n",
    "new_vec = dictionary.doc2bow(new_doc.lower().split())\n",
    "new_vec"
   ]
  },
  {
   "cell_type": "markdown",
   "metadata": {},
   "source": [
    "Note that \"interaction\" did not occur in the original corpus and so it was not included in the vectorization. Also note that this vector only contains entries for words that actually appeared in the document. Because any given document will only contain a few words out of the many words in the dictionary, words that do not appear in the vectorization are represented as implicitly zero as a space saving measure."
   ]
  },
  {
   "cell_type": "code",
   "execution_count": 22,
   "metadata": {
    "collapsed": false
   },
   "outputs": [
    {
     "data": {
      "text/plain": [
       "[[(0, 1), (1, 1), (2, 1)],\n",
       " [(2, 1), (3, 1), (4, 1), (5, 1), (6, 1), (7, 1)],\n",
       " [(1, 1), (3, 1), (6, 1), (8, 1)],\n",
       " [(0, 1), (3, 2), (8, 1)],\n",
       " [(4, 1), (6, 1), (7, 1)],\n",
       " [(9, 1)],\n",
       " [(9, 1), (10, 1)],\n",
       " [(9, 1), (10, 1), (11, 1)],\n",
       " [(5, 1), (10, 1), (11, 1)]]"
      ]
     },
     "execution_count": 22,
     "metadata": {},
     "output_type": "execute_result"
    }
   ],
   "source": [
    "bow_corpus = [dictionary.doc2bow(text) for text in processed_corpus]\n",
    "bow_corpus"
   ]
  },
  {
   "cell_type": "markdown",
   "metadata": {},
   "source": [
    "Now that we have vectorized our corpus we can begin to transform it using models. We use model as an abstract term referring to a transformation from one document representation to another. In gensim documents are represented as vectors so a model can be thought of as a transformation between two vector spaces. The details of this transformation are learned from the training corpus.\n",
    "One simple example of a model is tf-idf. The tf-idf model transforms vectors from the bag-of-words representation to a vector space where the frequency counts are weighted according to the relative rarity of each word in the corpus."
   ]
  },
  {
   "cell_type": "code",
   "execution_count": 25,
   "metadata": {
    "collapsed": false
   },
   "outputs": [
    {
     "data": {
      "text/plain": [
       "[(3, 0.5898341626740045), (11, 0.8075244024440723)]"
      ]
     },
     "execution_count": 25,
     "metadata": {},
     "output_type": "execute_result"
    }
   ],
   "source": [
    "from gensim import models\n",
    "# train the model\n",
    "tfidf = models.TfidfModel(bow_corpus)\n",
    "# transform the \"system minors\" sting\n",
    "tfidf[dictionary.doc2bow(\"system minors\".lower().split())]"
   ]
  },
  {
   "cell_type": "markdown",
   "metadata": {},
   "source": [
    "# Word2vec Tutorial"
   ]
  },
  {
   "cell_type": "markdown",
   "metadata": {},
   "source": [
    "https://github.com/RaRe-Technologies/gensim/blob/develop/docs/notebooks/word2vec.ipynb"
   ]
  },
  {
   "cell_type": "code",
   "execution_count": 38,
   "metadata": {
    "collapsed": false
   },
   "outputs": [
    {
     "name": "stderr",
     "output_type": "stream",
     "text": [
      "2017-01-05 21:15:45,981 : INFO : collecting all words and their counts\n",
      "2017-01-05 21:15:45,981 : INFO : PROGRESS: at sentence #0, processed 0 words, keeping 0 word types\n",
      "2017-01-05 21:15:45,981 : INFO : collected 3 word types from a corpus of 4 raw words and 2 sentences\n",
      "2017-01-05 21:15:45,981 : INFO : Loading a fresh vocabulary\n",
      "2017-01-05 21:15:45,981 : INFO : min_count=1 retains 3 unique words (100% of original 3, drops 0)\n",
      "2017-01-05 21:15:45,997 : INFO : min_count=1 leaves 4 word corpus (100% of original 4, drops 0)\n",
      "2017-01-05 21:15:45,998 : INFO : deleting the raw counts dictionary of 3 items\n",
      "2017-01-05 21:15:45,998 : INFO : sample=0.001 downsamples 3 most-common words\n",
      "2017-01-05 21:15:45,999 : INFO : downsampling leaves estimated 0 word corpus (5.7% of prior 4)\n",
      "2017-01-05 21:15:46,000 : INFO : estimated required memory for 3 words and 100 dimensions: 3900 bytes\n",
      "2017-01-05 21:15:46,000 : INFO : resetting layer weights\n",
      "2017-01-05 21:15:46,001 : INFO : training model with 3 workers on 3 vocabulary and 100 features, using sg=0 hs=0 sample=0.001 negative=5 window=5\n",
      "2017-01-05 21:15:46,002 : INFO : expecting 2 sentences, matching count from corpus used for vocabulary survey\n",
      "2017-01-05 21:15:46,005 : INFO : worker thread finished; awaiting finish of 2 more threads\n",
      "2017-01-05 21:15:46,006 : INFO : worker thread finished; awaiting finish of 1 more threads\n",
      "2017-01-05 21:15:46,007 : INFO : worker thread finished; awaiting finish of 0 more threads\n",
      "2017-01-05 21:15:46,007 : INFO : training on 20 raw words (0 effective words) took 0.0s, 0 effective words/s\n",
      "2017-01-05 21:15:46,008 : WARNING : under 10 jobs per worker: consider setting a smaller `batch_words' for smoother alpha decay\n"
     ]
    }
   ],
   "source": [
    "# import modules & set up logging\n",
    "import gensim, logging\n",
    "logging.basicConfig(format='%(asctime)s : %(levelname)s : %(message)s', level=logging.INFO)\n",
    "sentences = [['first', 'sentence'], ['second', 'sentence']]\n",
    "# train word2vec on the two sentences\n",
    "model = gensim.models.Word2Vec(sentences, min_count=1)"
   ]
  },
  {
   "cell_type": "code",
   "execution_count": 40,
   "metadata": {
    "collapsed": false
   },
   "outputs": [],
   "source": [
    "# create some toy data to use with the following example\n",
    "import smart_open, os\n",
    "\n",
    "if not os.path.exists('./data/'):\n",
    "    os.makedirs('./data/')\n",
    "\n",
    "filenames = ['./data/f1.txt', './data/f2.txt']\n",
    "\n",
    "for i,fname in enumerate(filenames):\n",
    "    with smart_open.smart_open(fname, 'w') as fout:\n",
    "        for line in sentences[i]:\n",
    "            fout.write(line + '\\n')"
   ]
  },
  {
   "cell_type": "code",
   "execution_count": 41,
   "metadata": {
    "collapsed": true
   },
   "outputs": [],
   "source": [
    "class MySentences(object):\n",
    "    def __init__(self, dirname):\n",
    "        self.dirname = dirname\n",
    " \n",
    "    def __iter__(self):\n",
    "        for fname in os.listdir(self.dirname):\n",
    "            for line in open(os.path.join(self.dirname, fname)):\n",
    "                yield line.split()"
   ]
  },
  {
   "cell_type": "code",
   "execution_count": 42,
   "metadata": {
    "collapsed": false
   },
   "outputs": [
    {
     "name": "stdout",
     "output_type": "stream",
     "text": [
      "[['first'], ['sentence'], ['second'], ['sentence']]\n"
     ]
    }
   ],
   "source": [
    "sentences = MySentences('./data/') # a memory-friendly iterator\n",
    "print(list(sentences))"
   ]
  },
  {
   "cell_type": "code",
   "execution_count": 43,
   "metadata": {
    "collapsed": false
   },
   "outputs": [
    {
     "name": "stderr",
     "output_type": "stream",
     "text": [
      "2017-01-05 21:16:41,367 : INFO : collecting all words and their counts\n",
      "2017-01-05 21:16:41,369 : INFO : PROGRESS: at sentence #0, processed 0 words, keeping 0 word types\n",
      "2017-01-05 21:16:41,372 : INFO : collected 3 word types from a corpus of 4 raw words and 4 sentences\n",
      "2017-01-05 21:16:41,374 : INFO : Loading a fresh vocabulary\n",
      "2017-01-05 21:16:41,375 : INFO : min_count=1 retains 3 unique words (100% of original 3, drops 0)\n",
      "2017-01-05 21:16:41,375 : INFO : min_count=1 leaves 4 word corpus (100% of original 4, drops 0)\n",
      "2017-01-05 21:16:41,376 : INFO : deleting the raw counts dictionary of 3 items\n",
      "2017-01-05 21:16:41,377 : INFO : sample=0.001 downsamples 3 most-common words\n",
      "2017-01-05 21:16:41,378 : INFO : downsampling leaves estimated 0 word corpus (5.7% of prior 4)\n",
      "2017-01-05 21:16:41,379 : INFO : estimated required memory for 3 words and 100 dimensions: 3900 bytes\n",
      "2017-01-05 21:16:41,380 : INFO : resetting layer weights\n",
      "2017-01-05 21:16:41,381 : INFO : training model with 3 workers on 3 vocabulary and 100 features, using sg=0 hs=0 sample=0.001 negative=5 window=5\n",
      "2017-01-05 21:16:41,382 : INFO : expecting 4 sentences, matching count from corpus used for vocabulary survey\n",
      "2017-01-05 21:16:41,388 : INFO : worker thread finished; awaiting finish of 2 more threads\n",
      "2017-01-05 21:16:41,389 : INFO : worker thread finished; awaiting finish of 1 more threads\n",
      "2017-01-05 21:16:41,390 : INFO : worker thread finished; awaiting finish of 0 more threads\n",
      "2017-01-05 21:16:41,391 : INFO : training on 20 raw words (0 effective words) took 0.0s, 0 effective words/s\n",
      "2017-01-05 21:16:41,392 : WARNING : under 10 jobs per worker: consider setting a smaller `batch_words' for smoother alpha decay\n"
     ]
    }
   ],
   "source": [
    "# generate the Word2Vec model\n",
    "model = gensim.models.Word2Vec(sentences, min_count=1)"
   ]
  },
  {
   "cell_type": "code",
   "execution_count": 44,
   "metadata": {
    "collapsed": false
   },
   "outputs": [
    {
     "name": "stdout",
     "output_type": "stream",
     "text": [
      "Word2Vec(vocab=3, size=100, alpha=0.025)\n",
      "{'first': <gensim.models.word2vec.Vocab object at 0x0000000007EB9438>, 'second': <gensim.models.word2vec.Vocab object at 0x0000000007ECDEB8>, 'sentence': <gensim.models.word2vec.Vocab object at 0x0000000007ECDC18>}\n"
     ]
    }
   ],
   "source": [
    "print(model)\n",
    "print(model.wv.vocab)"
   ]
  },
  {
   "cell_type": "code",
   "execution_count": 45,
   "metadata": {
    "collapsed": false
   },
   "outputs": [
    {
     "name": "stderr",
     "output_type": "stream",
     "text": [
      "2017-01-05 21:21:09,828 : INFO : collecting all words and their counts\n",
      "2017-01-05 21:21:09,828 : INFO : PROGRESS: at sentence #0, processed 0 words, keeping 0 word types\n",
      "2017-01-05 21:21:09,828 : INFO : collected 3 word types from a corpus of 4 raw words and 4 sentences\n",
      "2017-01-05 21:21:09,828 : INFO : Loading a fresh vocabulary\n",
      "2017-01-05 21:21:09,828 : INFO : min_count=1 retains 3 unique words (100% of original 3, drops 0)\n",
      "2017-01-05 21:21:09,845 : INFO : min_count=1 leaves 4 word corpus (100% of original 4, drops 0)\n",
      "2017-01-05 21:21:09,845 : INFO : deleting the raw counts dictionary of 3 items\n",
      "2017-01-05 21:21:09,846 : INFO : sample=0.001 downsamples 3 most-common words\n",
      "2017-01-05 21:21:09,847 : INFO : downsampling leaves estimated 0 word corpus (5.7% of prior 4)\n",
      "2017-01-05 21:21:09,847 : INFO : estimated required memory for 3 words and 100 dimensions: 3900 bytes\n",
      "2017-01-05 21:21:09,848 : INFO : resetting layer weights\n",
      "2017-01-05 21:21:09,849 : INFO : training model with 3 workers on 3 vocabulary and 100 features, using sg=0 hs=0 sample=0.001 negative=5 window=5\n",
      "2017-01-05 21:21:09,849 : INFO : expecting 4 sentences, matching count from corpus used for vocabulary survey\n",
      "2017-01-05 21:21:09,854 : INFO : worker thread finished; awaiting finish of 2 more threads\n",
      "2017-01-05 21:21:09,855 : INFO : worker thread finished; awaiting finish of 1 more threads\n",
      "2017-01-05 21:21:09,855 : INFO : worker thread finished; awaiting finish of 0 more threads\n",
      "2017-01-05 21:21:09,856 : INFO : training on 20 raw words (0 effective words) took 0.0s, 0 effective words/s\n",
      "2017-01-05 21:21:09,857 : WARNING : under 10 jobs per worker: consider setting a smaller `batch_words' for smoother alpha decay\n"
     ]
    },
    {
     "data": {
      "text/plain": [
       "0"
      ]
     },
     "execution_count": 45,
     "metadata": {},
     "output_type": "execute_result"
    }
   ],
   "source": [
    "new_model = gensim.models.Word2Vec(min_count=1)  # an empty model, no training\n",
    "new_model.build_vocab(sentences)                 # can be a non-repeatable, 1-pass generator     \n",
    "new_model.train(sentences)                       # can be a non-repeatable, 1-pass generator"
   ]
  },
  {
   "cell_type": "code",
   "execution_count": 52,
   "metadata": {
    "collapsed": false
   },
   "outputs": [
    {
     "name": "stdout",
     "output_type": "stream",
     "text": [
      "Word2Vec(vocab=3, size=100, alpha=0.025)\n",
      "{'said': <gensim.models.word2vec.Vocab object at 0x0000000007F1E710>, 'hare': <gensim.models.word2vec.Vocab object at 0x00000000081DC630>, 'militants': <gensim.models.word2vec.Vocab object at 0x0000000008023E48>, 'there': <gensim.models.word2vec.Vocab object at 0x00000000080407B8>, 'peter': <gensim.models.word2vec.Vocab object at 0x00000000081DC908>, 'arrested': <gensim.models.word2vec.Vocab object at 0x0000000008040B00>, 'philip': <gensim.models.word2vec.Vocab object at 0x0000000007EBFBE0>, 'new': <gensim.models.word2vec.Vocab object at 0x000000000803A4E0>, 'receive': <gensim.models.word2vec.Vocab object at 0x000000000803ABE0>, 'they': <gensim.models.word2vec.Vocab object at 0x00000000081DC940>, 'agreed': <gensim.models.word2vec.Vocab object at 0x0000000007F5C518>, 'said.': <gensim.models.word2vec.Vocab object at 0x0000000007F5C5F8>, 'start': <gensim.models.word2vec.Vocab object at 0x0000000007F5C630>, 'ses': <gensim.models.word2vec.Vocab object at 0x0000000007F5C668>, 'now,': <gensim.models.word2vec.Vocab object at 0x000000000803AB00>, 'perth.': <gensim.models.word2vec.Vocab object at 0x0000000007EE0DA0>, 'sea': <gensim.models.word2vec.Vocab object at 0x0000000007F102E8>, 'overnight.': <gensim.models.word2vec.Vocab object at 0x000000000803ABA8>, 'neil': <gensim.models.word2vec.Vocab object at 0x0000000008153B70>, 'costello': <gensim.models.word2vec.Vocab object at 0x00000000081DC9B0>, 'economy': <gensim.models.word2vec.Vocab object at 0x00000000081DC9E8>, 'led': <gensim.models.word2vec.Vocab object at 0x0000000007F5C940>, 'fired': <gensim.models.word2vec.Vocab object at 0x00000000081DCB00>, 'been': <gensim.models.word2vec.Vocab object at 0x00000000081DCB38>, 'also': <gensim.models.word2vec.Vocab object at 0x00000000081D4128>, 'pace': <gensim.models.word2vec.Vocab object at 0x00000000081DCB70>, 'seen': <gensim.models.word2vec.Vocab object at 0x00000000081D7518>, 'one': <gensim.models.word2vec.Vocab object at 0x00000000081D4048>, 'plane': <gensim.models.word2vec.Vocab object at 0x00000000081DCC18>, 'targets': <gensim.models.word2vec.Vocab object at 0x00000000081D4470>, 'needs': <gensim.models.word2vec.Vocab object at 0x00000000081D48D0>, 'does': <gensim.models.word2vec.Vocab object at 0x00000000081DCCC0>, 'she': <gensim.models.word2vec.Vocab object at 0x0000000007F5CB00>, 'stage': <gensim.models.word2vec.Vocab object at 0x00000000081DAA90>, 'redundancy': <gensim.models.word2vec.Vocab object at 0x00000000081D8128>, 'alexander': <gensim.models.word2vec.Vocab object at 0x0000000007F5CB70>, 'queensland': <gensim.models.word2vec.Vocab object at 0x00000000081DCCF8>, '400': <gensim.models.word2vec.Vocab object at 0x00000000081DCD30>, 'over': <gensim.models.word2vec.Vocab object at 0x0000000007F5CBA8>, 'melbourne,': <gensim.models.word2vec.Vocab object at 0x00000000081DCDA0>, 'doubles': <gensim.models.word2vec.Vocab object at 0x00000000081DC048>, '\"we\\'re': <gensim.models.word2vec.Vocab object at 0x0000000007F5CBE0>, 'hewitt': <gensim.models.word2vec.Vocab object at 0x00000000081DCDD8>, 'wind': <gensim.models.word2vec.Vocab object at 0x0000000007F5C9B0>, 'our': <gensim.models.word2vec.Vocab object at 0x0000000007F5CA20>, 'ahmed': <gensim.models.word2vec.Vocab object at 0x0000000007F5CA58>, 'stop': <gensim.models.word2vec.Vocab object at 0x000000000803A080>, 'killed': <gensim.models.word2vec.Vocab object at 0x0000000007F5C9E8>, 'rafter': <gensim.models.word2vec.Vocab object at 0x0000000007F5C7B8>, 'by': <gensim.models.word2vec.Vocab object at 0x00000000081D8BE0>, 'great': <gensim.models.word2vec.Vocab object at 0x0000000008024D68>, 'expects': <gensim.models.word2vec.Vocab object at 0x00000000081DCE48>, 'family': <gensim.models.word2vec.Vocab object at 0x000000000803A048>, 'alongside': <gensim.models.word2vec.Vocab object at 0x0000000007F5C7F0>, '5,000': <gensim.models.word2vec.Vocab object at 0x00000000081D8CC0>, 'hotel': <gensim.models.word2vec.Vocab object at 0x00000000081DCE80>, 'follows': <gensim.models.word2vec.Vocab object at 0x00000000081D8D30>, 'something': <gensim.models.word2vec.Vocab object at 0x000000000803A320>, 'fighter': <gensim.models.word2vec.Vocab object at 0x0000000007EBF3C8>, 'bowling': <gensim.models.word2vec.Vocab object at 0x00000000081DCEB8>, 'school': <gensim.models.word2vec.Vocab object at 0x0000000008029A90>, 'downer': <gensim.models.word2vec.Vocab object at 0x00000000081DCEF0>, 'far': <gensim.models.word2vec.Vocab object at 0x00000000081DCF60>, 'respond': <gensim.models.word2vec.Vocab object at 0x00000000081D8E10>, '\"i\\'m': <gensim.models.word2vec.Vocab object at 0x0000000008023C18>, 'environment': <gensim.models.word2vec.Vocab object at 0x00000000081D9F60>, 'employees': <gensim.models.word2vec.Vocab object at 0x0000000007F5C898>, 'available': <gensim.models.word2vec.Vocab object at 0x00000000081D9F98>, 'month': <gensim.models.word2vec.Vocab object at 0x00000000080245F8>, 'knew': <gensim.models.word2vec.Vocab object at 0x0000000007F5C8D0>, 'network': <gensim.models.word2vec.Vocab object at 0x00000000081D9198>, 'share': <gensim.models.word2vec.Vocab object at 0x00000000081D91D0>, 'possibility': <gensim.models.word2vec.Vocab object at 0x0000000007EC8D30>, 'companies': <gensim.models.word2vec.Vocab object at 0x00000000081CD400>, 'month.': <gensim.models.word2vec.Vocab object at 0x000000000803A128>, 'british': <gensim.models.word2vec.Vocab object at 0x0000000008019F60>, 'event': <gensim.models.word2vec.Vocab object at 0x00000000081DCF98>, 'released': <gensim.models.word2vec.Vocab object at 0x00000000081D9320>, 'hoped': <gensim.models.word2vec.Vocab object at 0x000000000803AA90>, 'added': <gensim.models.word2vec.Vocab object at 0x0000000007F5C908>, 'put': <gensim.models.word2vec.Vocab object at 0x00000000081D9780>, 'factory': <gensim.models.word2vec.Vocab object at 0x0000000008038A90>, 'findings': <gensim.models.word2vec.Vocab object at 0x0000000008038CF8>, 'wave': <gensim.models.word2vec.Vocab object at 0x00000000081D9FD0>, 'investment': <gensim.models.word2vec.Vocab object at 0x000000000803AB38>, 'tensions': <gensim.models.word2vec.Vocab object at 0x0000000008153E80>, 'israel': <gensim.models.word2vec.Vocab object at 0x00000000081DE4A8>, 'inquiry': <gensim.models.word2vec.Vocab object at 0x000000000803A908>, 'whether': <gensim.models.word2vec.Vocab object at 0x00000000081A3978>, 'future': <gensim.models.word2vec.Vocab object at 0x00000000081DEE80>, 'on': <gensim.models.word2vec.Vocab object at 0x00000000081DE2E8>, \"pakistan's\": <gensim.models.word2vec.Vocab object at 0x00000000081DDD30>, 'switzerland': <gensim.models.word2vec.Vocab object at 0x00000000081DDD68>, 'see': <gensim.models.word2vec.Vocab object at 0x0000000008038588>, 'greater': <gensim.models.word2vec.Vocab object at 0x00000000081DE358>, 'colin': <gensim.models.word2vec.Vocab object at 0x00000000081DDDD8>, '\"his': <gensim.models.word2vec.Vocab object at 0x00000000081CB4A8>, 'sydney,': <gensim.models.word2vec.Vocab object at 0x0000000008019748>, 'assistance': <gensim.models.word2vec.Vocab object at 0x00000000081DDE10>, 'commonwealth': <gensim.models.word2vec.Vocab object at 0x00000000081DE390>, 'early': <gensim.models.word2vec.Vocab object at 0x0000000004F427B8>, 'proposed': <gensim.models.word2vec.Vocab object at 0x0000000007F5C6D8>, 'died': <gensim.models.word2vec.Vocab object at 0x00000000081CBC88>, 'travelled': <gensim.models.word2vec.Vocab object at 0x000000000803A668>, 'relations': <gensim.models.word2vec.Vocab object at 0x0000000007E19F98>, 'attack.': <gensim.models.word2vec.Vocab object at 0x0000000008023EF0>, 'oil': <gensim.models.word2vec.Vocab object at 0x00000000081DDEB8>, 'above': <gensim.models.word2vec.Vocab object at 0x00000000081DDEF0>, 'up': <gensim.models.word2vec.Vocab object at 0x00000000081DE3C8>, 'became': <gensim.models.word2vec.Vocab object at 0x0000000008038908>, 'meeting.': <gensim.models.word2vec.Vocab object at 0x0000000007F5C780>, 'boucher': <gensim.models.word2vec.Vocab object at 0x00000000081DDF98>, 'channel': <gensim.models.word2vec.Vocab object at 0x0000000008023F28>, 'bonn': <gensim.models.word2vec.Vocab object at 0x00000000081DDFD0>, 'charges': <gensim.models.word2vec.Vocab object at 0x00000000081DD048>, 'food': <gensim.models.word2vec.Vocab object at 0x0000000007F5C748>, 'ability': <gensim.models.word2vec.Vocab object at 0x00000000081DE630>, 'nothing': <gensim.models.word2vec.Vocab object at 0x00000000081DE748>, 'mountains.': <gensim.models.word2vec.Vocab object at 0x00000000081DD0B8>, 'return': <gensim.models.word2vec.Vocab object at 0x00000000081CB320>, 'pakistan.': <gensim.models.word2vec.Vocab object at 0x0000000007F5C978>, 'use': <gensim.models.word2vec.Vocab object at 0x000000000803A898>, 'officials': <gensim.models.word2vec.Vocab object at 0x0000000007F5CC88>, 'searching': <gensim.models.word2vec.Vocab object at 0x00000000081DD128>, 'second': <gensim.models.word2vec.Vocab object at 0x000000000803A7B8>, 'northern': <gensim.models.word2vec.Vocab object at 0x0000000007EA7CF8>, 'step': <gensim.models.word2vec.Vocab object at 0x000000000803ACC0>, 'offered': <gensim.models.word2vec.Vocab object at 0x00000000081DD160>, 'jail': <gensim.models.word2vec.Vocab object at 0x00000000081DE7F0>, 'include': <gensim.models.word2vec.Vocab object at 0x00000000081DD198>, 'islands': <gensim.models.word2vec.Vocab object at 0x00000000081DC748>, 'few': <gensim.models.word2vec.Vocab object at 0x000000000803AEB8>, 'asylum': <gensim.models.word2vec.Vocab object at 0x0000000008040A20>, 'bank': <gensim.models.word2vec.Vocab object at 0x00000000044485F8>, 'attacked': <gensim.models.word2vec.Vocab object at 0x00000000081DE828>, 'university': <gensim.models.word2vec.Vocab object at 0x00000000036A4B70>, '3,000': <gensim.models.word2vec.Vocab object at 0x000000000829F400>, 'done': <gensim.models.word2vec.Vocab object at 0x00000000081DD208>, 'lording': <gensim.models.word2vec.Vocab object at 0x00000000081DD240>, 'guard': <gensim.models.word2vec.Vocab object at 0x0000000004468B38>, 'presence': <gensim.models.word2vec.Vocab object at 0x0000000008023F98>, 'were': <gensim.models.word2vec.Vocab object at 0x0000000008016BE0>, 'government': <gensim.models.word2vec.Vocab object at 0x00000000081DE860>, 'remain': <gensim.models.word2vec.Vocab object at 0x00000000045854A8>, 'however,': <gensim.models.word2vec.Vocab object at 0x00000000081DD518>, 'opposition': <gensim.models.word2vec.Vocab object at 0x000000000803AEF0>, 'open': <gensim.models.word2vec.Vocab object at 0x00000000081DE898>, 'krishna': <gensim.models.word2vec.Vocab object at 0x00000000080163C8>, 'won': <gensim.models.word2vec.Vocab object at 0x00000000081DE8D0>, 'passed': <gensim.models.word2vec.Vocab object at 0x00000000081DD2E8>, 'july': <gensim.models.word2vec.Vocab object at 0x00000000081A3A20>, 'yesterday.': <gensim.models.word2vec.Vocab object at 0x00000000081DEB38>, 'envoy': <gensim.models.word2vec.Vocab object at 0x0000000007F5C710>, 'better': <gensim.models.word2vec.Vocab object at 0x00000000081A3A58>, \"that's\": <gensim.models.word2vec.Vocab object at 0x00000000081DD390>, '26-year-old': <gensim.models.word2vec.Vocab object at 0x00000000081DD400>, 'process': <gensim.models.word2vec.Vocab object at 0x00000000081A4DD8>, 'families': <gensim.models.word2vec.Vocab object at 0x00000000045850B8>, 'year,': <gensim.models.word2vec.Vocab object at 0x0000000008019C50>, 'negotiations': <gensim.models.word2vec.Vocab object at 0x00000000081A4B00>, 'means': <gensim.models.word2vec.Vocab object at 0x0000000008019A20>, 'commanders': <gensim.models.word2vec.Vocab object at 0x0000000004585630>, 'press': <gensim.models.word2vec.Vocab object at 0x00000000081DD438>, 'denied': <gensim.models.word2vec.Vocab object at 0x000000000456D518>, 'years.': <gensim.models.word2vec.Vocab object at 0x0000000007E26D68>, \"we're\": <gensim.models.word2vec.Vocab object at 0x0000000007E193C8>, 'nine': <gensim.models.word2vec.Vocab object at 0x00000000080200F0>, 'together': <gensim.models.word2vec.Vocab object at 0x000000000800F4A8>, 'town': <gensim.models.word2vec.Vocab object at 0x000000000800F668>, 'qantas': <gensim.models.word2vec.Vocab object at 0x00000000081DEB70>, 'centre.': <gensim.models.word2vec.Vocab object at 0x00000000081D68D0>, 'may': <gensim.models.word2vec.Vocab object at 0x00000000081DCC88>, 'stay': <gensim.models.word2vec.Vocab object at 0x0000000008019CF8>, \"can't\": <gensim.models.word2vec.Vocab object at 0x00000000081DEBE0>, 'information': <gensim.models.word2vec.Vocab object at 0x00000000081DEC50>, 'jacques': <gensim.models.word2vec.Vocab object at 0x000000000800F7F0>, 'airport': <gensim.models.word2vec.Vocab object at 0x000000000800FC18>, 'affairs': <gensim.models.word2vec.Vocab object at 0x00000000081DAC18>, 'through': <gensim.models.word2vec.Vocab object at 0x00000000081CDB38>, 'opened': <gensim.models.word2vec.Vocab object at 0x00000000081DD588>, \"timor's\": <gensim.models.word2vec.Vocab object at 0x0000000008029D68>, 'between': <gensim.models.word2vec.Vocab object at 0x000000000800FB00>, 'retired': <gensim.models.word2vec.Vocab object at 0x000000000800FE80>, 'criticism': <gensim.models.word2vec.Vocab object at 0x00000000081A3358>, 'washington': <gensim.models.word2vec.Vocab object at 0x00000000081A3470>, 'course': <gensim.models.word2vec.Vocab object at 0x00000000081A3518>, 'toowoomba': <gensim.models.word2vec.Vocab object at 0x00000000081DED30>, 'waiting': <gensim.models.word2vec.Vocab object at 0x0000000008019DD8>, '80': <gensim.models.word2vec.Vocab object at 0x00000000081DD5C0>, 'battle': <gensim.models.word2vec.Vocab object at 0x00000000081CBCC0>, 'pakistan': <gensim.models.word2vec.Vocab object at 0x0000000008023B00>, 'lives': <gensim.models.word2vec.Vocab object at 0x00000000080206A0>, 'went': <gensim.models.word2vec.Vocab object at 0x00000000081DEDD8>, 'small': <gensim.models.word2vec.Vocab object at 0x0000000008019C88>, 'ambush.': <gensim.models.word2vec.Vocab object at 0x0000000008038A20>, 'rejected': <gensim.models.word2vec.Vocab object at 0x00000000081DD5F8>, 'november': <gensim.models.word2vec.Vocab object at 0x00000000081DD630>, 'just': <gensim.models.word2vec.Vocab object at 0x000000000800FCC0>, 'should': <gensim.models.word2vec.Vocab object at 0x0000000004E9FB70>, 'grand': <gensim.models.word2vec.Vocab object at 0x00000000081DE978>, 'custody': <gensim.models.word2vec.Vocab object at 0x00000000081DDCF8>, 'own': <gensim.models.word2vec.Vocab object at 0x0000000008019710>, 'delivered': <gensim.models.word2vec.Vocab object at 0x0000000004ECDEF0>, 'damaged': <gensim.models.word2vec.Vocab object at 0x00000000081DD7B8>, 'secret': <gensim.models.word2vec.Vocab object at 0x0000000008153EB8>, 'any': <gensim.models.word2vec.Vocab object at 0x0000000008020AC8>, 'using': <gensim.models.word2vec.Vocab object at 0x0000000004ECDF98>, 'based': <gensim.models.word2vec.Vocab object at 0x00000000081DE9E8>, 'million': <gensim.models.word2vec.Vocab object at 0x00000000080206D8>, 'cars': <gensim.models.word2vec.Vocab object at 0x00000000081A3FD0>, 'cooperation': <gensim.models.word2vec.Vocab object at 0x0000000004ECD898>, 'help': <gensim.models.word2vec.Vocab object at 0x00000000081DD8D0>, 'convicted': <gensim.models.word2vec.Vocab object at 0x00000000080196A0>, 'laws': <gensim.models.word2vec.Vocab object at 0x00000000081DD908>, 'found': <gensim.models.word2vec.Vocab object at 0x0000000008153EF0>, 'members': <gensim.models.word2vec.Vocab object at 0x00000000081DD940>, 'decide': <gensim.models.word2vec.Vocab object at 0x00000000081DD9B0>, 'research': <gensim.models.word2vec.Vocab object at 0x00000000081DEA58>, 'blue': <gensim.models.word2vec.Vocab object at 0x00000000081DEAC8>, 'confirm': <gensim.models.word2vec.Vocab object at 0x0000000004EBE9B0>, 'accompanied': <gensim.models.word2vec.Vocab object at 0x0000000008153F60>, 'anglican': <gensim.models.word2vec.Vocab object at 0x0000000004ECD7B8>, 'crime': <gensim.models.word2vec.Vocab object at 0x0000000008019668>, 'lack': <gensim.models.word2vec.Vocab object at 0x0000000004ECDCF8>, 'monday': <gensim.models.word2vec.Vocab object at 0x0000000008019630>, 'resolution': <gensim.models.word2vec.Vocab object at 0x00000000081DDA20>, 'immigration': <gensim.models.word2vec.Vocab object at 0x0000000004ECDFD0>, 'anz': <gensim.models.word2vec.Vocab object at 0x00000000081DE128>, 'behind': <gensim.models.word2vec.Vocab object at 0x00000000081D84A8>, 'gone': <gensim.models.word2vec.Vocab object at 0x00000000081DDA58>, 'threatening': <gensim.models.word2vec.Vocab object at 0x0000000008019128>, 'radical': <gensim.models.word2vec.Vocab object at 0x00000000080190F0>, 'receiving': <gensim.models.word2vec.Vocab object at 0x00000000081DDA90>, 'man': <gensim.models.word2vec.Vocab object at 0x00000000081DE160>, 'adam': <gensim.models.word2vec.Vocab object at 0x0000000007EBF240>, 'detain': <gensim.models.word2vec.Vocab object at 0x00000000080290F0>, 'really': <gensim.models.word2vec.Vocab object at 0x0000000007E1D7B8>, 'hopman': <gensim.models.word2vec.Vocab object at 0x0000000008153E48>, 'warned': <gensim.models.word2vec.Vocab object at 0x00000000080401D0>, 'weekend.': <gensim.models.word2vec.Vocab object at 0x0000000004EBE080>, 'dead': <gensim.models.word2vec.Vocab object at 0x00000000080192E8>, 'such': <gensim.models.word2vec.Vocab object at 0x00000000081DDB00>, 'paid': <gensim.models.word2vec.Vocab object at 0x00000000081DDB38>, 'described': <gensim.models.word2vec.Vocab object at 0x00000000081DEF28>, '11': <gensim.models.word2vec.Vocab object at 0x00000000081DDB70>, 'prevent': <gensim.models.word2vec.Vocab object at 0x0000000007E19828>, 'gunships': <gensim.models.word2vec.Vocab object at 0x00000000081DADA0>, 'latest': <gensim.models.word2vec.Vocab object at 0x00000000081DEF60>, 'fleeing': <gensim.models.word2vec.Vocab object at 0x0000000008019320>, 'avoid': <gensim.models.word2vec.Vocab object at 0x00000000081DEFD0>, 'reduced': <gensim.models.word2vec.Vocab object at 0x00000000081D7FD0>, 'scheduled': <gensim.models.word2vec.Vocab object at 0x00000000081DDBE0>, 'infected': <gensim.models.word2vec.Vocab object at 0x0000000007F5C2B0>, 'flying': <gensim.models.word2vec.Vocab object at 0x0000000008040320>, 'unrest': <gensim.models.word2vec.Vocab object at 0x00000000081DDC18>, 'morning,': <gensim.models.word2vec.Vocab object at 0x0000000008019400>, 'tragedy.': <gensim.models.word2vec.Vocab object at 0x00000000081D7080>, 'rates': <gensim.models.word2vec.Vocab object at 0x0000000007E19A20>, 'source': <gensim.models.word2vec.Vocab object at 0x0000000004EBE0F0>, 'seriously': <gensim.models.word2vec.Vocab object at 0x0000000008019358>, 'region': <gensim.models.word2vec.Vocab object at 0x0000000004EBEFD0>, 'past': <gensim.models.word2vec.Vocab object at 0x00000000081DDC50>, 'mountain': <gensim.models.word2vec.Vocab object at 0x00000000081DB7B8>, 'come': <gensim.models.word2vec.Vocab object at 0x00000000081DC0B8>, 'control.': <gensim.models.word2vec.Vocab object at 0x00000000081D7128>, 'reject': <gensim.models.word2vec.Vocab object at 0x00000000081D7160>, 'knowledge': <gensim.models.word2vec.Vocab object at 0x000000000803A198>, 'do': <gensim.models.word2vec.Vocab object at 0x00000000080191D0>, 'difficult': <gensim.models.word2vec.Vocab object at 0x00000000081DDCC0>, 'decision': <gensim.models.word2vec.Vocab object at 0x00000000081CB048>, 'death': <gensim.models.word2vec.Vocab object at 0x00000000081D7240>, 'places': <gensim.models.word2vec.Vocab object at 0x00000000081CB080>, 'economic': <gensim.models.word2vec.Vocab object at 0x0000000004EBE208>, 'facility': <gensim.models.word2vec.Vocab object at 0x00000000081CB0B8>, 'criminal': <gensim.models.word2vec.Vocab object at 0x00000000081D7278>, 'main': <gensim.models.word2vec.Vocab object at 0x0000000004EBE978>, 'times': <gensim.models.word2vec.Vocab object at 0x00000000081DC470>, 'break': <gensim.models.word2vec.Vocab object at 0x0000000008029A58>, 'long': <gensim.models.word2vec.Vocab object at 0x0000000008019EB8>, 'publicly': <gensim.models.word2vec.Vocab object at 0x00000000080195C0>, 'damage': <gensim.models.word2vec.Vocab object at 0x00000000081DC588>, 'boats': <gensim.models.word2vec.Vocab object at 0x000000000108BAC8>, 'sydney': <gensim.models.word2vec.Vocab object at 0x0000000008019DA0>, 'whatever': <gensim.models.word2vec.Vocab object at 0x0000000008019E80>, 'musharraf': <gensim.models.word2vec.Vocab object at 0x0000000008019F28>, 'explanation': <gensim.models.word2vec.Vocab object at 0x0000000008019080>, 'guilty': <gensim.models.word2vec.Vocab object at 0x00000000081DC6A0>, 'verdict': <gensim.models.word2vec.Vocab object at 0x00000000081D7438>, 'commissioner': <gensim.models.word2vec.Vocab object at 0x0000000007E1D278>, 'ahead.': <gensim.models.word2vec.Vocab object at 0x0000000004F42BA8>, 'face': <gensim.models.word2vec.Vocab object at 0x00000000081CB160>, 'finished': <gensim.models.word2vec.Vocab object at 0x0000000007EBF0B8>, 'mohammed': <gensim.models.word2vec.Vocab object at 0x0000000008019F98>, 'tour': <gensim.models.word2vec.Vocab object at 0x00000000080A4EB8>, 'get': <gensim.models.word2vec.Vocab object at 0x00000000081A3B70>, 'well': <gensim.models.word2vec.Vocab object at 0x00000000081CB198>, 'property': <gensim.models.word2vec.Vocab object at 0x00000000080BFF98>, 'seles': <gensim.models.word2vec.Vocab object at 0x00000000081CB1D0>, 'sir': <gensim.models.word2vec.Vocab object at 0x00000000080291D0>, 'absolutely': <gensim.models.word2vec.Vocab object at 0x0000000008019FD0>, 'business': <gensim.models.word2vec.Vocab object at 0x00000000081CB208>, 'anthony': <gensim.models.word2vec.Vocab object at 0x00000000081CB240>, 'taken': <gensim.models.word2vec.Vocab object at 0x0000000008019EF0>, 'proposals': <gensim.models.word2vec.Vocab object at 0x00000000081D7550>, \"i've\": <gensim.models.word2vec.Vocab object at 0x00000000081CB278>, 'holding': <gensim.models.word2vec.Vocab object at 0x00000000081CB2B0>, 'islamic': <gensim.models.word2vec.Vocab object at 0x0000000007E1DC18>, 'telephone': <gensim.models.word2vec.Vocab object at 0x0000000008019908>, 'held': <gensim.models.word2vec.Vocab object at 0x00000000081CB2E8>, 'but': <gensim.models.word2vec.Vocab object at 0x0000000007E1DB70>, 'cut': <gensim.models.word2vec.Vocab object at 0x00000000081CB358>, 'city': <gensim.models.word2vec.Vocab object at 0x0000000008019898>, 'agreement': <gensim.models.word2vec.Vocab object at 0x00000000081D7588>, 'thousands': <gensim.models.word2vec.Vocab object at 0x0000000008138470>, 'or': <gensim.models.word2vec.Vocab object at 0x0000000007E1DEB8>, 'interim': <gensim.models.word2vec.Vocab object at 0x00000000081D75F8>, 'huge': <gensim.models.word2vec.Vocab object at 0x0000000008019860>, 'assisting': <gensim.models.word2vec.Vocab object at 0x00000000081D7630>, 'interest': <gensim.models.word2vec.Vocab object at 0x00000000081CB3C8>, 'carry': <gensim.models.word2vec.Vocab object at 0x00000000081D7748>, 'recovery': <gensim.models.word2vec.Vocab object at 0x0000000007E1D080>, 'investigating': <gensim.models.word2vec.Vocab object at 0x0000000007E1D0F0>, \"union's\": <gensim.models.word2vec.Vocab object at 0x0000000008019A58>, 'americans': <gensim.models.word2vec.Vocab object at 0x00000000080247F0>, 'force,': <gensim.models.word2vec.Vocab object at 0x0000000008019B38>, 'access': <gensim.models.word2vec.Vocab object at 0x0000000008024D30>, 'happened': <gensim.models.word2vec.Vocab object at 0x00000000081CB400>, 'operations': <gensim.models.word2vec.Vocab object at 0x00000000081CB438>, 'general': <gensim.models.word2vec.Vocab object at 0x00000000081D7780>, 'building': <gensim.models.word2vec.Vocab object at 0x0000000008019978>, 'wanted': <gensim.models.word2vec.Vocab object at 0x00000000081DD9E8>, 'leaving': <gensim.models.word2vec.Vocab object at 0x00000000080199E8>, 'day': <gensim.models.word2vec.Vocab object at 0x00000000081CB470>, 'approached': <gensim.models.word2vec.Vocab object at 0x0000000008020898>, 'came': <gensim.models.word2vec.Vocab object at 0x00000000081CB4E0>, 'having': <gensim.models.word2vec.Vocab object at 0x0000000008019A90>, 'struck': <gensim.models.word2vec.Vocab object at 0x0000000007E1D128>, 'hearing': <gensim.models.word2vec.Vocab object at 0x00000000081D7860>, 'ban': <gensim.models.word2vec.Vocab object at 0x00000000081CB518>, 'used': <gensim.models.word2vec.Vocab object at 0x00000000081CB550>, 'station': <gensim.models.word2vec.Vocab object at 0x0000000007EBF470>, 'neville': <gensim.models.word2vec.Vocab object at 0x0000000008019B70>, 'overall': <gensim.models.word2vec.Vocab object at 0x0000000007E1D2B0>, '10': <gensim.models.word2vec.Vocab object at 0x0000000007E1D4A8>, 'industry.': <gensim.models.word2vec.Vocab object at 0x00000000081CB390>, 'side': <gensim.models.word2vec.Vocab object at 0x0000000007E1D588>, 'staying': <gensim.models.word2vec.Vocab object at 0x00000000081CB588>, 'arrived': <gensim.models.word2vec.Vocab object at 0x0000000007E1D5C0>, \"qantas'\": <gensim.models.word2vec.Vocab object at 0x00000000081D78D0>, 'powell': <gensim.models.word2vec.Vocab object at 0x0000000008019BA8>, 'women': <gensim.models.word2vec.Vocab object at 0x00000000081CB5C0>, 'crew': <gensim.models.word2vec.Vocab object at 0x0000000008019AC8>, 'more': <gensim.models.word2vec.Vocab object at 0x0000000008040780>, 'allan': <gensim.models.word2vec.Vocab object at 0x00000000081D79B0>, 'run': <gensim.models.word2vec.Vocab object at 0x0000000007E1D1D0>, 'woomera': <gensim.models.word2vec.Vocab object at 0x00000000081CB5F8>, 'david': <gensim.models.word2vec.Vocab object at 0x0000000007E1D048>, 'airline': <gensim.models.word2vec.Vocab object at 0x0000000008019828>, 'it,\"': <gensim.models.word2vec.Vocab object at 0x00000000080196D8>, 'trees': <gensim.models.word2vec.Vocab object at 0x00000000081384A8>, 'an': <gensim.models.word2vec.Vocab object at 0x00000000080199B0>, 'race': <gensim.models.word2vec.Vocab object at 0x00000000080298D0>, 'victorian': <gensim.models.word2vec.Vocab object at 0x0000000007E1D208>, '500': <gensim.models.word2vec.Vocab object at 0x00000000081D79E8>, 'choosing': <gensim.models.word2vec.Vocab object at 0x00000000081DD4A8>, 'nablus': <gensim.models.word2vec.Vocab object at 0x00000000081CBB70>, 'governor-general': <gensim.models.word2vec.Vocab object at 0x00000000081CBBE0>, 'smoke': <gensim.models.word2vec.Vocab object at 0x00000000081D7A90>, 'ago.': <gensim.models.word2vec.Vocab object at 0x00000000081D7AC8>, 'not': <gensim.models.word2vec.Vocab object at 0x00000000081D7B00>, 'five': <gensim.models.word2vec.Vocab object at 0x00000000081D7B38>, 'transport': <gensim.models.word2vec.Vocab object at 0x0000000007F5C828>, 'interlaken': <gensim.models.word2vec.Vocab object at 0x00000000081CB630>, '\"if': <gensim.models.word2vec.Vocab object at 0x00000000080240B8>, 'adelaide.': <gensim.models.word2vec.Vocab object at 0x00000000081CBEF0>, 'industry': <gensim.models.word2vec.Vocab object at 0x0000000008153940>, '\"these': <gensim.models.word2vec.Vocab object at 0x0000000008019780>, 'self-rule': <gensim.models.word2vec.Vocab object at 0x00000000081CB668>, 'from': <gensim.models.word2vec.Vocab object at 0x0000000007E1D3C8>, 'saw': <gensim.models.word2vec.Vocab object at 0x00000000081CB6A0>, 'being': <gensim.models.word2vec.Vocab object at 0x0000000007E1D400>, 'radio': <gensim.models.word2vec.Vocab object at 0x00000000081D7B70>, 'stand': <gensim.models.word2vec.Vocab object at 0x0000000008019BE0>, 'attack': <gensim.models.word2vec.Vocab object at 0x0000000007E1D0B8>, 'declared': <gensim.models.word2vec.Vocab object at 0x0000000008019D30>, 'some': <gensim.models.word2vec.Vocab object at 0x00000000081CB6D8>, 'vote': <gensim.models.word2vec.Vocab object at 0x00000000081D7BA8>, 'men': <gensim.models.word2vec.Vocab object at 0x0000000008019E10>, 'marines': <gensim.models.word2vec.Vocab object at 0x0000000008019E48>, 'line': <gensim.models.word2vec.Vocab object at 0x0000000007E1D198>, 'received': <gensim.models.word2vec.Vocab object at 0x00000000081DF358>, 'allow': <gensim.models.word2vec.Vocab object at 0x00000000081CD630>, 'problems': <gensim.models.word2vec.Vocab object at 0x00000000081D7BE0>, 'search': <gensim.models.word2vec.Vocab object at 0x00000000081CB748>, 'conducted': <gensim.models.word2vec.Vocab object at 0x0000000008019240>, 'unions': <gensim.models.word2vec.Vocab object at 0x00000000081CB780>, 'well.\"': <gensim.models.word2vec.Vocab object at 0x0000000007E1D470>, '100': <gensim.models.word2vec.Vocab object at 0x00000000081CB7B8>, \"australia's\": <gensim.models.word2vec.Vocab object at 0x0000000007F5C860>, 'out': <gensim.models.word2vec.Vocab object at 0x0000000008024780>, 'told': <gensim.models.word2vec.Vocab object at 0x00000000081D7C18>, 'national': <gensim.models.word2vec.Vocab object at 0x0000000007E1D4E0>, 'launched': <gensim.models.word2vec.Vocab object at 0x00000000081CB7F0>, 'captain': <gensim.models.word2vec.Vocab object at 0x00000000081CB828>, 'areas.': <gensim.models.word2vec.Vocab object at 0x00000000081D7D30>, 'ministers': <gensim.models.word2vec.Vocab object at 0x00000000081CDD30>, 'europe': <gensim.models.word2vec.Vocab object at 0x0000000008019470>, 'replied:': <gensim.models.word2vec.Vocab object at 0x00000000081D7D68>, 'continuing': <gensim.models.word2vec.Vocab object at 0x00000000081CB860>, 'keep': <gensim.models.word2vec.Vocab object at 0x00000000081D7DD8>, 'complex': <gensim.models.word2vec.Vocab object at 0x0000000007E1D550>, 'hundreds': <gensim.models.word2vec.Vocab object at 0x0000000008038860>, 'address': <gensim.models.word2vec.Vocab object at 0x00000000081CDEB8>, 'dollars': <gensim.models.word2vec.Vocab object at 0x0000000007E1D390>, 'details': <gensim.models.word2vec.Vocab object at 0x0000000007E1D240>, 'prior': <gensim.models.word2vec.Vocab object at 0x0000000008023668>, 'ruled': <gensim.models.word2vec.Vocab object at 0x00000000080192B0>, 'during': <gensim.models.word2vec.Vocab object at 0x0000000007E1D160>, 'human': <gensim.models.word2vec.Vocab object at 0x00000000081D7E10>, 'unemployment': <gensim.models.word2vec.Vocab object at 0x0000000008019160>, 'march': <gensim.models.word2vec.Vocab object at 0x0000000008153278>, 'entitlements': <gensim.models.word2vec.Vocab object at 0x00000000080239B0>, 'cent': <gensim.models.word2vec.Vocab object at 0x00000000081CB898>, 'lockett': <gensim.models.word2vec.Vocab object at 0x0000000007E1D780>, 'stopped': <gensim.models.word2vec.Vocab object at 0x00000000081532E8>, 'landed': <gensim.models.word2vec.Vocab object at 0x0000000008153320>, 'paying': <gensim.models.word2vec.Vocab object at 0x00000000081CB8D0>, 'daryl': <gensim.models.word2vec.Vocab object at 0x0000000008024320>, 'every': <gensim.models.word2vec.Vocab object at 0x00000000081CB908>, 'hicks': <gensim.models.word2vec.Vocab object at 0x0000000008038C88>, 'parliament': <gensim.models.word2vec.Vocab object at 0x00000000081DA668>, 'dr': <gensim.models.word2vec.Vocab object at 0x00000000081D7E48>, 'statement': <gensim.models.word2vec.Vocab object at 0x0000000007E1D8D0>, 'and': <gensim.models.word2vec.Vocab object at 0x0000000007E1D9B0>, 'heading': <gensim.models.word2vec.Vocab object at 0x00000000081D7E80>, 'ceremony': <gensim.models.word2vec.Vocab object at 0x00000000081D7EB8>, 'confirmed': <gensim.models.word2vec.Vocab object at 0x00000000081D7EF0>, 'conflict': <gensim.models.word2vec.Vocab object at 0x000000000803AF28>, 'caves': <gensim.models.word2vec.Vocab object at 0x00000000081CB9B0>, 'offer': <gensim.models.word2vec.Vocab object at 0x00000000081CB9E8>, 'many': <gensim.models.word2vec.Vocab object at 0x00000000081D7F28>, 'names': <gensim.models.word2vec.Vocab object at 0x0000000008024160>, 'never': <gensim.models.word2vec.Vocab object at 0x00000000081A1908>, 'tennis': <gensim.models.word2vec.Vocab object at 0x00000000081D7F98>, 'already': <gensim.models.word2vec.Vocab object at 0x0000000007EBF550>, 'series': <gensim.models.word2vec.Vocab object at 0x0000000007E1D6D8>, '25': <gensim.models.word2vec.Vocab object at 0x00000000081CBA58>, 'among': <gensim.models.word2vec.Vocab object at 0x0000000008153390>, 'warplanes': <gensim.models.word2vec.Vocab object at 0x0000000007E26A90>, 'success': <gensim.models.word2vec.Vocab object at 0x0000000008019940>, 'private': <gensim.models.word2vec.Vocab object at 0x0000000008023358>, 'areas': <gensim.models.word2vec.Vocab object at 0x0000000007E1D5F8>, '26': <gensim.models.word2vec.Vocab object at 0x000000000813F1D0>, 'indonesia': <gensim.models.word2vec.Vocab object at 0x00000000081CBA90>, 'boy': <gensim.models.word2vec.Vocab object at 0x0000000007EA76D8>, 'finally': <gensim.models.word2vec.Vocab object at 0x0000000007E1D438>, 'bichel': <gensim.models.word2vec.Vocab object at 0x0000000008019208>, 'as': <gensim.models.word2vec.Vocab object at 0x00000000080406D8>, '150': <gensim.models.word2vec.Vocab object at 0x0000000008138C50>, 'freeze': <gensim.models.word2vec.Vocab object at 0x0000000008138DD8>, 'mr': <gensim.models.word2vec.Vocab object at 0x0000000007E1D828>, 'protect': <gensim.models.word2vec.Vocab object at 0x0000000007E1D860>, 'week': <gensim.models.word2vec.Vocab object at 0x0000000007E1D668>, 'state': <gensim.models.word2vec.Vocab object at 0x00000000081CBB00>, 'a': <gensim.models.word2vec.Vocab object at 0x0000000007EBF4E0>, 'closed': <gensim.models.word2vec.Vocab object at 0x0000000008153470>, 'sex': <gensim.models.word2vec.Vocab object at 0x0000000007E1D6A0>, 'flights': <gensim.models.word2vec.Vocab object at 0x00000000080380B8>, 'simon': <gensim.models.word2vec.Vocab object at 0x0000000008038080>, 'clearly': <gensim.models.word2vec.Vocab object at 0x00000000081534E0>, 'allegedly': <gensim.models.word2vec.Vocab object at 0x0000000008038128>, 'ahead': <gensim.models.word2vec.Vocab object at 0x0000000008023160>, 'night.': <gensim.models.word2vec.Vocab object at 0x00000000081CBB38>, 'near': <gensim.models.word2vec.Vocab object at 0x0000000008138AC8>, 'military': <gensim.models.word2vec.Vocab object at 0x0000000008153518>, 'their': <gensim.models.word2vec.Vocab object at 0x00000000080381D0>, 'virus': <gensim.models.word2vec.Vocab object at 0x00000000081CD668>, 'injuring': <gensim.models.word2vec.Vocab object at 0x0000000008153550>, 'year': <gensim.models.word2vec.Vocab object at 0x00000000081D7A58>, 'pressure': <gensim.models.word2vec.Vocab object at 0x0000000008040160>, 'white': <gensim.models.word2vec.Vocab object at 0x00000000081CBBA8>, 'died.': <gensim.models.word2vec.Vocab object at 0x00000000081535F8>, 'factions': <gensim.models.word2vec.Vocab object at 0x0000000008038278>, 'felt': <gensim.models.word2vec.Vocab object at 0x0000000008029828>, 'geoff': <gensim.models.word2vec.Vocab object at 0x00000000081CBC18>, 'rival': <gensim.models.word2vec.Vocab object at 0x0000000008040710>, 'debt': <gensim.models.word2vec.Vocab object at 0x00000000081CBC50>, 'actor': <gensim.models.word2vec.Vocab object at 0x0000000008153630>, 'local': <gensim.models.word2vec.Vocab object at 0x00000000081D3940>, 'with': <gensim.models.word2vec.Vocab object at 0x0000000007EBF048>, 'four': <gensim.models.word2vec.Vocab object at 0x00000000081536A0>, 'company': <gensim.models.word2vec.Vocab object at 0x00000000081D3F28>, 'play': <gensim.models.word2vec.Vocab object at 0x00000000081CBD30>, 'head': <gensim.models.word2vec.Vocab object at 0x0000000007F5CA90>, 'if': <gensim.models.word2vec.Vocab object at 0x0000000008153710>, 'jewish': <gensim.models.word2vec.Vocab object at 0x00000000081D32B0>, 'around': <gensim.models.word2vec.Vocab object at 0x00000000080387B8>, 'reached': <gensim.models.word2vec.Vocab object at 0x00000000081387B8>, 'muslim': <gensim.models.word2vec.Vocab object at 0x0000000008153748>, 'firefighters': <gensim.models.word2vec.Vocab object at 0x00000000081D93C8>, 'strategic': <gensim.models.word2vec.Vocab object at 0x0000000008153780>, 'people.': <gensim.models.word2vec.Vocab object at 0x00000000081537B8>, 'suffered': <gensim.models.word2vec.Vocab object at 0x0000000008038940>, 'longer': <gensim.models.word2vec.Vocab object at 0x00000000081D3A20>, 'civilians': <gensim.models.word2vec.Vocab object at 0x0000000008016B38>, 'time,': <gensim.models.word2vec.Vocab object at 0x00000000081537F0>, 'party': <gensim.models.word2vec.Vocab object at 0x00000000081D19B0>, 'streets': <gensim.models.word2vec.Vocab object at 0x0000000007EA7BE0>, 'this': <gensim.models.word2vec.Vocab object at 0x00000000081CD828>, 'playing': <gensim.models.word2vec.Vocab object at 0x00000000081CBD68>, 'halt': <gensim.models.word2vec.Vocab object at 0x0000000008038DA0>, 'believes': <gensim.models.word2vec.Vocab object at 0x00000000081CBDA0>, 'six': <gensim.models.word2vec.Vocab object at 0x00000000081CBDD8>, 'each': <gensim.models.word2vec.Vocab object at 0x000000000803AAC8>, 'government.': <gensim.models.word2vec.Vocab object at 0x00000000081CBE10>, 'december': <gensim.models.word2vec.Vocab object at 0x0000000007F5C208>, 'change': <gensim.models.word2vec.Vocab object at 0x00000000081CBE48>, 'rate': <gensim.models.word2vec.Vocab object at 0x00000000081CBE80>, 'north': <gensim.models.word2vec.Vocab object at 0x0000000008153898>, 'than': <gensim.models.word2vec.Vocab object at 0x00000000081538D0>, 'police': <gensim.models.word2vec.Vocab object at 0x0000000007EBF8D0>, 'professor': <gensim.models.word2vec.Vocab object at 0x00000000081D5128>, 'body': <gensim.models.word2vec.Vocab object at 0x0000000007EBFE10>, 'senior': <gensim.models.word2vec.Vocab object at 0x00000000081CBEB8>, 'antarctic': <gensim.models.word2vec.Vocab object at 0x00000000081D5A20>, 'read': <gensim.models.word2vec.Vocab object at 0x0000000008038E80>, 'senate': <gensim.models.word2vec.Vocab object at 0x0000000008038D68>, 'at': <gensim.models.word2vec.Vocab object at 0x00000000081CBF28>, 'determined': <gensim.models.word2vec.Vocab object at 0x00000000081CBF98>, 'continued': <gensim.models.word2vec.Vocab object at 0x0000000008029048>, 'hard': <gensim.models.word2vec.Vocab object at 0x0000000008023780>, 'richard': <gensim.models.word2vec.Vocab object at 0x0000000008038E10>, 'aware': <gensim.models.word2vec.Vocab object at 0x00000000080389B0>, 'separate': <gensim.models.word2vec.Vocab object at 0x0000000008038B00>, 'want': <gensim.models.word2vec.Vocab object at 0x0000000008038C18>, 'third': <gensim.models.word2vec.Vocab object at 0x00000000081539B0>, 'enter': <gensim.models.word2vec.Vocab object at 0x0000000008038D30>, 'forced': <gensim.models.word2vec.Vocab object at 0x0000000008020048>, 'arafat,': <gensim.models.word2vec.Vocab object at 0x00000000081539E8>, 'states.': <gensim.models.word2vec.Vocab object at 0x00000000081CBFD0>, 'eventually': <gensim.models.word2vec.Vocab object at 0x00000000081CDDD8>, 'gives': <gensim.models.word2vec.Vocab object at 0x0000000008153A20>, 'mcgrath': <gensim.models.word2vec.Vocab object at 0x00000000081CD048>, 'united': <gensim.models.word2vec.Vocab object at 0x00000000081CD080>, 'matter': <gensim.models.word2vec.Vocab object at 0x00000000081CD0B8>, '\"i': <gensim.models.word2vec.Vocab object at 0x00000000081D5908>, 'my': <gensim.models.word2vec.Vocab object at 0x0000000008038B38>, 'lower': <gensim.models.word2vec.Vocab object at 0x0000000008029390>, '24': <gensim.models.word2vec.Vocab object at 0x00000000081A3DA0>, 'militant': <gensim.models.word2vec.Vocab object at 0x0000000008038390>, 'friedli': <gensim.models.word2vec.Vocab object at 0x0000000007EBF908>, '\"it': <gensim.models.word2vec.Vocab object at 0x00000000081CD128>, 'well,\"': <gensim.models.word2vec.Vocab object at 0x0000000008038438>, 'area': <gensim.models.word2vec.Vocab object at 0x00000000081CD160>, 'positions': <gensim.models.word2vec.Vocab object at 0x0000000008038668>, 'surrender': <gensim.models.word2vec.Vocab object at 0x0000000008153A90>, 'group,': <gensim.models.word2vec.Vocab object at 0x00000000081CD198>, 'ruddock': <gensim.models.word2vec.Vocab object at 0x00000000081D5FD0>, 'global': <gensim.models.word2vec.Vocab object at 0x00000000080383C8>, 'pacific': <gensim.models.word2vec.Vocab object at 0x0000000008153B00>, 'themselves': <gensim.models.word2vec.Vocab object at 0x00000000081DBCF8>, 'crash': <gensim.models.word2vec.Vocab object at 0x00000000080382E8>, 'financial': <gensim.models.word2vec.Vocab object at 0x00000000080385C0>, 'pakistani': <gensim.models.word2vec.Vocab object at 0x0000000008040DD8>, 'authority.': <gensim.models.word2vec.Vocab object at 0x0000000008038550>, 'tree': <gensim.models.word2vec.Vocab object at 0x00000000081CD1D0>, 'medical': <gensim.models.word2vec.Vocab object at 0x00000000081DDDA0>, 'terrorism': <gensim.models.word2vec.Vocab object at 0x00000000081CD240>, 'expressed': <gensim.models.word2vec.Vocab object at 0x00000000081DBEB8>, 'offices': <gensim.models.word2vec.Vocab object at 0x00000000081CD908>, 'today.': <gensim.models.word2vec.Vocab object at 0x00000000081CD2B0>, 'without': <gensim.models.word2vec.Vocab object at 0x00000000081CD2E8>, 'technology': <gensim.models.word2vec.Vocab object at 0x0000000008038828>, 'claim': <gensim.models.word2vec.Vocab object at 0x00000000080385F8>, 'year.': <gensim.models.word2vec.Vocab object at 0x0000000008153BA8>, 'unity': <gensim.models.word2vec.Vocab object at 0x0000000008153BE0>, \"didn't\": <gensim.models.word2vec.Vocab object at 0x00000000081380B8>, 'ricky': <gensim.models.word2vec.Vocab object at 0x00000000081CD320>, 'gorge': <gensim.models.word2vec.Vocab object at 0x0000000008153C88>, 'range': <gensim.models.word2vec.Vocab object at 0x00000000081CD358>, 'wage': <gensim.models.word2vec.Vocab object at 0x00000000081DBB38>, 'shane': <gensim.models.word2vec.Vocab object at 0x0000000008153CC0>, 'whiting': <gensim.models.word2vec.Vocab object at 0x0000000008153CF8>, 'murder': <gensim.models.word2vec.Vocab object at 0x0000000008153D30>, 'coast.': <gensim.models.word2vec.Vocab object at 0x0000000007F5C6A0>, 'assa': <gensim.models.word2vec.Vocab object at 0x0000000007F1C2B0>, 'commander': <gensim.models.word2vec.Vocab object at 0x00000000081CD390>, 'weekend': <gensim.models.word2vec.Vocab object at 0x0000000008153D68>, 'tora': <gensim.models.word2vec.Vocab object at 0x00000000081D81D0>, 'sharon,': <gensim.models.word2vec.Vocab object at 0x0000000008023390>, 'weeks': <gensim.models.word2vec.Vocab object at 0x0000000008153DA0>, 'soldiers': <gensim.models.word2vec.Vocab object at 0x0000000008038B70>, 'tourists': <gensim.models.word2vec.Vocab object at 0x0000000008138F98>, 'territories': <gensim.models.word2vec.Vocab object at 0x0000000008153DD8>, 'was': <gensim.models.word2vec.Vocab object at 0x0000000007ECD4A8>, 'leader': <gensim.models.word2vec.Vocab object at 0x0000000008153E10>, 'cent.': <gensim.models.word2vec.Vocab object at 0x000000000803A748>, 'disaster': <gensim.models.word2vec.Vocab object at 0x0000000008038C50>, 'finance': <gensim.models.word2vec.Vocab object at 0x00000000081DBB00>, 'fear': <gensim.models.word2vec.Vocab object at 0x0000000008138DA0>, 'beyond': <gensim.models.word2vec.Vocab object at 0x00000000081DB0B8>, 'project': <gensim.models.word2vec.Vocab object at 0x00000000081DE4E0>, 'problem': <gensim.models.word2vec.Vocab object at 0x0000000008038198>, 'administrators': <gensim.models.word2vec.Vocab object at 0x0000000007E19470>, 'saturday': <gensim.models.word2vec.Vocab object at 0x00000000081DE550>, 'reserve': <gensim.models.word2vec.Vocab object at 0x0000000007ECD080>, 'cup': <gensim.models.word2vec.Vocab object at 0x0000000008029F98>, 'time': <gensim.models.word2vec.Vocab object at 0x00000000081DB2E8>, 'why': <gensim.models.word2vec.Vocab object at 0x0000000008038208>, 'battling': <gensim.models.word2vec.Vocab object at 0x00000000081CD470>, 'spokeswoman': <gensim.models.word2vec.Vocab object at 0x0000000008040518>, 'palestinians': <gensim.models.word2vec.Vocab object at 0x00000000081DB588>, 'list': <gensim.models.word2vec.Vocab object at 0x000000000800F908>, 'asked': <gensim.models.word2vec.Vocab object at 0x00000000080384E0>, 'different': <gensim.models.word2vec.Vocab object at 0x00000000081CD4A8>, 'militants.': <gensim.models.word2vec.Vocab object at 0x00000000081CD4E0>, 'reports': <gensim.models.word2vec.Vocab object at 0x0000000008038240>, 'prime': <gensim.models.word2vec.Vocab object at 0x00000000081CD518>, 'monday,': <gensim.models.word2vec.Vocab object at 0x00000000081CD550>, 'certainly': <gensim.models.word2vec.Vocab object at 0x0000000008153F28>, 'leaders': <gensim.models.word2vec.Vocab object at 0x0000000008038470>, 'starting': <gensim.models.word2vec.Vocab object at 0x0000000004ECDF28>, '\"he': <gensim.models.word2vec.Vocab object at 0x00000000081CD588>, 'efforts': <gensim.models.word2vec.Vocab object at 0x00000000081DB6D8>, 'others': <gensim.models.word2vec.Vocab object at 0x0000000008153F98>, 'tomorrow.': <gensim.models.word2vec.Vocab object at 0x00000000081CD5C0>, 'asio': <gensim.models.word2vec.Vocab object at 0x0000000008023F60>, 'helicopters': <gensim.models.word2vec.Vocab object at 0x00000000081D72B0>, 'go': <gensim.models.word2vec.Vocab object at 0x0000000008040E80>, 'peres': <gensim.models.word2vec.Vocab object at 0x00000000080382B0>, 'suspected': <gensim.models.word2vec.Vocab object at 0x0000000008153FD0>, 'best': <gensim.models.word2vec.Vocab object at 0x00000000081DB908>, 'months': <gensim.models.word2vec.Vocab object at 0x00000000081DBA20>, 'sector': <gensim.models.word2vec.Vocab object at 0x0000000007E1D2E8>, 'following': <gensim.models.word2vec.Vocab object at 0x00000000081DF128>, 'internet': <gensim.models.word2vec.Vocab object at 0x0000000008023048>, 'enough': <gensim.models.word2vec.Vocab object at 0x0000000008038160>, '2002': <gensim.models.word2vec.Vocab object at 0x00000000081DDE48>, 'afghanistan': <gensim.models.word2vec.Vocab object at 0x0000000008040F60>, \"it's\": <gensim.models.word2vec.Vocab object at 0x00000000081DF198>, 'elected': <gensim.models.word2vec.Vocab object at 0x00000000081D7908>, 'responsible': <gensim.models.word2vec.Vocab object at 0x00000000081CD6A0>, 'states': <gensim.models.word2vec.Vocab object at 0x00000000080388D0>, 'become': <gensim.models.word2vec.Vocab object at 0x0000000008038748>, '15': <gensim.models.word2vec.Vocab object at 0x00000000081DF240>, 'austar': <gensim.models.word2vec.Vocab object at 0x00000000081CD6D8>, 'think': <gensim.models.word2vec.Vocab object at 0x0000000007E1D320>, 'zimbabwe': <gensim.models.word2vec.Vocab object at 0x0000000008038978>, 'parts': <gensim.models.word2vec.Vocab object at 0x00000000081CD710>, 'countries': <gensim.models.word2vec.Vocab object at 0x00000000081DF3C8>, 'half': <gensim.models.word2vec.Vocab object at 0x00000000081CD748>, 'calling': <gensim.models.word2vec.Vocab object at 0x0000000008023080>, 'begin': <gensim.models.word2vec.Vocab object at 0x00000000081CD780>, 'there,': <gensim.models.word2vec.Vocab object at 0x00000000080230B8>, 'got': <gensim.models.word2vec.Vocab object at 0x00000000080230F0>, 'people': <gensim.models.word2vec.Vocab object at 0x0000000008023128>, 'tribal': <gensim.models.word2vec.Vocab object at 0x00000000081DF400>, 'remains': <gensim.models.word2vec.Vocab object at 0x00000000081DF4E0>, 'leave': <gensim.models.word2vec.Vocab object at 0x0000000008038F28>, 'male': <gensim.models.word2vec.Vocab object at 0x0000000008038EF0>, 'zealand': <gensim.models.word2vec.Vocab object at 0x0000000008038F98>, 'calls': <gensim.models.word2vec.Vocab object at 0x0000000008023198>, 'groups': <gensim.models.word2vec.Vocab object at 0x0000000008038FD0>, 'lee': <gensim.models.word2vec.Vocab object at 0x00000000081D3828>, 'crowd': <gensim.models.word2vec.Vocab object at 0x00000000081DF5C0>, 'speech': <gensim.models.word2vec.Vocab object at 0x00000000081DF710>, 'yet': <gensim.models.word2vec.Vocab object at 0x00000000081D24A8>, 'stuart': <gensim.models.word2vec.Vocab object at 0x0000000008040240>, 'banking': <gensim.models.word2vec.Vocab object at 0x0000000008038048>, 'pulled': <gensim.models.word2vec.Vocab object at 0x00000000081CD860>, 'like': <gensim.models.word2vec.Vocab object at 0x00000000081DF748>, 'are': <gensim.models.word2vec.Vocab object at 0x0000000008023240>, '1,000': <gensim.models.word2vec.Vocab object at 0x0000000008023278>, 'fact': <gensim.models.word2vec.Vocab object at 0x00000000080232B0>, 'shopping': <gensim.models.word2vec.Vocab object at 0x00000000081CD8D0>, 'fatah': <gensim.models.word2vec.Vocab object at 0x00000000081DF8D0>, 'throughout': <gensim.models.word2vec.Vocab object at 0x00000000081CD940>, 'least': <gensim.models.word2vec.Vocab object at 0x00000000081DF940>, 'disappointed': <gensim.models.word2vec.Vocab object at 0x00000000081DF9B0>, '4,000': <gensim.models.word2vec.Vocab object at 0x00000000080232E8>, 'launceston': <gensim.models.word2vec.Vocab object at 0x0000000008038AC8>, 'andy': <gensim.models.word2vec.Vocab object at 0x00000000080380F0>, 'followed': <gensim.models.word2vec.Vocab object at 0x0000000008038BA8>, 'aged': <gensim.models.word2vec.Vocab object at 0x00000000081DFBE0>, 'money': <gensim.models.word2vec.Vocab object at 0x0000000008038898>, 'attempting': <gensim.models.word2vec.Vocab object at 0x00000000081CD978>, 'win': <gensim.models.word2vec.Vocab object at 0x0000000008023320>, 'these': <gensim.models.word2vec.Vocab object at 0x00000000081CD9B0>, 'created': <gensim.models.word2vec.Vocab object at 0x00000000081CD9E8>, 'hours': <gensim.models.word2vec.Vocab object at 0x0000000008038A58>, 'himself': <gensim.models.word2vec.Vocab object at 0x00000000081DF588>, 'sent': <gensim.models.word2vec.Vocab object at 0x0000000008038710>, 'centre,': <gensim.models.word2vec.Vocab object at 0x00000000081DFCC0>, 'happy': <gensim.models.word2vec.Vocab object at 0x00000000080233C8>, 'storm': <gensim.models.word2vec.Vocab object at 0x0000000008038E48>, 'champion': <gensim.models.word2vec.Vocab object at 0x0000000007EBF978>, 'take': <gensim.models.word2vec.Vocab object at 0x0000000008038CC0>, 'it.': <gensim.models.word2vec.Vocab object at 0x0000000008040F98>, 'afghanistan.': <gensim.models.word2vec.Vocab object at 0x00000000081CD3C8>, 'forecast': <gensim.models.word2vec.Vocab object at 0x00000000081CDA90>, 'bora': <gensim.models.word2vec.Vocab object at 0x00000000081CDAC8>, 'beginning': <gensim.models.word2vec.Vocab object at 0x0000000008023400>, 'allegations': <gensim.models.word2vec.Vocab object at 0x00000000081CDB00>, 'union': <gensim.models.word2vec.Vocab object at 0x0000000008023438>, 'lead': <gensim.models.word2vec.Vocab object at 0x00000000081DFD68>, '\"we\\'ve': <gensim.models.word2vec.Vocab object at 0x0000000008023470>, 'employment': <gensim.models.word2vec.Vocab object at 0x00000000081CDB70>, 'wounded': <gensim.models.word2vec.Vocab object at 0x00000000080234A8>, 'hiv': <gensim.models.word2vec.Vocab object at 0x0000000008038F60>, 'staff': <gensim.models.word2vec.Vocab object at 0x0000000008040C88>, 'whole': <gensim.models.word2vec.Vocab object at 0x00000000081A11D0>, 'nearly': <gensim.models.word2vec.Vocab object at 0x00000000081CDBA8>, 'federal': <gensim.models.word2vec.Vocab object at 0x00000000081CDBE0>, 'airlines': <gensim.models.word2vec.Vocab object at 0x00000000081CDC18>, 'collapse': <gensim.models.word2vec.Vocab object at 0x0000000008038DD8>, 'hold': <gensim.models.word2vec.Vocab object at 0x00000000081CDC50>, 'government,': <gensim.models.word2vec.Vocab object at 0x00000000081DFE10>, 'seemed': <gensim.models.word2vec.Vocab object at 0x0000000007E19780>, 'former': <gensim.models.word2vec.Vocab object at 0x0000000008016C88>, 'hours,': <gensim.models.word2vec.Vocab object at 0x00000000081DEE48>, 'civil': <gensim.models.word2vec.Vocab object at 0x00000000081DFEF0>, 'eastern': <gensim.models.word2vec.Vocab object at 0x00000000081CDC88>, 'connection': <gensim.models.word2vec.Vocab object at 0x00000000081CDCC0>, 'request': <gensim.models.word2vec.Vocab object at 0x00000000081CDCF8>, 'walked': <gensim.models.word2vec.Vocab object at 0x00000000080166D8>, 'swiss': <gensim.models.word2vec.Vocab object at 0x00000000081DA828>, 'french': <gensim.models.word2vec.Vocab object at 0x0000000008023550>, 'york': <gensim.models.word2vec.Vocab object at 0x00000000081A4470>, 'river': <gensim.models.word2vec.Vocab object at 0x0000000008016390>, 'hamas,': <gensim.models.word2vec.Vocab object at 0x00000000081A1940>, 'war.': <gensim.models.word2vec.Vocab object at 0x0000000008005C88>, 'treatment': <gensim.models.word2vec.Vocab object at 0x0000000008005A90>, 'them,\"': <gensim.models.word2vec.Vocab object at 0x00000000081A19E8>, 'president': <gensim.models.word2vec.Vocab object at 0x0000000008005B00>, 'lord': <gensim.models.word2vec.Vocab object at 0x0000000008005BE0>, 'board': <gensim.models.word2vec.Vocab object at 0x00000000081CDDA0>, 'taking': <gensim.models.word2vec.Vocab object at 0x00000000081A1A58>, 'welcomed': <gensim.models.word2vec.Vocab object at 0x00000000081A1048>, 'hamas': <gensim.models.word2vec.Vocab object at 0x0000000008019CC0>, 'hopes': <gensim.models.word2vec.Vocab object at 0x00000000081A1DA0>, 'bombings': <gensim.models.word2vec.Vocab object at 0x0000000007E19CF8>, \"we've\": <gensim.models.word2vec.Vocab object at 0x00000000081A1EF0>, 'foreign': <gensim.models.word2vec.Vocab object at 0x0000000008023588>, 'hearings': <gensim.models.word2vec.Vocab object at 0x0000000008005AC8>, 'both': <gensim.models.word2vec.Vocab object at 0x0000000008020C50>, 'heard': <gensim.models.word2vec.Vocab object at 0x00000000080235F8>, 'rather': <gensim.models.word2vec.Vocab object at 0x0000000008016D30>, 'afp': <gensim.models.word2vec.Vocab object at 0x00000000081CDE10>, 'making': <gensim.models.word2vec.Vocab object at 0x0000000008023630>, '1': <gensim.models.word2vec.Vocab object at 0x0000000007F10BE0>, 'likely': <gensim.models.word2vec.Vocab object at 0x00000000080165C0>, 'where': <gensim.models.word2vec.Vocab object at 0x00000000081A1C18>, 'bringing': <gensim.models.word2vec.Vocab object at 0x0000000008005C18>, 'things': <gensim.models.word2vec.Vocab object at 0x00000000081A1C88>, 'ready': <gensim.models.word2vec.Vocab object at 0x00000000080194A8>, 'african': <gensim.models.word2vec.Vocab object at 0x0000000008005A58>, 'fast': <gensim.models.word2vec.Vocab object at 0x00000000080236D8>, 'very': <gensim.models.word2vec.Vocab object at 0x0000000008005B38>, 'doctors': <gensim.models.word2vec.Vocab object at 0x0000000008005DA0>, 'senator': <gensim.models.word2vec.Vocab object at 0x0000000008023DD8>, 'cricket': <gensim.models.word2vec.Vocab object at 0x00000000081CDE48>, 'settlement': <gensim.models.word2vec.Vocab object at 0x00000000081CDE80>, 'understanding': <gensim.models.word2vec.Vocab object at 0x00000000081A1D30>, 'nice': <gensim.models.word2vec.Vocab object at 0x0000000008023710>, 'michael': <gensim.models.word2vec.Vocab object at 0x0000000008005CC0>, 'quickly': <gensim.models.word2vec.Vocab object at 0x00000000081A18D0>, 'batsmen': <gensim.models.word2vec.Vocab object at 0x0000000008005B70>, 'ford': <gensim.models.word2vec.Vocab object at 0x00000000081A3F28>, 'good': <gensim.models.word2vec.Vocab object at 0x0000000007ECD550>, 'ethnic': <gensim.models.word2vec.Vocab object at 0x000000000803A6D8>, 'planning': <gensim.models.word2vec.Vocab object at 0x00000000080237F0>, 'kilometres': <gensim.models.word2vec.Vocab object at 0x0000000008029C18>, 'began': <gensim.models.word2vec.Vocab object at 0x00000000080387F0>, 'role': <gensim.models.word2vec.Vocab object at 0x00000000081A3B38>, 'lung': <gensim.models.word2vec.Vocab object at 0x0000000008005EF0>, 'armed': <gensim.models.word2vec.Vocab object at 0x00000000081CDF28>, 'current': <gensim.models.word2vec.Vocab object at 0x00000000080200B8>, 'afghan': <gensim.models.word2vec.Vocab object at 0x0000000008005EB8>, 'raids': <gensim.models.word2vec.Vocab object at 0x0000000008005898>, 'operation': <gensim.models.word2vec.Vocab object at 0x0000000008005C50>, 'world': <gensim.models.word2vec.Vocab object at 0x0000000008020CC0>, 'singles': <gensim.models.word2vec.Vocab object at 0x0000000008005860>, \"you're\": <gensim.models.word2vec.Vocab object at 0x0000000008020860>, 'your': <gensim.models.word2vec.Vocab object at 0x00000000081A1208>, '23': <gensim.models.word2vec.Vocab object at 0x00000000080059B0>, 'off': <gensim.models.word2vec.Vocab object at 0x0000000008020CF8>, 'reported': <gensim.models.word2vec.Vocab object at 0x0000000008023898>, \"sydney's\": <gensim.models.word2vec.Vocab object at 0x00000000081A1240>, 'people,': <gensim.models.word2vec.Vocab object at 0x00000000080198D0>, 'part': <gensim.models.word2vec.Vocab object at 0x00000000081CDFD0>, 'clear': <gensim.models.word2vec.Vocab object at 0x0000000008020BE0>, 'commission': <gensim.models.word2vec.Vocab object at 0x0000000008005D30>, 'threat': <gensim.models.word2vec.Vocab object at 0x0000000008005E10>, 'evidence': <gensim.models.word2vec.Vocab object at 0x00000000080238D0>, 'confident': <gensim.models.word2vec.Vocab object at 0x00000000081DEDA0>, 'job': <gensim.models.word2vec.Vocab object at 0x0000000008138D68>, 'indian': <gensim.models.word2vec.Vocab object at 0x0000000008023940>, 'headed': <gensim.models.word2vec.Vocab object at 0x000000000803A160>, 'incident': <gensim.models.word2vec.Vocab object at 0x0000000007EBF710>, '...': <gensim.models.word2vec.Vocab object at 0x0000000008005DD8>, 'chief': <gensim.models.word2vec.Vocab object at 0x0000000008023978>, 'winner': <gensim.models.word2vec.Vocab object at 0x0000000008138E80>, 'trip': <gensim.models.word2vec.Vocab object at 0x0000000007EBFCF8>, \"government's\": <gensim.models.word2vec.Vocab object at 0x00000000081A1438>, 'burning': <gensim.models.word2vec.Vocab object at 0x00000000081385F8>, 'howard': <gensim.models.word2vec.Vocab object at 0x00000000081A1470>, 'movement': <gensim.models.word2vec.Vocab object at 0x0000000008005D68>, 'news': <gensim.models.word2vec.Vocab object at 0x0000000008005E48>, 'giving': <gensim.models.word2vec.Vocab object at 0x00000000081A14A8>, 'have': <gensim.models.word2vec.Vocab object at 0x00000000080404E0>, 'no': <gensim.models.word2vec.Vocab object at 0x00000000081A14E0>, 'w': <gensim.models.word2vec.Vocab object at 0x00000000081385C0>, 'strong': <gensim.models.word2vec.Vocab object at 0x00000000081A1518>, 'later': <gensim.models.word2vec.Vocab object at 0x00000000080239E8>, 'attorney-general': <gensim.models.word2vec.Vocab object at 0x0000000008023A20>, \"he's\": <gensim.models.word2vec.Vocab object at 0x0000000008023A58>, 'troops': <gensim.models.word2vec.Vocab object at 0x000000000829FE10>, 'territory': <gensim.models.word2vec.Vocab object at 0x0000000008016B00>, 'boat': <gensim.models.word2vec.Vocab object at 0x00000000081A1B38>, 'showed': <gensim.models.word2vec.Vocab object at 0x0000000008023A90>, 'little': <gensim.models.word2vec.Vocab object at 0x00000000080402B0>, 'caused': <gensim.models.word2vec.Vocab object at 0x0000000008016BA8>, 'detention': <gensim.models.word2vec.Vocab object at 0x0000000008024710>, 'anti-taliban': <gensim.models.word2vec.Vocab object at 0x00000000081A15F8>, 'changed': <gensim.models.word2vec.Vocab object at 0x00000000081A16D8>, 'old': <gensim.models.word2vec.Vocab object at 0x0000000008138198>, 'island': <gensim.models.word2vec.Vocab object at 0x0000000008023B38>, 'bus': <gensim.models.word2vec.Vocab object at 0x0000000008023B70>, 'twice': <gensim.models.word2vec.Vocab object at 0x0000000007EA7FD0>, 'spread': <gensim.models.word2vec.Vocab object at 0x0000000008023BA8>, 'ago,': <gensim.models.word2vec.Vocab object at 0x0000000008138C18>, 'options': <gensim.models.word2vec.Vocab object at 0x00000000081381D0>, 'royal': <gensim.models.word2vec.Vocab object at 0x0000000008016DA0>, 'cancer': <gensim.models.word2vec.Vocab object at 0x0000000008023C50>, 'hospital': <gensim.models.word2vec.Vocab object at 0x00000000081A1710>, 'israeli': <gensim.models.word2vec.Vocab object at 0x0000000008023C88>, 'begun': <gensim.models.word2vec.Vocab object at 0x0000000007EA7DD8>, 'children': <gensim.models.word2vec.Vocab object at 0x0000000007E19710>, 'afternoon,': <gensim.models.word2vec.Vocab object at 0x0000000008138710>, 'placed': <gensim.models.word2vec.Vocab object at 0x00000000081A1780>, 'away': <gensim.models.word2vec.Vocab object at 0x00000000081384E0>, 'after': <gensim.models.word2vec.Vocab object at 0x00000000081386D8>, 'fellow': <gensim.models.word2vec.Vocab object at 0x0000000007EBFB38>, 'dozens': <gensim.models.word2vec.Vocab object at 0x0000000008138358>, 'present': <gensim.models.word2vec.Vocab object at 0x00000000081A4940>, 'southern': <gensim.models.word2vec.Vocab object at 0x0000000008016550>, 'when': <gensim.models.word2vec.Vocab object at 0x0000000008153358>, 'campaign': <gensim.models.word2vec.Vocab object at 0x0000000008023D30>, 'though': <gensim.models.word2vec.Vocab object at 0x0000000008023D68>, 'voted': <gensim.models.word2vec.Vocab object at 0x0000000008138780>, 'action,': <gensim.models.word2vec.Vocab object at 0x0000000008138160>, 'hijacked': <gensim.models.word2vec.Vocab object at 0x00000000080057B8>, 'russian': <gensim.models.word2vec.Vocab object at 0x000000000803A588>, 'out.': <gensim.models.word2vec.Vocab object at 0x00000000081CB940>, 'yacht': <gensim.models.word2vec.Vocab object at 0x0000000008016588>, 'gillespie': <gensim.models.word2vec.Vocab object at 0x00000000081DFF28>, '200': <gensim.models.word2vec.Vocab object at 0x0000000008138BE0>, 'sort': <gensim.models.word2vec.Vocab object at 0x00000000080164E0>, 'sign': <gensim.models.word2vec.Vocab object at 0x0000000008023E10>, 'follow': <gensim.models.word2vec.Vocab object at 0x0000000008138F28>, 'locked': <gensim.models.word2vec.Vocab object at 0x00000000081DABE0>, 'bid': <gensim.models.word2vec.Vocab object at 0x000000000803AC18>, 'its': <gensim.models.word2vec.Vocab object at 0x0000000008138FD0>, 'road': <gensim.models.word2vec.Vocab object at 0x00000000080162B0>, 'faces': <gensim.models.word2vec.Vocab object at 0x00000000081DCA58>, 'response': <gensim.models.word2vec.Vocab object at 0x0000000008023E80>, 'late': <gensim.models.word2vec.Vocab object at 0x00000000081DCD68>, '5': <gensim.models.word2vec.Vocab object at 0x0000000008023EB8>, 'classic': <gensim.models.word2vec.Vocab object at 0x0000000008138F60>, \"company's\": <gensim.models.word2vec.Vocab object at 0x0000000008005940>, 'down': <gensim.models.word2vec.Vocab object at 0x00000000081A4518>, '\"this': <gensim.models.word2vec.Vocab object at 0x00000000081DD2B0>, 'although': <gensim.models.word2vec.Vocab object at 0x00000000081DDF60>, 'perth': <gensim.models.word2vec.Vocab object at 0x00000000081386A0>, 'secretary': <gensim.models.word2vec.Vocab object at 0x00000000081A4550>, \"we'll\": <gensim.models.word2vec.Vocab object at 0x0000000008040860>, 'representing': <gensim.models.word2vec.Vocab object at 0x00000000081DD1D0>, 'celebrations': <gensim.models.word2vec.Vocab object at 0x00000000081A4588>, 'gaza': <gensim.models.word2vec.Vocab object at 0x000000000803AFD0>, 'glenn': <gensim.models.word2vec.Vocab object at 0x0000000008016668>, '\"it\\'s': <gensim.models.word2vec.Vocab object at 0x0000000008016518>, 'prepared': <gensim.models.word2vec.Vocab object at 0x0000000008019C18>, 'israel.': <gensim.models.word2vec.Vocab object at 0x0000000008138B00>, 'peacekeepers': <gensim.models.word2vec.Vocab object at 0x00000000080166A0>, 'investigation': <gensim.models.word2vec.Vocab object at 0x0000000008138A90>, 'mohammad': <gensim.models.word2vec.Vocab object at 0x00000000081DA198>, 'australia,': <gensim.models.word2vec.Vocab object at 0x0000000008138048>, '\"that': <gensim.models.word2vec.Vocab object at 0x00000000080167F0>, 'provisional': <gensim.models.word2vec.Vocab object at 0x00000000081A45F8>, 'left': <gensim.models.word2vec.Vocab object at 0x0000000008040EF0>, 'place,': <gensim.models.word2vec.Vocab object at 0x00000000081A4630>, 'observers': <gensim.models.word2vec.Vocab object at 0x00000000080400F0>, 'crews': <gensim.models.word2vec.Vocab object at 0x00000000080165F8>, 'going': <gensim.models.word2vec.Vocab object at 0x0000000008020198>, 'nations': <gensim.models.word2vec.Vocab object at 0x00000000081388D0>, 'understood': <gensim.models.word2vec.Vocab object at 0x0000000008016F28>, 'hill': <gensim.models.word2vec.Vocab object at 0x00000000081DDC88>, 'terrorism.': <gensim.models.word2vec.Vocab object at 0x0000000008138B70>, 'warne': <gensim.models.word2vec.Vocab object at 0x00000000081A4668>, 'buildings': <gensim.models.word2vec.Vocab object at 0x00000000081A4748>, 'shows': <gensim.models.word2vec.Vocab object at 0x0000000008019198>, '28-year-old': <gensim.models.word2vec.Vocab object at 0x00000000081A4780>, 'strip': <gensim.models.word2vec.Vocab object at 0x0000000008016748>, 'total': <gensim.models.word2vec.Vocab object at 0x0000000008016128>, 'gary': <gensim.models.word2vec.Vocab object at 0x00000000081A4908>, 'army': <gensim.models.word2vec.Vocab object at 0x00000000081DDAC8>, 'single': <gensim.models.word2vec.Vocab object at 0x0000000008138518>, 'victory': <gensim.models.word2vec.Vocab object at 0x0000000008016780>, '\"you': <gensim.models.word2vec.Vocab object at 0x00000000081A4C88>, 'while': <gensim.models.word2vec.Vocab object at 0x0000000008016860>, 'australian': <gensim.models.word2vec.Vocab object at 0x0000000008138860>, 'hope': <gensim.models.word2vec.Vocab object at 0x00000000081380F0>, 'area,': <gensim.models.word2vec.Vocab object at 0x00000000081A4DA0>, 'mayor': <gensim.models.word2vec.Vocab object at 0x00000000081CBA20>, 'international': <gensim.models.word2vec.Vocab object at 0x0000000007E1D358>, 'explosives': <gensim.models.word2vec.Vocab object at 0x0000000008040BA8>, 'area.': <gensim.models.word2vec.Vocab object at 0x0000000008029668>, '\"a': <gensim.models.word2vec.Vocab object at 0x00000000081A4E10>, 'mass': <gensim.models.word2vec.Vocab object at 0x0000000008040550>, 'test.': <gensim.models.word2vec.Vocab object at 0x0000000008016940>, 'secure': <gensim.models.word2vec.Vocab object at 0x00000000081A4E48>, 'sunday': <gensim.models.word2vec.Vocab object at 0x00000000081532B0>, 'record': <gensim.models.word2vec.Vocab object at 0x00000000081A4E80>, 'bureau': <gensim.models.word2vec.Vocab object at 0x00000000081A40B8>, 'believe': <gensim.models.word2vec.Vocab object at 0x00000000081A4978>, \"i'm\": <gensim.models.word2vec.Vocab object at 0x0000000008040470>, 'afroz': <gensim.models.word2vec.Vocab object at 0x00000000081A49B0>, 'bomber': <gensim.models.word2vec.Vocab object at 0x0000000008016630>, 'extensive': <gensim.models.word2vec.Vocab object at 0x0000000008138128>, 'counts': <gensim.models.word2vec.Vocab object at 0x00000000080404A8>, 'years,': <gensim.models.word2vec.Vocab object at 0x00000000081383C8>, 'saying': <gensim.models.word2vec.Vocab object at 0x0000000008016710>, 'city.': <gensim.models.word2vec.Vocab object at 0x0000000008038EB8>, 'his': <gensim.models.word2vec.Vocab object at 0x00000000081A49E8>, 'executive': <gensim.models.word2vec.Vocab object at 0x00000000081A4A90>, 'concern': <gensim.models.word2vec.Vocab object at 0x00000000080403C8>, 'terror': <gensim.models.word2vec.Vocab object at 0x0000000008016F98>, '48': <gensim.models.word2vec.Vocab object at 0x00000000081536D8>, 'bombing': <gensim.models.word2vec.Vocab object at 0x00000000081CBCF8>, 'document': <gensim.models.word2vec.Vocab object at 0x0000000008138908>, 'which': <gensim.models.word2vec.Vocab object at 0x00000000081A4390>, 'returning': <gensim.models.word2vec.Vocab object at 0x0000000008016F60>, 'supporters': <gensim.models.word2vec.Vocab object at 0x0000000008016E10>, 'for': <gensim.models.word2vec.Vocab object at 0x0000000008040400>, 'tough': <gensim.models.word2vec.Vocab object at 0x0000000008016FD0>, 'indonesian': <gensim.models.word2vec.Vocab object at 0x0000000008016198>, 'dropped': <gensim.models.word2vec.Vocab object at 0x00000000080161D0>, '13': <gensim.models.word2vec.Vocab object at 0x0000000008016240>, 'set': <gensim.models.word2vec.Vocab object at 0x00000000081A4B38>, 'management': <gensim.models.word2vec.Vocab object at 0x00000000081DC160>, 'plan': <gensim.models.word2vec.Vocab object at 0x0000000008138438>, 'whose': <gensim.models.word2vec.Vocab object at 0x00000000081A4B70>, 'create': <gensim.models.word2vec.Vocab object at 0x0000000008153588>, 'qaeda': <gensim.models.word2vec.Vocab object at 0x00000000081A4BE0>, 'sultan': <gensim.models.word2vec.Vocab object at 0x00000000080408D0>, 'speaking': <gensim.models.word2vec.Vocab object at 0x0000000008016358>, 'laden,': <gensim.models.word2vec.Vocab object at 0x0000000008016160>, 'embassy': <gensim.models.word2vec.Vocab object at 0x00000000081D64A8>, 'me': <gensim.models.word2vec.Vocab object at 0x00000000080405F8>, 'commission,': <gensim.models.word2vec.Vocab object at 0x0000000008040748>, 'entered': <gensim.models.word2vec.Vocab object at 0x00000000081CD5F8>, 'vaughan': <gensim.models.word2vec.Vocab object at 0x00000000080299E8>, 'further': <gensim.models.word2vec.Vocab object at 0x0000000008153C18>, 'need': <gensim.models.word2vec.Vocab object at 0x0000000008040FD0>, 'sure': <gensim.models.word2vec.Vocab object at 0x00000000081533C8>, 'months.': <gensim.models.word2vec.Vocab object at 0x00000000080169B0>, 'regional': <gensim.models.word2vec.Vocab object at 0x00000000081CD7F0>, 'administration': <gensim.models.word2vec.Vocab object at 0x0000000008138278>, 'abuse': <gensim.models.word2vec.Vocab object at 0x0000000008016978>, 'until': <gensim.models.word2vec.Vocab object at 0x0000000008138080>, 'that': <gensim.models.word2vec.Vocab object at 0x00000000081D6128>, 'way': <gensim.models.word2vec.Vocab object at 0x00000000081CDA58>, 'escalating': <gensim.models.word2vec.Vocab object at 0x00000000081D61D0>, 'captured': <gensim.models.word2vec.Vocab object at 0x0000000008029C50>, '\"they': <gensim.models.word2vec.Vocab object at 0x0000000008138CC0>, 'toll': <gensim.models.word2vec.Vocab object at 0x0000000008016B70>, 'authorities': <gensim.models.word2vec.Vocab object at 0x0000000008040D68>, 'round': <gensim.models.word2vec.Vocab object at 0x0000000008016C50>, 'next': <gensim.models.word2vec.Vocab object at 0x00000000081CDD68>, 'manufacturing': <gensim.models.word2vec.Vocab object at 0x0000000008138978>, 'concerned': <gensim.models.word2vec.Vocab object at 0x0000000007E268D0>, 'has': <gensim.models.word2vec.Vocab object at 0x00000000081D6F28>, 'travel': <gensim.models.word2vec.Vocab object at 0x0000000008138940>, 'recorded': <gensim.models.word2vec.Vocab object at 0x0000000007E1D518>, 'fair': <gensim.models.word2vec.Vocab object at 0x00000000081A1828>, 'met': <gensim.models.word2vec.Vocab object at 0x0000000008016A20>, 'mining': <gensim.models.word2vec.Vocab object at 0x0000000008016A58>, 'right': <gensim.models.word2vec.Vocab object at 0x00000000080386A0>, 'gun': <gensim.models.word2vec.Vocab object at 0x00000000081CDF98>, 'much': <gensim.models.word2vec.Vocab object at 0x00000000081D6080>, 'unit': <gensim.models.word2vec.Vocab object at 0x0000000008138898>, 'biggest': <gensim.models.word2vec.Vocab object at 0x00000000081D6630>, 'force': <gensim.models.word2vec.Vocab object at 0x0000000008040D30>, 'who': <gensim.models.word2vec.Vocab object at 0x0000000008138630>, 'say': <gensim.models.word2vec.Vocab object at 0x0000000008138EF0>, 'large': <gensim.models.word2vec.Vocab object at 0x00000000081D6208>, 'laden': <gensim.models.word2vec.Vocab object at 0x0000000008016CF8>, 'group': <gensim.models.word2vec.Vocab object at 0x0000000008016E80>, 'amin': <gensim.models.word2vec.Vocab object at 0x00000000081D6668>, 'legal': <gensim.models.word2vec.Vocab object at 0x0000000008016EF0>, 'violent': <gensim.models.word2vec.Vocab object at 0x0000000008016DD8>, 'unable': <gensim.models.word2vec.Vocab object at 0x00000000081389E8>, 'back': <gensim.models.word2vec.Vocab object at 0x0000000008024208>, 'annual': <gensim.models.word2vec.Vocab object at 0x0000000008040208>, 'form': <gensim.models.word2vec.Vocab object at 0x0000000008029EF0>, 'reduce': <gensim.models.word2vec.Vocab object at 0x0000000008023CF8>, 'hour': <gensim.models.word2vec.Vocab object at 0x00000000081D6780>, 'fighters': <gensim.models.word2vec.Vocab object at 0x0000000008138A58>, 'within': <gensim.models.word2vec.Vocab object at 0x0000000008016C18>, 'forward': <gensim.models.word2vec.Vocab object at 0x0000000008153438>, 'disease': <gensim.models.word2vec.Vocab object at 0x0000000007EBF320>, 'made': <gensim.models.word2vec.Vocab object at 0x0000000008138400>, 'immediately': <gensim.models.word2vec.Vocab object at 0x0000000008016D68>, 'end': <gensim.models.word2vec.Vocab object at 0x0000000008138EB8>, 'water': <gensim.models.word2vec.Vocab object at 0x0000000008016EB8>, 'park': <gensim.models.word2vec.Vocab object at 0x0000000008016CC0>, 'leading': <gensim.models.word2vec.Vocab object at 0x0000000008016438>, 'jobs': <gensim.models.word2vec.Vocab object at 0x00000000081D6860>, 'quarter': <gensim.models.word2vec.Vocab object at 0x00000000081D6898>, 'nauru': <gensim.models.word2vec.Vocab object at 0x00000000081DEBA8>, 'adequate': <gensim.models.word2vec.Vocab object at 0x0000000008138588>, 'wicket': <gensim.models.word2vec.Vocab object at 0x00000000081D6908>, 'turn': <gensim.models.word2vec.Vocab object at 0x00000000081D6940>, 'earlier': <gensim.models.word2vec.Vocab object at 0x00000000081D69B0>, 'hih': <gensim.models.word2vec.Vocab object at 0x0000000008016320>, 'beat': <gensim.models.word2vec.Vocab object at 0x00000000081D6A90>, 'israel,': <gensim.models.word2vec.Vocab object at 0x00000000081D6C50>, 'representation': <gensim.models.word2vec.Vocab object at 0x00000000080402E8>, 'minister,': <gensim.models.word2vec.Vocab object at 0x0000000008040E10>, 'ground': <gensim.models.word2vec.Vocab object at 0x0000000008016400>, 'hospital.': <gensim.models.word2vec.Vocab object at 0x0000000008138BA8>, 'known': <gensim.models.word2vec.Vocab object at 0x0000000008138748>, 'towards': <gensim.models.word2vec.Vocab object at 0x00000000081D6C88>, 'illawarra': <gensim.models.word2vec.Vocab object at 0x00000000081D6CC0>, 'of': <gensim.models.word2vec.Vocab object at 0x0000000008040EB8>, 'doubt': <gensim.models.word2vec.Vocab object at 0x0000000008040B38>, 'night,': <gensim.models.word2vec.Vocab object at 0x0000000008138390>, 'pentagon': <gensim.models.word2vec.Vocab object at 0x00000000081DC208>, \"don't\": <gensim.models.word2vec.Vocab object at 0x0000000008138208>, 'across': <gensim.models.word2vec.Vocab object at 0x00000000080164A8>, 'africa': <gensim.models.word2vec.Vocab object at 0x0000000008029BE0>, 'increased': <gensim.models.word2vec.Vocab object at 0x0000000008040BE0>, 'capital': <gensim.models.word2vec.Vocab object at 0x0000000008016908>, 'sending': <gensim.models.word2vec.Vocab object at 0x0000000008138240>, 'contested': <gensim.models.word2vec.Vocab object at 0x0000000008040E48>, 'survey': <gensim.models.word2vec.Vocab object at 0x00000000081382B0>, 'drop': <gensim.models.word2vec.Vocab object at 0x0000000008040F28>, 'diplomatic': <gensim.models.word2vec.Vocab object at 0x00000000081534A8>, 'track': <gensim.models.word2vec.Vocab object at 0x0000000008040CF8>, 'ago': <gensim.models.word2vec.Vocab object at 0x00000000081D6CF8>, 'ended': <gensim.models.word2vec.Vocab object at 0x0000000008138E48>, 'decided': <gensim.models.word2vec.Vocab object at 0x00000000080167B8>, 'planes': <gensim.models.word2vec.Vocab object at 0x0000000008138A20>, 'ansett': <gensim.models.word2vec.Vocab object at 0x0000000008040DA0>, 'cabinet': <gensim.models.word2vec.Vocab object at 0x00000000081D6D30>, 'training': <gensim.models.word2vec.Vocab object at 0x0000000007ECD048>, 'karzai': <gensim.models.word2vec.Vocab object at 0x00000000081382E8>, 'seekers': <gensim.models.word2vec.Vocab object at 0x0000000008040AC8>, 'innings': <gensim.models.word2vec.Vocab object at 0x00000000080409E8>, 'understand': <gensim.models.word2vec.Vocab object at 0x0000000008138828>, 'marine': <gensim.models.word2vec.Vocab object at 0x0000000008016AC8>, 'population': <gensim.models.word2vec.Vocab object at 0x00000000081DC2B0>, 'resistance': <gensim.models.word2vec.Vocab object at 0x00000000081D6DA0>, 'various': <gensim.models.word2vec.Vocab object at 0x0000000008138550>, 'hayden': <gensim.models.word2vec.Vocab object at 0x00000000081DC978>, 'yasser': <gensim.models.word2vec.Vocab object at 0x00000000081D6E48>, \"sharon's\": <gensim.models.word2vec.Vocab object at 0x0000000008040C18>, 'attacks.': <gensim.models.word2vec.Vocab object at 0x00000000080168D0>, 'melbourne': <gensim.models.word2vec.Vocab object at 0x0000000008040CC0>, 'often': <gensim.models.word2vec.Vocab object at 0x00000000081A3080>, 'trapped': <gensim.models.word2vec.Vocab object at 0x00000000080204A8>, '2,000': <gensim.models.word2vec.Vocab object at 0x0000000007EA7A58>, 'low': <gensim.models.word2vec.Vocab object at 0x0000000008138B38>, 'country.': <gensim.models.word2vec.Vocab object at 0x00000000081A30B8>, 'homes': <gensim.models.word2vec.Vocab object at 0x0000000007E2E9E8>, 'border': <gensim.models.word2vec.Vocab object at 0x0000000008138D30>, 'team': <gensim.models.word2vec.Vocab object at 0x00000000081A3128>, 'important': <gensim.models.word2vec.Vocab object at 0x0000000008029DA0>, 'construction': <gensim.models.word2vec.Vocab object at 0x00000000081A3198>, \"laden's\": <gensim.models.word2vec.Vocab object at 0x00000000081A31D0>, 'again': <gensim.models.word2vec.Vocab object at 0x0000000008138320>, 'her': <gensim.models.word2vec.Vocab object at 0x0000000008020320>, 'level': <gensim.models.word2vec.Vocab object at 0x0000000008040198>, '21': <gensim.models.word2vec.Vocab object at 0x0000000008029B00>, 'fierce': <gensim.models.word2vec.Vocab object at 0x00000000081387F0>, 'farmers': <gensim.models.word2vec.Vocab object at 0x00000000080201D0>, 'anything': <gensim.models.word2vec.Vocab object at 0x0000000008153048>, 'thursday': <gensim.models.word2vec.Vocab object at 0x0000000008040080>, 'brought': <gensim.models.word2vec.Vocab object at 0x00000000081A3240>, 'al': <gensim.models.word2vec.Vocab object at 0x00000000081A3278>, 'under': <gensim.models.word2vec.Vocab object at 0x0000000008040278>, 'post': <gensim.models.word2vec.Vocab object at 0x0000000007EBFC88>, 'safety': <gensim.models.word2vec.Vocab object at 0x0000000008020550>, 'claimed': <gensim.models.word2vec.Vocab object at 0x00000000081A32B0>, 'another': <gensim.models.word2vec.Vocab object at 0x0000000008040128>, 'major': <gensim.models.word2vec.Vocab object at 0x0000000008020630>, 'save': <gensim.models.word2vec.Vocab object at 0x0000000008020390>, 'deadly': <gensim.models.word2vec.Vocab object at 0x00000000081A3320>, 'yesterday': <gensim.models.word2vec.Vocab object at 0x00000000080245C0>, 'appeared': <gensim.models.word2vec.Vocab object at 0x0000000008020470>, 'would': <gensim.models.word2vec.Vocab object at 0x00000000081DECC0>, 'france': <gensim.models.word2vec.Vocab object at 0x00000000081535C0>, 'can': <gensim.models.word2vec.Vocab object at 0x000000000803ACF8>, 'accept': <gensim.models.word2vec.Vocab object at 0x00000000080405C0>, 'you': <gensim.models.word2vec.Vocab object at 0x0000000008020DA0>, 'signed': <gensim.models.word2vec.Vocab object at 0x0000000008020A58>, 'fall': <gensim.models.word2vec.Vocab object at 0x0000000008020D68>, 'injured': <gensim.models.word2vec.Vocab object at 0x00000000081A34E0>, 'close': <gensim.models.word2vec.Vocab object at 0x0000000008029550>, 'crackdown': <gensim.models.word2vec.Vocab object at 0x0000000008020F28>, 'officers': <gensim.models.word2vec.Vocab object at 0x00000000081A3550>, '\"the': <gensim.models.word2vec.Vocab object at 0x00000000081A3588>, 'mission': <gensim.models.word2vec.Vocab object at 0x000000000800FEF0>, 'previous': <gensim.models.word2vec.Vocab object at 0x0000000008040438>, 'direct': <gensim.models.word2vec.Vocab object at 0x00000000081A35C0>, 'tape': <gensim.models.word2vec.Vocab object at 0x00000000081A35F8>, 'we': <gensim.models.word2vec.Vocab object at 0x0000000007EBF6A0>, 'mountains': <gensim.models.word2vec.Vocab object at 0x0000000008153128>, 'ice': <gensim.models.word2vec.Vocab object at 0x0000000008153160>, 'special': <gensim.models.word2vec.Vocab object at 0x00000000081D7828>, 'failed': <gensim.models.word2vec.Vocab object at 0x0000000008020E48>, 'squad': <gensim.models.word2vec.Vocab object at 0x00000000081A3630>, 'wake': <gensim.models.word2vec.Vocab object at 0x0000000007E2ED30>, 'fire': <gensim.models.word2vec.Vocab object at 0x0000000008020DD8>, 'australia.': <gensim.models.word2vec.Vocab object at 0x0000000008020D30>, 'reid': <gensim.models.word2vec.Vocab object at 0x00000000080244E0>, 'high': <gensim.models.word2vec.Vocab object at 0x00000000081531D0>, 'east': <gensim.models.word2vec.Vocab object at 0x0000000008040588>, 'caught': <gensim.models.word2vec.Vocab object at 0x00000000081A3668>, 'israelis': <gensim.models.word2vec.Vocab object at 0x00000000081DD0F0>, 'child': <gensim.models.word2vec.Vocab object at 0x0000000008020EF0>, 'charge': <gensim.models.word2vec.Vocab object at 0x0000000008040668>, 'region,': <gensim.models.word2vec.Vocab object at 0x00000000081A36A0>, 'central': <gensim.models.word2vec.Vocab object at 0x0000000007E1D748>, 'debate': <gensim.models.word2vec.Vocab object at 0x00000000081A3748>, \"year's\": <gensim.models.word2vec.Vocab object at 0x00000000081A3780>, 'hundred': <gensim.models.word2vec.Vocab object at 0x0000000007ECD400>, 'jenin': <gensim.models.word2vec.Vocab object at 0x0000000008020EB8>, 'too': <gensim.models.word2vec.Vocab object at 0x00000000081A37B8>, 'give': <gensim.models.word2vec.Vocab object at 0x0000000008020588>, 'data': <gensim.models.word2vec.Vocab object at 0x0000000007ECD470>, 'strike': <gensim.models.word2vec.Vocab object at 0x00000000081A37F0>, 'attacks,': <gensim.models.word2vec.Vocab object at 0x0000000008040A58>, 'rural': <gensim.models.word2vec.Vocab object at 0x0000000008020668>, 'car': <gensim.models.word2vec.Vocab object at 0x0000000008029080>, 'australians': <gensim.models.word2vec.Vocab object at 0x00000000080237B8>, 'order': <gensim.models.word2vec.Vocab object at 0x00000000081A3828>, 'maintenance': <gensim.models.word2vec.Vocab object at 0x00000000081A3860>, 'it,': <gensim.models.word2vec.Vocab object at 0x0000000007E19DD8>, 'summit': <gensim.models.word2vec.Vocab object at 0x0000000007ECD588>, 'built': <gensim.models.word2vec.Vocab object at 0x0000000007ECD5C0>, 'strip,': <gensim.models.word2vec.Vocab object at 0x0000000007ECD5F8>, 'most': <gensim.models.word2vec.Vocab object at 0x0000000008040A90>, 'carried': <gensim.models.word2vec.Vocab object at 0x00000000081A3898>, 'inside': <gensim.models.word2vec.Vocab object at 0x0000000008040C50>, \"there's\": <gensim.models.word2vec.Vocab object at 0x00000000080400B8>, 'capital,': <gensim.models.word2vec.Vocab object at 0x0000000007ECD630>, 'earlier,': <gensim.models.word2vec.Vocab object at 0x0000000008023DA0>, 'bush': <gensim.models.word2vec.Vocab object at 0x0000000008040B70>, 'suspect': <gensim.models.word2vec.Vocab object at 0x00000000081A3908>, 'test': <gensim.models.word2vec.Vocab object at 0x00000000080205C0>, 'timor': <gensim.models.word2vec.Vocab object at 0x00000000080409B0>, 'path': <gensim.models.word2vec.Vocab object at 0x0000000007ECD668>, 'short': <gensim.models.word2vec.Vocab object at 0x0000000008020E10>, 'spokesman': <gensim.models.word2vec.Vocab object at 0x0000000007ECD6A0>, '2001': <gensim.models.word2vec.Vocab object at 0x0000000007ECD6D8>, 'risk': <gensim.models.word2vec.Vocab object at 0x00000000081DA550>, 'two': <gensim.models.word2vec.Vocab object at 0x0000000008020748>, 'markets': <gensim.models.word2vec.Vocab object at 0x00000000080292B0>, 'meanwhile,': <gensim.models.word2vec.Vocab object at 0x0000000004A39710>, 'crossed': <gensim.models.word2vec.Vocab object at 0x00000000081A39B0>, 'day.': <gensim.models.word2vec.Vocab object at 0x000000000800FCF8>, 'pay': <gensim.models.word2vec.Vocab object at 0x0000000008020518>, 'suicide': <gensim.models.word2vec.Vocab object at 0x0000000008020710>, 'west': <gensim.models.word2vec.Vocab object at 0x00000000081DE940>, 'industrial': <gensim.models.word2vec.Vocab object at 0x0000000007ECD4E0>, 'hicks,': <gensim.models.word2vec.Vocab object at 0x000000000456D6D8>, 'rescue': <gensim.models.word2vec.Vocab object at 0x000000000800F860>, \"argentina's\": <gensim.models.word2vec.Vocab object at 0x00000000080407F0>, \"state's\": <gensim.models.word2vec.Vocab object at 0x0000000008040940>, 'month,': <gensim.models.word2vec.Vocab object at 0x00000000081CD438>, \"they're\": <gensim.models.word2vec.Vocab object at 0x0000000008024630>, 'rest': <gensim.models.word2vec.Vocab object at 0x00000000080207F0>, 'act': <gensim.models.word2vec.Vocab object at 0x00000000081A3A90>, 'canyoning': <gensim.models.word2vec.Vocab object at 0x00000000081DE908>, 'endeavour': <gensim.models.word2vec.Vocab object at 0x00000000081A3AC8>, 'then': <gensim.models.word2vec.Vocab object at 0x00000000081A3B00>, 'believed': <gensim.models.word2vec.Vocab object at 0x00000000080208D0>, 'expect': <gensim.models.word2vec.Vocab object at 0x0000000008019518>, 'took': <gensim.models.word2vec.Vocab object at 0x0000000008029B70>, 'australia': <gensim.models.word2vec.Vocab object at 0x000000000803AE80>, 'flight': <gensim.models.word2vec.Vocab object at 0x0000000004EBE0B8>, 'shuttle': <gensim.models.word2vec.Vocab object at 0x00000000081DEEF0>, '20': <gensim.models.word2vec.Vocab object at 0x00000000081CDEF0>, '12': <gensim.models.word2vec.Vocab object at 0x0000000008038780>, 'directors': <gensim.models.word2vec.Vocab object at 0x00000000081D73C8>, 'coach': <gensim.models.word2vec.Vocab object at 0x00000000081D74A8>, 'is': <gensim.models.word2vec.Vocab object at 0x0000000008020780>, 'since': <gensim.models.word2vec.Vocab object at 0x00000000081A3BE0>, 'wants': <gensim.models.word2vec.Vocab object at 0x0000000008040828>, 'taliban': <gensim.models.word2vec.Vocab object at 0x00000000081A3C18>, 'st': <gensim.models.word2vec.Vocab object at 0x0000000007ECD0B8>, 'action': <gensim.models.word2vec.Vocab object at 0x0000000008020208>, 'concerns': <gensim.models.word2vec.Vocab object at 0x0000000008020278>, 'rumsfeld': <gensim.models.word2vec.Vocab object at 0x0000000007ECD0F0>, 'us': <gensim.models.word2vec.Vocab object at 0x00000000080203C8>, 'pollock': <gensim.models.word2vec.Vocab object at 0x00000000080290B8>, 'ask': <gensim.models.word2vec.Vocab object at 0x0000000007ECD128>, 'bin': <gensim.models.word2vec.Vocab object at 0x0000000008040908>, 'know': <gensim.models.word2vec.Vocab object at 0x00000000080406A0>, 'tony': <gensim.models.word2vec.Vocab object at 0x0000000007ECD160>, 'washington.': <gensim.models.word2vec.Vocab object at 0x0000000008029860>, 'detainees': <gensim.models.word2vec.Vocab object at 0x0000000007ECD198>, 'projects': <gensim.models.word2vec.Vocab object at 0x00000000081A3C50>, 'opening': <gensim.models.word2vec.Vocab object at 0x00000000081A3C88>, 'weapons': <gensim.models.word2vec.Vocab object at 0x0000000007ECD1D0>, 'lost': <gensim.models.word2vec.Vocab object at 0x00000000080297F0>, 'documents': <gensim.models.word2vec.Vocab object at 0x0000000008029780>, 'extremists': <gensim.models.word2vec.Vocab object at 0x0000000008029978>, 'look': <gensim.models.word2vec.Vocab object at 0x00000000081CDF60>, 'red': <gensim.models.word2vec.Vocab object at 0x0000000007ECD208>, 'arafat': <gensim.models.word2vec.Vocab object at 0x0000000007ECD240>, 'getting': <gensim.models.word2vec.Vocab object at 0x00000000081A3CC0>, '-': <gensim.models.word2vec.Vocab object at 0x0000000007E1D7F0>, 'world,': <gensim.models.word2vec.Vocab object at 0x0000000008020080>, 'bombers': <gensim.models.word2vec.Vocab object at 0x00000000080202B0>, 'related': <gensim.models.word2vec.Vocab object at 0x0000000007ECD278>, 'kandahar': <gensim.models.word2vec.Vocab object at 0x0000000007ECD2B0>, 'here': <gensim.models.word2vec.Vocab object at 0x0000000008029898>, 'less': <gensim.models.word2vec.Vocab object at 0x00000000081A3D68>, 'insurance': <gensim.models.word2vec.Vocab object at 0x0000000007ECD2E8>, 'young': <gensim.models.word2vec.Vocab object at 0x0000000008023828>, 'light': <gensim.models.word2vec.Vocab object at 0x0000000008020128>, 'charged': <gensim.models.word2vec.Vocab object at 0x00000000080386D8>, 'well,': <gensim.models.word2vec.Vocab object at 0x00000000081D2D30>, 'trying': <gensim.models.word2vec.Vocab object at 0x0000000008029F28>, 'credit': <gensim.models.word2vec.Vocab object at 0x0000000008029EB8>, 'organisations': <gensim.models.word2vec.Vocab object at 0x0000000008020978>, 'worst': <gensim.models.word2vec.Vocab object at 0x00000000080384A8>, 'said,': <gensim.models.word2vec.Vocab object at 0x0000000007ECD358>, 'institute': <gensim.models.word2vec.Vocab object at 0x00000000081A3DD8>, 'expected': <gensim.models.word2vec.Vocab object at 0x0000000008038518>, 'negotiating': <gensim.models.word2vec.Vocab object at 0x0000000008038630>, 'state.': <gensim.models.word2vec.Vocab object at 0x0000000008020BA8>, 'wickets': <gensim.models.word2vec.Vocab object at 0x0000000008153400>, 'banks': <gensim.models.word2vec.Vocab object at 0x00000000081A3E10>, 'comes': <gensim.models.word2vec.Vocab object at 0x00000000081A3E48>, 'policy': <gensim.models.word2vec.Vocab object at 0x00000000081DB128>, 'before': <gensim.models.word2vec.Vocab object at 0x00000000081D3F60>, 'containment': <gensim.models.word2vec.Vocab object at 0x00000000081A3EB8>, 'resume': <gensim.models.word2vec.Vocab object at 0x0000000008016208>, 'emergency': <gensim.models.word2vec.Vocab object at 0x00000000081DCFD0>, 'returned': <gensim.models.word2vec.Vocab object at 0x00000000081A10F0>, 'power': <gensim.models.word2vec.Vocab object at 0x0000000008029AC8>, 'measures': <gensim.models.word2vec.Vocab object at 0x0000000008020B00>, 'forces': <gensim.models.word2vec.Vocab object at 0x00000000080299B0>, 'worked': <gensim.models.word2vec.Vocab object at 0x00000000081A3F98>, 'land': <gensim.models.word2vec.Vocab object at 0x00000000081DA5F8>, 'office': <gensim.models.word2vec.Vocab object at 0x0000000008020828>, 'market': <gensim.models.word2vec.Vocab object at 0x00000000080389E8>, 'affected': <gensim.models.word2vec.Vocab object at 0x0000000008020908>, 'confidence': <gensim.models.word2vec.Vocab object at 0x0000000008020940>, '\"we': <gensim.models.word2vec.Vocab object at 0x0000000008029B38>, 'growing': <gensim.models.word2vec.Vocab object at 0x0000000007ECD390>, 'premier': <gensim.models.word2vec.Vocab object at 0x00000000081A3CF8>, 'treated': <gensim.models.word2vec.Vocab object at 0x0000000008153860>, 'system': <gensim.models.word2vec.Vocab object at 0x00000000080236A0>, 'terrorist': <gensim.models.word2vec.Vocab object at 0x0000000007ECD3C8>, 'front': <gensim.models.word2vec.Vocab object at 0x00000000081D1048>, 'clashes': <gensim.models.word2vec.Vocab object at 0x00000000081A33C8>, 'morning.': <gensim.models.word2vec.Vocab object at 0x0000000007ECD320>, 'workers': <gensim.models.word2vec.Vocab object at 0x0000000008020B38>, 'morning': <gensim.models.word2vec.Vocab object at 0x00000000081A3048>, 'serious': <gensim.models.word2vec.Vocab object at 0x0000000007EBF588>, 'hamid': <gensim.models.word2vec.Vocab object at 0x0000000008005CF8>, 'washington,': <gensim.models.word2vec.Vocab object at 0x00000000081DA780>, 'place': <gensim.models.word2vec.Vocab object at 0x0000000008005978>, 'department': <gensim.models.word2vec.Vocab object at 0x0000000008020C88>, 'media': <gensim.models.word2vec.Vocab object at 0x00000000081389B0>, 'alleged': <gensim.models.word2vec.Vocab object at 0x00000000080247B8>, 'india': <gensim.models.word2vec.Vocab object at 0x00000000081A1320>, 'donald': <gensim.models.word2vec.Vocab object at 0x0000000008020F98>, 'williams': <gensim.models.word2vec.Vocab object at 0x0000000008029C88>, 'today': <gensim.models.word2vec.Vocab object at 0x0000000008020FD0>, '\"but': <gensim.models.word2vec.Vocab object at 0x0000000007EA7EF0>, 'had': <gensim.models.word2vec.Vocab object at 0x00000000080209E8>, 'trading': <gensim.models.word2vec.Vocab object at 0x000000000803A0F0>, 'gunmen': <gensim.models.word2vec.Vocab object at 0x00000000080207B8>, 'gave': <gensim.models.word2vec.Vocab object at 0x00000000081A4240>, 'adding': <gensim.models.word2vec.Vocab object at 0x00000000081D1B70>, 'mt': <gensim.models.word2vec.Vocab object at 0x0000000008020A90>, 'severe': <gensim.models.word2vec.Vocab object at 0x0000000008020B70>, 'john': <gensim.models.word2vec.Vocab object at 0x00000000081A45C0>, 'highway': <gensim.models.word2vec.Vocab object at 0x00000000081DA208>, 'un': <gensim.models.word2vec.Vocab object at 0x0000000007EA7D30>, 'now': <gensim.models.word2vec.Vocab object at 0x0000000007EA7D68>, 'minister': <gensim.models.word2vec.Vocab object at 0x00000000081DA278>, 'ariel': <gensim.models.word2vec.Vocab object at 0x0000000007EA7DA0>, 'political': <gensim.models.word2vec.Vocab object at 0x0000000008020A20>, 'chance': <gensim.models.word2vec.Vocab object at 0x0000000007E19668>, 'trade': <gensim.models.word2vec.Vocab object at 0x0000000007E19080>, 'finding': <gensim.models.word2vec.Vocab object at 0x00000000081DE780>, 'move': <gensim.models.word2vec.Vocab object at 0x0000000007EA7E10>, 'responding': <gensim.models.word2vec.Vocab object at 0x00000000081DA2E8>, 'seven': <gensim.models.word2vec.Vocab object at 0x00000000081DA358>, 'increase': <gensim.models.word2vec.Vocab object at 0x0000000008029CF8>, 'storms': <gensim.models.word2vec.Vocab object at 0x00000000081DD080>, 'top': <gensim.models.word2vec.Vocab object at 0x0000000007EA7E48>, 'cannot': <gensim.models.word2vec.Vocab object at 0x00000000081DA390>, 'martin': <gensim.models.word2vec.Vocab object at 0x0000000008138E10>, 'will': <gensim.models.word2vec.Vocab object at 0x0000000007EA76A0>, 'costs': <gensim.models.word2vec.Vocab object at 0x0000000007EA7BA8>, 'ian': <gensim.models.word2vec.Vocab object at 0x0000000007E197F0>, 'completed': <gensim.models.word2vec.Vocab object at 0x00000000081CB978>, 'destroyed': <gensim.models.word2vec.Vocab object at 0x0000000007E195F8>, 'authority': <gensim.models.word2vec.Vocab object at 0x0000000008016898>, 'middle': <gensim.models.word2vec.Vocab object at 0x000000000800FF60>, 'ever': <gensim.models.word2vec.Vocab object at 0x00000000081A3208>, 'hobart': <gensim.models.word2vec.Vocab object at 0x0000000007E195C0>, 'community.': <gensim.models.word2vec.Vocab object at 0x00000000081DA400>, 'losing': <gensim.models.word2vec.Vocab object at 0x0000000007E19BA8>, 'holiday': <gensim.models.word2vec.Vocab object at 0x00000000081DA470>, 'israelis.': <gensim.models.word2vec.Vocab object at 0x0000000007EA7588>, 'ministry': <gensim.models.word2vec.Vocab object at 0x00000000081CB0F0>, 'residents': <gensim.models.word2vec.Vocab object at 0x00000000081DA4E0>, 'south-west': <gensim.models.word2vec.Vocab object at 0x0000000008020F60>, '50': <gensim.models.word2vec.Vocab object at 0x0000000007EA74A8>, '18': <gensim.models.word2vec.Vocab object at 0x00000000081DC4A8>, 'could': <gensim.models.word2vec.Vocab object at 0x00000000081DA518>, 'india.': <gensim.models.word2vec.Vocab object at 0x0000000007E19860>, 'suspended': <gensim.models.word2vec.Vocab object at 0x0000000007E19BE0>, 'suggested': <gensim.models.word2vec.Vocab object at 0x0000000007E19C50>, 'moved': <gensim.models.word2vec.Vocab object at 0x0000000007E19D30>, 'ray': <gensim.models.word2vec.Vocab object at 0x00000000080205F8>, 'ms': <gensim.models.word2vec.Vocab object at 0x0000000007E19A90>, 'rise': <gensim.models.word2vec.Vocab object at 0x00000000081A3BA8>, 'accident': <gensim.models.word2vec.Vocab object at 0x0000000007E19B70>, 'them': <gensim.models.word2vec.Vocab object at 0x0000000008023908>, 'air': <gensim.models.word2vec.Vocab object at 0x00000000081DA588>, 'greatest': <gensim.models.word2vec.Vocab object at 0x0000000008029208>, 'statistics': <gensim.models.word2vec.Vocab object at 0x00000000081A3D30>, \"yesterday's\": <gensim.models.word2vec.Vocab object at 0x0000000008029748>, 'looking': <gensim.models.word2vec.Vocab object at 0x00000000080296A0>, 'edge': <gensim.models.word2vec.Vocab object at 0x0000000007EA7EB8>, 'years': <gensim.models.word2vec.Vocab object at 0x0000000007EA7F28>, 'fell': <gensim.models.word2vec.Vocab object at 0x00000000081DA5C0>, 'rule': <gensim.models.word2vec.Vocab object at 0x0000000007E19588>, 'might': <gensim.models.word2vec.Vocab object at 0x0000000007E191D0>, '\"there': <gensim.models.word2vec.Vocab object at 0x00000000080231D0>, 'country': <gensim.models.word2vec.Vocab object at 0x0000000008020E80>, 'bank,': <gensim.models.word2vec.Vocab object at 0x0000000008029710>, '14': <gensim.models.word2vec.Vocab object at 0x00000000080209B0>, 'runs': <gensim.models.word2vec.Vocab object at 0x00000000081DA630>, 'honours': <gensim.models.word2vec.Vocab object at 0x0000000007E19518>, 'issued': <gensim.models.word2vec.Vocab object at 0x0000000007EA7F98>, 'arrest': <gensim.models.word2vec.Vocab object at 0x0000000007EA7E80>, 'bowler': <gensim.models.word2vec.Vocab object at 0x0000000008029908>, 'issues': <gensim.models.word2vec.Vocab object at 0x0000000008153908>, 'war': <gensim.models.word2vec.Vocab object at 0x00000000081DA3C8>, 'ballot': <gensim.models.word2vec.Vocab object at 0x0000000007EA7F60>, 'jihad': <gensim.models.word2vec.Vocab object at 0x0000000007E19198>, 'work.': <gensim.models.word2vec.Vocab object at 0x00000000081DA710>, 'handed': <gensim.models.word2vec.Vocab object at 0x00000000081A1390>, '\"every': <gensim.models.word2vec.Vocab object at 0x0000000007E19358>, 'deployed': <gensim.models.word2vec.Vocab object at 0x0000000008019B00>, 'manager': <gensim.models.word2vec.Vocab object at 0x0000000007E190B8>, 'issue': <gensim.models.word2vec.Vocab object at 0x00000000081DA748>, 'all': <gensim.models.word2vec.Vocab object at 0x0000000008020438>, 'waugh': <gensim.models.word2vec.Vocab object at 0x0000000007EBFF98>, 'domestic': <gensim.models.word2vec.Vocab object at 0x0000000007E190F0>, 'match': <gensim.models.word2vec.Vocab object at 0x0000000004ECDC88>, 'wales': <gensim.models.word2vec.Vocab object at 0x0000000008029588>, 'per': <gensim.models.word2vec.Vocab object at 0x0000000008005BA8>, 'services': <gensim.models.word2vec.Vocab object at 0x0000000007E19128>, 'blasted': <gensim.models.word2vec.Vocab object at 0x00000000081DAA58>, 'mark': <gensim.models.word2vec.Vocab object at 0x0000000007EBFFD0>, 'it': <gensim.models.word2vec.Vocab object at 0x00000000081DA7B8>, 'son': <gensim.models.word2vec.Vocab object at 0x0000000007EBFF28>, 'attacks': <gensim.models.word2vec.Vocab object at 0x00000000081DA7F0>, 'guess': <gensim.models.word2vec.Vocab object at 0x0000000007E197B8>, 'japanese': <gensim.models.word2vec.Vocab object at 0x0000000007EBFD68>, 'american': <gensim.models.word2vec.Vocab object at 0x00000000081DACC0>, \"arafat's\": <gensim.models.word2vec.Vocab object at 0x00000000081DA860>, 'i': <gensim.models.word2vec.Vocab object at 0x00000000081DA908>, 'militia': <gensim.models.word2vec.Vocab object at 0x00000000080295F8>, 'matthew': <gensim.models.word2vec.Vocab object at 0x0000000007EBFCC0>, 'city,': <gensim.models.word2vec.Vocab object at 0x0000000007E196A0>, 'guides': <gensim.models.word2vec.Vocab object at 0x00000000081DA978>, 'deputy': <gensim.models.word2vec.Vocab object at 0x00000000081DA9B0>, 'killing': <gensim.models.word2vec.Vocab object at 0x0000000007E19978>, 'ashes': <gensim.models.word2vec.Vocab object at 0x0000000007E19FD0>, 'sergeant': <gensim.models.word2vec.Vocab object at 0x0000000008019048>, 'game': <gensim.models.word2vec.Vocab object at 0x0000000007E19898>, 'determine': <gensim.models.word2vec.Vocab object at 0x00000000081DA438>, 'show': <gensim.models.word2vec.Vocab object at 0x00000000081DA9E8>, 'action.': <gensim.models.word2vec.Vocab object at 0x0000000007E19748>, 'key': <gensim.models.word2vec.Vocab object at 0x0000000007EBFDA0>, 'point': <gensim.models.word2vec.Vocab object at 0x000000000803AC88>, 'george': <gensim.models.word2vec.Vocab object at 0x000000000803AE10>, 'television': <gensim.models.word2vec.Vocab object at 0x0000000007E19A58>, 'firm': <gensim.models.word2vec.Vocab object at 0x0000000007E198D0>, 'number': <gensim.models.word2vec.Vocab object at 0x0000000004ECDF60>, 'full': <gensim.models.word2vec.Vocab object at 0x0000000008029400>, 'dispute': <gensim.models.word2vec.Vocab object at 0x0000000007EBFB70>, 'months,': <gensim.models.word2vec.Vocab object at 0x0000000007EBFD30>, 'jets': <gensim.models.word2vec.Vocab object at 0x00000000080297B8>, 'three': <gensim.models.word2vec.Vocab object at 0x0000000007EBF0F0>, 'freeze.': <gensim.models.word2vec.Vocab object at 0x00000000080294A8>, 'almost': <gensim.models.word2vec.Vocab object at 0x0000000008029630>, '\"what': <gensim.models.word2vec.Vocab object at 0x0000000007E19160>, 'heavy': <gensim.models.word2vec.Vocab object at 0x0000000008029E80>, 'levels': <gensim.models.word2vec.Vocab object at 0x000000000803A828>, 'says': <gensim.models.word2vec.Vocab object at 0x0000000007E19B00>, 'he': <gensim.models.word2vec.Vocab object at 0x0000000007EBF080>, 'walk': <gensim.models.word2vec.Vocab object at 0x0000000007E19C18>, 'study': <gensim.models.word2vec.Vocab object at 0x0000000007E19AC8>, 'sides': <gensim.models.word2vec.Vocab object at 0x0000000008029E48>, 'alliance': <gensim.models.word2vec.Vocab object at 0x0000000007E19EF0>, 'according': <gensim.models.word2vec.Vocab object at 0x0000000008029E10>, 'effort': <gensim.models.word2vec.Vocab object at 0x0000000007E19F60>, 'gas': <gensim.models.word2vec.Vocab object at 0x0000000007E19F28>, 'continue': <gensim.models.word2vec.Vocab object at 0x00000000081DAAC8>, 'questions': <gensim.models.word2vec.Vocab object at 0x000000000803AB70>, 'conditions': <gensim.models.word2vec.Vocab object at 0x0000000007EBF198>, 'refused': <gensim.models.word2vec.Vocab object at 0x0000000008029D30>, 'claims': <gensim.models.word2vec.Vocab object at 0x00000000081DDE80>, 'advice': <gensim.models.word2vec.Vocab object at 0x00000000081DAB38>, 'feel': <gensim.models.word2vec.Vocab object at 0x0000000007E19EB8>, 'running': <gensim.models.word2vec.Vocab object at 0x0000000007E192B0>, 'to': <gensim.models.word2vec.Vocab object at 0x00000000081A32E8>, 'sentence': <gensim.models.word2vec.Vocab object at 0x00000000081D5E48>, 'protection': <gensim.models.word2vec.Vocab object at 0x0000000007E19240>, 'first': <gensim.models.word2vec.Vocab object at 0x0000000007E192E8>, 'statement.': <gensim.models.word2vec.Vocab object at 0x00000000081DE198>, 'warning': <gensim.models.word2vec.Vocab object at 0x0000000007E194A8>, 'kieren': <gensim.models.word2vec.Vocab object at 0x00000000081DD278>, \"afghanistan's\": <gensim.models.word2vec.Vocab object at 0x0000000007EBF1D0>, 'tried': <gensim.models.word2vec.Vocab object at 0x0000000008023208>, 'states,': <gensim.models.word2vec.Vocab object at 0x0000000007F5CB38>, 'approach': <gensim.models.word2vec.Vocab object at 0x0000000008019D68>, 'same': <gensim.models.word2vec.Vocab object at 0x0000000007E19208>, 'control': <gensim.models.word2vec.Vocab object at 0x0000000007EBF128>, 'meet': <gensim.models.word2vec.Vocab object at 0x00000000081CB710>, 'b-52': <gensim.models.word2vec.Vocab object at 0x0000000007EBF208>, 'pilot': <gensim.models.word2vec.Vocab object at 0x00000000081DD860>, 'coast': <gensim.models.word2vec.Vocab object at 0x00000000081DACF8>, 'attempt': <gensim.models.word2vec.Vocab object at 0x0000000007F5C3C8>, 'palestinian': <gensim.models.word2vec.Vocab object at 0x0000000007EBF278>, 'unidentified': <gensim.models.word2vec.Vocab object at 0x0000000008029BA8>, 'program': <gensim.models.word2vec.Vocab object at 0x0000000007EBF2B0>, 'yesterday,': <gensim.models.word2vec.Vocab object at 0x0000000007EBF2E8>, 'able': <gensim.models.word2vec.Vocab object at 0x0000000007E19278>, 'bomb': <gensim.models.word2vec.Vocab object at 0x0000000007EBF358>, 'river.': <gensim.models.word2vec.Vocab object at 0x0000000008016E48>, 'fight': <gensim.models.word2vec.Vocab object at 0x0000000008029320>, 'adventure': <gensim.models.word2vec.Vocab object at 0x0000000008029240>, 'last': <gensim.models.word2vec.Vocab object at 0x0000000007E196D8>, 'working': <gensim.models.word2vec.Vocab object at 0x00000000081DAD30>, 'tanks': <gensim.models.word2vec.Vocab object at 0x0000000007EBF390>, 'justice': <gensim.models.word2vec.Vocab object at 0x00000000081DAD68>, 'temporary': <gensim.models.word2vec.Vocab object at 0x0000000008029470>, 'flames': <gensim.models.word2vec.Vocab object at 0x00000000081D5780>, 'final': <gensim.models.word2vec.Vocab object at 0x0000000007EBF400>, 'acting': <gensim.models.word2vec.Vocab object at 0x00000000080294E0>, 'adelaide': <gensim.models.word2vec.Vocab object at 0x0000000008040048>, 'witnesses': <gensim.models.word2vec.Vocab object at 0x0000000007EBF438>, 'osama': <gensim.models.word2vec.Vocab object at 0x0000000008040358>, 'find': <gensim.models.word2vec.Vocab object at 0x0000000007E19940>, 'winning': <gensim.models.word2vec.Vocab object at 0x00000000080292E8>, 'television.': <gensim.models.word2vec.Vocab object at 0x0000000007E199B0>, 'individuals': <gensim.models.word2vec.Vocab object at 0x0000000007E199E8>, 'director': <gensim.models.word2vec.Vocab object at 0x00000000080197B8>, 'accused': <gensim.models.word2vec.Vocab object at 0x00000000080197F0>, 'talks.': <gensim.models.word2vec.Vocab object at 0x000000000803AD68>, 'figures': <gensim.models.word2vec.Vocab object at 0x0000000008029160>, 'tasmania': <gensim.models.word2vec.Vocab object at 0x00000000080190B8>, 'condition': <gensim.models.word2vec.Vocab object at 0x0000000007E19908>, 'giant': <gensim.models.word2vec.Vocab object at 0x0000000008016828>, 'allowed': <gensim.models.word2vec.Vocab object at 0x00000000081DB0F0>, \"airline's\": <gensim.models.word2vec.Vocab object at 0x0000000007E19400>, 'eve': <gensim.models.word2vec.Vocab object at 0x0000000004EBE2E8>, 'those': <gensim.models.word2vec.Vocab object at 0x00000000081DADD8>, 'remaining': <gensim.models.word2vec.Vocab object at 0x0000000008029128>, 'agency': <gensim.models.word2vec.Vocab object at 0x0000000007EBF4A8>, 'nearby': <gensim.models.word2vec.Vocab object at 0x0000000004EBEC50>, 'seekers.': <gensim.models.word2vec.Vocab object at 0x0000000007EBF518>, 'jason': <gensim.models.word2vec.Vocab object at 0x0000000007E19390>, 'given': <gensim.models.word2vec.Vocab object at 0x00000000081CBAC8>, 'thought': <gensim.models.word2vec.Vocab object at 0x0000000004EBEE80>, 'service': <gensim.models.word2vec.Vocab object at 0x00000000081DAE10>, 'involved': <gensim.models.word2vec.Vocab object at 0x0000000008029198>, 'served': <gensim.models.word2vec.Vocab object at 0x0000000008153668>, 'ensure': <gensim.models.word2vec.Vocab object at 0x0000000007EBF5C0>, 'strikes': <gensim.models.word2vec.Vocab object at 0x0000000007EBF5F8>, 'boxing': <gensim.models.word2vec.Vocab object at 0x0000000007E19320>, 'despite': <gensim.models.word2vec.Vocab object at 0x0000000007EBF6D8>, 'days.': <gensim.models.word2vec.Vocab object at 0x0000000007EBF898>, 'official': <gensim.models.word2vec.Vocab object at 0x0000000007E19550>, 'only': <gensim.models.word2vec.Vocab object at 0x0000000008029358>, 'still': <gensim.models.word2vec.Vocab object at 0x00000000081CBF60>, 'big': <gensim.models.word2vec.Vocab object at 0x0000000007EBF9E8>, 'law': <gensim.models.word2vec.Vocab object at 0x0000000007E19630>, 'yallourn': <gensim.models.word2vec.Vocab object at 0x00000000081DAE48>, 'rain': <gensim.models.word2vec.Vocab object at 0x0000000007EBFA20>, 'handling': <gensim.models.word2vec.Vocab object at 0x0000000007EBFDD8>, 'position': <gensim.models.word2vec.Vocab object at 0x00000000081CD0F0>, 'students': <gensim.models.word2vec.Vocab object at 0x0000000007EBFA58>, '2': <gensim.models.word2vec.Vocab object at 0x00000000081CD278>, 'heritage': <gensim.models.word2vec.Vocab object at 0x00000000081530F0>, 'soon': <gensim.models.word2vec.Vocab object at 0x0000000008029438>, 'however': <gensim.models.word2vec.Vocab object at 0x00000000081DAE80>, 'sydney.': <gensim.models.word2vec.Vocab object at 0x0000000007EBFA90>, 'suharto': <gensim.models.word2vec.Vocab object at 0x0000000007EBFAC8>, '\"in': <gensim.models.word2vec.Vocab object at 0x0000000008016A90>, 'yachts': <gensim.models.word2vec.Vocab object at 0x0000000007E19438>, 'swept': <gensim.models.word2vec.Vocab object at 0x00000000080293C8>, 'kabul': <gensim.models.word2vec.Vocab object at 0x00000000081DAEF0>, 'largest': <gensim.models.word2vec.Vocab object at 0x0000000007E19E10>, 'because': <gensim.models.word2vec.Vocab object at 0x00000000081CB128>, 'other': <gensim.models.word2vec.Vocab object at 0x0000000008029518>, 'overnight': <gensim.models.word2vec.Vocab object at 0x00000000080169E8>, 'brett': <gensim.models.word2vec.Vocab object at 0x0000000007EBFB00>, 'tomorrow': <gensim.models.word2vec.Vocab object at 0x0000000007E19E48>, 'drug': <gensim.models.word2vec.Vocab object at 0x00000000081DAF60>, 'review': <gensim.models.word2vec.Vocab object at 0x0000000007E19D68>, 'western': <gensim.models.word2vec.Vocab object at 0x0000000007EBFBA8>, 'weather': <gensim.models.word2vec.Vocab object at 0x00000000081A4400>, 'britain': <gensim.models.word2vec.Vocab object at 0x0000000007F5C4A8>, 'health': <gensim.models.word2vec.Vocab object at 0x00000000081CD7B8>, 'in': <gensim.models.word2vec.Vocab object at 0x0000000008019438>, \"harrison's\": <gensim.models.word2vec.Vocab object at 0x0000000008029CC0>, 'work': <gensim.models.word2vec.Vocab object at 0x00000000081DAF98>, 'significant': <gensim.models.word2vec.Vocab object at 0x00000000081CD898>, \"today's\": <gensim.models.word2vec.Vocab object at 0x0000000007ECD438>, 'mean': <gensim.models.word2vec.Vocab object at 0x0000000008153828>, 'chairman': <gensim.models.word2vec.Vocab object at 0x0000000007E19E80>, 'owen': <gensim.models.word2vec.Vocab object at 0x00000000081DAFD0>, 'aboard': <gensim.models.word2vec.Vocab object at 0x00000000081CDA20>, 'focus': <gensim.models.word2vec.Vocab object at 0x00000000081DA048>, 'them.': <gensim.models.word2vec.Vocab object at 0x00000000081DA080>, 'approval': <gensim.models.word2vec.Vocab object at 0x0000000008153A58>, 'million.': <gensim.models.word2vec.Vocab object at 0x0000000007EBF9B0>, 'williams,': <gensim.models.word2vec.Vocab object at 0x0000000007E19B38>, 'make': <gensim.models.word2vec.Vocab object at 0x0000000007E19C88>, 'into': <gensim.models.word2vec.Vocab object at 0x0000000008023BE0>, 'period': <gensim.models.word2vec.Vocab object at 0x0000000007E19DA0>, 'hoping': <gensim.models.word2vec.Vocab object at 0x0000000008024828>, 'home': <gensim.models.word2vec.Vocab object at 0x00000000081DA0B8>, 'recent': <gensim.models.word2vec.Vocab object at 0x00000000080249E8>, 'attacking': <gensim.models.word2vec.Vocab object at 0x0000000008023748>, 'court': <gensim.models.word2vec.Vocab object at 0x0000000007E19CC0>, 'support': <gensim.models.word2vec.Vocab object at 0x0000000008023860>, 'aircraft': <gensim.models.word2vec.Vocab object at 0x00000000081DA128>, 'am': <gensim.models.word2vec.Vocab object at 0x000000000803A5F8>, 'case': <gensim.models.word2vec.Vocab object at 0x0000000007EBF940>, 'helicopter': <gensim.models.word2vec.Vocab object at 0x00000000081DA160>, 'carrying': <gensim.models.word2vec.Vocab object at 0x00000000081A10B8>, 'blaze': <gensim.models.word2vec.Vocab object at 0x0000000007EBF748>, 'shortly': <gensim.models.word2vec.Vocab object at 0x00000000081DB668>, 'prepare': <gensim.models.word2vec.Vocab object at 0x00000000081DCBE0>, 'north.': <gensim.models.word2vec.Vocab object at 0x0000000008023AC8>, 'sarah': <gensim.models.word2vec.Vocab object at 0x00000000081DC080>, 'farm': <gensim.models.word2vec.Vocab object at 0x00000000081530B8>, 'try': <gensim.models.word2vec.Vocab object at 0x00000000080242B0>, 'heart': <gensim.models.word2vec.Vocab object at 0x0000000008040898>, 'relationship': <gensim.models.word2vec.Vocab object at 0x0000000004EBE8D0>, 'shot': <gensim.models.word2vec.Vocab object at 0x0000000007EBF780>, 'intelligence': <gensim.models.word2vec.Vocab object at 0x0000000007EBF7B8>, 'live': <gensim.models.word2vec.Vocab object at 0x0000000007EBF7F0>, 'crisis': <gensim.models.word2vec.Vocab object at 0x000000000803A630>, 'due': <gensim.models.word2vec.Vocab object at 0x0000000008153AC8>, 'south': <gensim.models.word2vec.Vocab object at 0x0000000007EBF828>, 'doug': <gensim.models.word2vec.Vocab object at 0x000000000803A710>, 'several': <gensim.models.word2vec.Vocab object at 0x0000000008023FD0>, 'added.': <gensim.models.word2vec.Vocab object at 0x0000000008024278>, 'public': <gensim.models.word2vec.Vocab object at 0x0000000008024438>, 'winds': <gensim.models.word2vec.Vocab object at 0x0000000008138CF8>, 'base': <gensim.models.word2vec.Vocab object at 0x0000000007EBF860>, 'lot': <gensim.models.word2vec.Vocab object at 0x0000000008040390>, \"india's\": <gensim.models.word2vec.Vocab object at 0x0000000007EBF630>, 'him.': <gensim.models.word2vec.Vocab object at 0x0000000008024358>, 'crean': <gensim.models.word2vec.Vocab object at 0x0000000007EBF668>, 'today,': <gensim.models.word2vec.Vocab object at 0x00000000081DC0F0>, 'reveal': <gensim.models.word2vec.Vocab object at 0x000000000803AC50>, 'bill': <gensim.models.word2vec.Vocab object at 0x0000000008024198>, 'plans': <gensim.models.word2vec.Vocab object at 0x00000000080242E8>, 'parties': <gensim.models.word2vec.Vocab object at 0x0000000007F5C550>, 'organisation': <gensim.models.word2vec.Vocab object at 0x0000000008023518>, 'meeting': <gensim.models.word2vec.Vocab object at 0x0000000008153198>, 'community': <gensim.models.word2vec.Vocab object at 0x0000000008024048>, 'threatened': <gensim.models.word2vec.Vocab object at 0x000000000803A5C0>, 'wall': <gensim.models.word2vec.Vocab object at 0x0000000008029A20>, 'currently': <gensim.models.word2vec.Vocab object at 0x0000000008138668>, 'resolve': <gensim.models.word2vec.Vocab object at 0x00000000081DD898>, 'advance': <gensim.models.word2vec.Vocab object at 0x0000000008020C18>, 'person': <gensim.models.word2vec.Vocab object at 0x00000000081DC198>, 'provide': <gensim.models.word2vec.Vocab object at 0x0000000008029DD8>, 'activity': <gensim.models.word2vec.Vocab object at 0x0000000007E2ED68>, 'putting': <gensim.models.word2vec.Vocab object at 0x0000000008024390>, 'how': <gensim.models.word2vec.Vocab object at 0x00000000081DC1D0>, 'cause': <gensim.models.word2vec.Vocab object at 0x000000000803ADA0>, 'seeking': <gensim.models.word2vec.Vocab object at 0x0000000004EBE198>, 'eight': <gensim.models.word2vec.Vocab object at 0x0000000007E2EEF0>, 'even': <gensim.models.word2vec.Vocab object at 0x0000000007E2EEB8>, 'cost': <gensim.models.word2vec.Vocab object at 0x0000000007E2EF28>, 'king': <gensim.models.word2vec.Vocab object at 0x00000000080234E0>, 'everything': <gensim.models.word2vec.Vocab object at 0x000000000803AD30>, 'field': <gensim.models.word2vec.Vocab object at 0x0000000008019278>, 'time.': <gensim.models.word2vec.Vocab object at 0x0000000008024240>, 'labour': <gensim.models.word2vec.Vocab object at 0x00000000081DC278>, 'metres': <gensim.models.word2vec.Vocab object at 0x000000000803ADD8>, 'quite': <gensim.models.word2vec.Vocab object at 0x0000000007F5CAC8>, 'coming': <gensim.models.word2vec.Vocab object at 0x00000000081DC2E8>, 'races': <gensim.models.word2vec.Vocab object at 0x0000000007E2EFD0>, 'the': <gensim.models.word2vec.Vocab object at 0x0000000008023CC0>, 'what': <gensim.models.word2vec.Vocab object at 0x00000000081DC320>, 'volunteers': <gensim.models.word2vec.Vocab object at 0x0000000007E2EF98>, 'bring': <gensim.models.word2vec.Vocab object at 0x0000000007F5C048>, 'house': <gensim.models.word2vec.Vocab object at 0x0000000007F5C278>, 'fires': <gensim.models.word2vec.Vocab object at 0x000000000803AF98>, '1999': <gensim.models.word2vec.Vocab object at 0x00000000081CD208>, 'republic': <gensim.models.word2vec.Vocab object at 0x00000000081DC358>, 'steve': <gensim.models.word2vec.Vocab object at 0x0000000008029278>, 'played': <gensim.models.word2vec.Vocab object at 0x000000000803AF60>, 'result': <gensim.models.word2vec.Vocab object at 0x00000000081DC390>, 'grant': <gensim.models.word2vec.Vocab object at 0x0000000008040978>, 'member': <gensim.models.word2vec.Vocab object at 0x00000000080243C8>, 'consumers': <gensim.models.word2vec.Vocab object at 0x0000000007F5C1D0>, 'call': <gensim.models.word2vec.Vocab object at 0x000000000803A208>, 'week.': <gensim.models.word2vec.Vocab object at 0x000000000803A2B0>, 'afghanistan,': <gensim.models.word2vec.Vocab object at 0x0000000007ECD518>, 'christmas': <gensim.models.word2vec.Vocab object at 0x000000000803A240>, 'revealed': <gensim.models.word2vec.Vocab object at 0x0000000007F5C160>, 'promised': <gensim.models.word2vec.Vocab object at 0x000000000803A6A0>, 'space': <gensim.models.word2vec.Vocab object at 0x0000000008153978>, 'rights': <gensim.models.word2vec.Vocab object at 0x0000000008024CF8>, 'whereabouts': <gensim.models.word2vec.Vocab object at 0x0000000007F5C240>, 'massive': <gensim.models.word2vec.Vocab object at 0x000000000803A390>, 'called': <gensim.models.word2vec.Vocab object at 0x0000000008029940>, 'macgill': <gensim.models.word2vec.Vocab object at 0x00000000081DC3C8>, 'growth': <gensim.models.word2vec.Vocab object at 0x0000000007EA7668>, 'operating': <gensim.models.word2vec.Vocab object at 0x00000000081DC400>, '40': <gensim.models.word2vec.Vocab object at 0x0000000008153B38>, 'governor': <gensim.models.word2vec.Vocab object at 0x0000000008024898>, 'council': <gensim.models.word2vec.Vocab object at 0x00000000080246D8>, 'talks': <gensim.models.word2vec.Vocab object at 0x00000000081DC438>, 'terms': <gensim.models.word2vec.Vocab object at 0x0000000008024E10>, 'real': <gensim.models.word2vec.Vocab object at 0x000000000803A2E8>, 'shaun': <gensim.models.word2vec.Vocab object at 0x00000000080162E8>, 'leadership': <gensim.models.word2vec.Vocab object at 0x0000000007F5C2E8>, 'wayne': <gensim.models.word2vec.Vocab object at 0x0000000007F5C358>, 'bit': <gensim.models.word2vec.Vocab object at 0x0000000008024908>, 'so': <gensim.models.word2vec.Vocab object at 0x0000000008024EB8>, 'tailenders': <gensim.models.word2vec.Vocab object at 0x00000000081DC4E0>, 'happens': <gensim.models.word2vec.Vocab object at 0x0000000008024FD0>, 'violence': <gensim.models.word2vec.Vocab object at 0x0000000008153080>, 'apparently': <gensim.models.word2vec.Vocab object at 0x00000000080296D8>, 'match.': <gensim.models.word2vec.Vocab object at 0x0000000008029FD0>, 'deaths': <gensim.models.word2vec.Vocab object at 0x00000000081DC518>, 'life': <gensim.models.word2vec.Vocab object at 0x00000000081DBF98>, 'hit': <gensim.models.word2vec.Vocab object at 0x00000000081DC550>, 'him': <gensim.models.word2vec.Vocab object at 0x000000000803A400>, 'along': <gensim.models.word2vec.Vocab object at 0x0000000008153208>, 'leader,': <gensim.models.word2vec.Vocab object at 0x000000000803A470>, 'hollingworth': <gensim.models.word2vec.Vocab object at 0x0000000008153240>, 'energy': <gensim.models.word2vec.Vocab object at 0x00000000080295C0>, 'tell': <gensim.models.word2vec.Vocab object at 0x0000000007F5C320>, 'against': <gensim.models.word2vec.Vocab object at 0x000000000803A4A8>, 'be': <gensim.models.word2vec.Vocab object at 0x0000000008029F60>, 'zinni': <gensim.models.word2vec.Vocab object at 0x0000000008024DA0>, 'sharon': <gensim.models.word2vec.Vocab object at 0x00000000081DC5C0>, 'manslaughter': <gensim.models.word2vec.Vocab object at 0x000000000803A518>, 'voice': <gensim.models.word2vec.Vocab object at 0x00000000081DC5F8>, 'scored': <gensim.models.word2vec.Vocab object at 0x000000000803A0B8>, 'night': <gensim.models.word2vec.Vocab object at 0x000000000803A278>, 'traditional': <gensim.models.word2vec.Vocab object at 0x0000000007F5C400>, 'normal': <gensim.models.word2vec.Vocab object at 0x00000000081DC668>, 'virgin': <gensim.models.word2vec.Vocab object at 0x00000000080235C0>, 'started': <gensim.models.word2vec.Vocab object at 0x0000000008038BE0>, 'situation': <gensim.models.word2vec.Vocab object at 0x0000000007F5C438>, 'centre': <gensim.models.word2vec.Vocab object at 0x0000000008024C18>, 'potential': <gensim.models.word2vec.Vocab object at 0x0000000008024BA8>, 'robert': <gensim.models.word2vec.Vocab object at 0x00000000080204E0>, 'actually': <gensim.models.word2vec.Vocab object at 0x0000000008016470>, 'including': <gensim.models.word2vec.Vocab object at 0x0000000008024CC0>, 'outside': <gensim.models.word2vec.Vocab object at 0x0000000008024E80>, 'labor': <gensim.models.word2vec.Vocab object at 0x0000000007F5C198>, 'powers': <gensim.models.word2vec.Vocab object at 0x0000000008040630>, 'security': <gensim.models.word2vec.Vocab object at 0x0000000008153C50>, 'continues': <gensim.models.word2vec.Vocab object at 0x000000000803A3C8>, 'circumstances': <gensim.models.word2vec.Vocab object at 0x000000000803A438>, 'payment': <gensim.models.word2vec.Vocab object at 0x00000000080241D0>, 'fighting': <gensim.models.word2vec.Vocab object at 0x0000000004F42BE0>, 'peace': <gensim.models.word2vec.Vocab object at 0x000000000803A550>, 'solomon': <gensim.models.word2vec.Vocab object at 0x000000000803A1D0>, \"women's\": <gensim.models.word2vec.Vocab object at 0x000000000803A860>, 'did': <gensim.models.word2vec.Vocab object at 0x0000000008024128>, 'report': <gensim.models.word2vec.Vocab object at 0x00000000081DC6D8>, 'defence': <gensim.models.word2vec.Vocab object at 0x0000000007F5C4E0>, 'reach': <gensim.models.word2vec.Vocab object at 0x000000000803A7F0>, 'about': <gensim.models.word2vec.Vocab object at 0x000000000803A780>, 'changes': <gensim.models.word2vec.Vocab object at 0x00000000081DC710>, 'appears': <gensim.models.word2vec.Vocab object at 0x0000000008024400>, 'anyone': <gensim.models.word2vec.Vocab object at 0x0000000008024BE0>, 'visit': <gensim.models.word2vec.Vocab object at 0x0000000008138C88>, 'must': <gensim.models.word2vec.Vocab object at 0x0000000008024B00>, 'kallis': <gensim.models.word2vec.Vocab object at 0x00000000080246A0>, 'september': <gensim.models.word2vec.Vocab object at 0x00000000081DC780>, 'always': <gensim.models.word2vec.Vocab object at 0x000000000803AA20>, 'responsibility': <gensim.models.word2vec.Vocab object at 0x00000000081DC7B8>, 'probably': <gensim.models.word2vec.Vocab object at 0x0000000007F5C588>, 'announced': <gensim.models.word2vec.Vocab object at 0x00000000081DC828>, 'deal': <gensim.models.word2vec.Vocab object at 0x0000000007F5C390>, 'helped': <gensim.models.word2vec.Vocab object at 0x00000000081DC860>, 'initial': <gensim.models.word2vec.Vocab object at 0x0000000007F5C470>, 'sources': <gensim.models.word2vec.Vocab object at 0x000000000803AA58>, 'january': <gensim.models.word2vec.Vocab object at 0x00000000081A42E8>, 'possible': <gensim.models.word2vec.Vocab object at 0x0000000008024C88>, 'crashed': <gensim.models.word2vec.Vocab object at 0x00000000081DC898>, \"doesn't\": <gensim.models.word2vec.Vocab object at 0x0000000007F5C5C0>, 'personnel': <gensim.models.word2vec.Vocab object at 0x0000000007E19048>, 'natural': <gensim.models.word2vec.Vocab object at 0x00000000081DC8D0>, 'days': <gensim.models.word2vec.Vocab object at 0x0000000008024C50>}\n"
     ]
    }
   ],
   "source": [
    "print(new_model)\n",
    "print(model.wv.vocab)"
   ]
  },
  {
   "cell_type": "code",
   "execution_count": 53,
   "metadata": {
    "collapsed": true
   },
   "outputs": [],
   "source": [
    "# Set file names for train and test data\n",
    "test_data_dir = '{}'.format(os.sep).join([gensim.__path__[0], 'test', 'test_data']) + os.sep\n",
    "lee_train_file = test_data_dir + 'lee_background.cor'"
   ]
  },
  {
   "cell_type": "code",
   "execution_count": 54,
   "metadata": {
    "collapsed": false
   },
   "outputs": [
    {
     "name": "stdout",
     "output_type": "stream",
     "text": [
      "<__main__.MyText object at 0x0000000008150B38>\n"
     ]
    }
   ],
   "source": [
    "class MyText(object):\n",
    "    def __iter__(self):\n",
    "        for line in open(lee_train_file):\n",
    "            # assume there's one document per line, tokens separated by whitespace\n",
    "            yield line.lower().split()\n",
    "\n",
    "sentences = MyText()\n",
    "\n",
    "print(sentences)"
   ]
  },
  {
   "cell_type": "code",
   "execution_count": 55,
   "metadata": {
    "collapsed": false
   },
   "outputs": [
    {
     "name": "stderr",
     "output_type": "stream",
     "text": [
      "2017-01-05 21:31:24,952 : INFO : collecting all words and their counts\n",
      "2017-01-05 21:31:24,952 : INFO : PROGRESS: at sentence #0, processed 0 words, keeping 0 word types\n",
      "2017-01-05 21:31:24,968 : INFO : collected 10186 word types from a corpus of 59890 raw words and 300 sentences\n",
      "2017-01-05 21:31:24,968 : INFO : Loading a fresh vocabulary\n",
      "2017-01-05 21:31:24,968 : INFO : min_count=10 retains 806 unique words (7% of original 10186, drops 9380)\n",
      "2017-01-05 21:31:24,968 : INFO : min_count=10 leaves 40964 word corpus (68% of original 59890, drops 18926)\n",
      "2017-01-05 21:31:24,968 : INFO : deleting the raw counts dictionary of 10186 items\n",
      "2017-01-05 21:31:24,968 : INFO : sample=0.001 downsamples 54 most-common words\n",
      "2017-01-05 21:31:24,983 : INFO : downsampling leaves estimated 26224 word corpus (64.0% of prior 40964)\n",
      "2017-01-05 21:31:24,983 : INFO : estimated required memory for 806 words and 100 dimensions: 1047800 bytes\n",
      "2017-01-05 21:31:24,985 : INFO : resetting layer weights\n",
      "2017-01-05 21:31:24,994 : INFO : training model with 3 workers on 806 vocabulary and 100 features, using sg=0 hs=0 sample=0.001 negative=5 window=5\n",
      "2017-01-05 21:31:24,995 : INFO : expecting 300 sentences, matching count from corpus used for vocabulary survey\n",
      "2017-01-05 21:31:25,091 : INFO : worker thread finished; awaiting finish of 2 more threads\n",
      "2017-01-05 21:31:25,092 : INFO : worker thread finished; awaiting finish of 1 more threads\n",
      "2017-01-05 21:31:25,094 : INFO : worker thread finished; awaiting finish of 0 more threads\n",
      "2017-01-05 21:31:25,094 : INFO : training on 299450 raw words (130851 effective words) took 0.1s, 1335054 effective words/s\n"
     ]
    }
   ],
   "source": [
    "# default value of min_count=5\n",
    "model = gensim.models.Word2Vec(sentences, min_count=10)"
   ]
  },
  {
   "cell_type": "code",
   "execution_count": 56,
   "metadata": {
    "collapsed": false
   },
   "outputs": [
    {
     "name": "stderr",
     "output_type": "stream",
     "text": [
      "2017-01-05 21:31:27,708 : INFO : collecting all words and their counts\n",
      "2017-01-05 21:31:27,710 : INFO : PROGRESS: at sentence #0, processed 0 words, keeping 0 word types\n",
      "2017-01-05 21:31:27,742 : INFO : collected 10186 word types from a corpus of 59890 raw words and 300 sentences\n",
      "2017-01-05 21:31:27,742 : INFO : Loading a fresh vocabulary\n",
      "2017-01-05 21:31:27,753 : INFO : min_count=5 retains 1723 unique words (16% of original 10186, drops 8463)\n",
      "2017-01-05 21:31:27,754 : INFO : min_count=5 leaves 46858 word corpus (78% of original 59890, drops 13032)\n",
      "2017-01-05 21:31:27,760 : INFO : deleting the raw counts dictionary of 10186 items\n",
      "2017-01-05 21:31:27,761 : INFO : sample=0.001 downsamples 49 most-common words\n",
      "2017-01-05 21:31:27,762 : INFO : downsampling leaves estimated 32849 word corpus (70.1% of prior 46858)\n",
      "2017-01-05 21:31:27,763 : INFO : estimated required memory for 1723 words and 200 dimensions: 3618300 bytes\n",
      "2017-01-05 21:31:27,769 : INFO : resetting layer weights\n",
      "2017-01-05 21:31:27,789 : INFO : training model with 3 workers on 1723 vocabulary and 200 features, using sg=0 hs=0 sample=0.001 negative=5 window=5\n",
      "2017-01-05 21:31:27,790 : INFO : expecting 300 sentences, matching count from corpus used for vocabulary survey\n",
      "2017-01-05 21:31:27,905 : INFO : worker thread finished; awaiting finish of 2 more threads\n",
      "2017-01-05 21:31:27,905 : INFO : worker thread finished; awaiting finish of 1 more threads\n",
      "2017-01-05 21:31:27,905 : INFO : worker thread finished; awaiting finish of 0 more threads\n",
      "2017-01-05 21:31:27,905 : INFO : training on 299450 raw words (164195 effective words) took 0.1s, 1374388 effective words/s\n"
     ]
    }
   ],
   "source": [
    "# default value of size=100\n",
    "model = gensim.models.Word2Vec(sentences, size=200)"
   ]
  },
  {
   "cell_type": "code",
   "execution_count": 57,
   "metadata": {
    "collapsed": false
   },
   "outputs": [
    {
     "ename": "ValueError",
     "evalue": "missing section header before line #0 in ./data/questions-words.txt",
     "output_type": "error",
     "traceback": [
      "\u001b[0;31m---------------------------------------------------------------------------\u001b[0m",
      "\u001b[0;31mValueError\u001b[0m                                Traceback (most recent call last)",
      "\u001b[0;32m<ipython-input-57-a1945bc9a662>\u001b[0m in \u001b[0;36m<module>\u001b[0;34m()\u001b[0m\n\u001b[0;32m----> 1\u001b[0;31m \u001b[0mmodel\u001b[0m\u001b[1;33m.\u001b[0m\u001b[0maccuracy\u001b[0m\u001b[1;33m(\u001b[0m\u001b[1;34m'./data/questions-words.txt'\u001b[0m\u001b[1;33m)\u001b[0m\u001b[1;33m\u001b[0m\u001b[0m\n\u001b[0m",
      "\u001b[0;32mC:\\Users\\Student\\Anaconda3\\lib\\site-packages\\gensim\\models\\word2vec.py\u001b[0m in \u001b[0;36maccuracy\u001b[0;34m(self, questions, restrict_vocab, most_similar, case_insensitive)\u001b[0m\n\u001b[1;32m   1422\u001b[0m     \u001b[1;32mdef\u001b[0m \u001b[0maccuracy\u001b[0m\u001b[1;33m(\u001b[0m\u001b[0mself\u001b[0m\u001b[1;33m,\u001b[0m \u001b[0mquestions\u001b[0m\u001b[1;33m,\u001b[0m \u001b[0mrestrict_vocab\u001b[0m\u001b[1;33m=\u001b[0m\u001b[1;36m30000\u001b[0m\u001b[1;33m,\u001b[0m \u001b[0mmost_similar\u001b[0m\u001b[1;33m=\u001b[0m\u001b[1;32mNone\u001b[0m\u001b[1;33m,\u001b[0m \u001b[0mcase_insensitive\u001b[0m\u001b[1;33m=\u001b[0m\u001b[1;32mTrue\u001b[0m\u001b[1;33m)\u001b[0m\u001b[1;33m:\u001b[0m\u001b[1;33m\u001b[0m\u001b[0m\n\u001b[1;32m   1423\u001b[0m         \u001b[0mmost_similar\u001b[0m \u001b[1;33m=\u001b[0m \u001b[0mmost_similar\u001b[0m \u001b[1;32mor\u001b[0m \u001b[0mKeyedVectors\u001b[0m\u001b[1;33m.\u001b[0m\u001b[0mmost_similar\u001b[0m\u001b[1;33m\u001b[0m\u001b[0m\n\u001b[0;32m-> 1424\u001b[0;31m         \u001b[1;32mreturn\u001b[0m \u001b[0mself\u001b[0m\u001b[1;33m.\u001b[0m\u001b[0mwv\u001b[0m\u001b[1;33m.\u001b[0m\u001b[0maccuracy\u001b[0m\u001b[1;33m(\u001b[0m\u001b[0mquestions\u001b[0m\u001b[1;33m,\u001b[0m \u001b[0mrestrict_vocab\u001b[0m\u001b[1;33m,\u001b[0m \u001b[0mmost_similar\u001b[0m\u001b[1;33m,\u001b[0m \u001b[0mcase_insensitive\u001b[0m\u001b[1;33m)\u001b[0m\u001b[1;33m\u001b[0m\u001b[0m\n\u001b[0m\u001b[1;32m   1425\u001b[0m \u001b[1;33m\u001b[0m\u001b[0m\n\u001b[1;32m   1426\u001b[0m     \u001b[1;33m@\u001b[0m\u001b[0mstaticmethod\u001b[0m\u001b[1;33m\u001b[0m\u001b[0m\n",
      "\u001b[0;32mC:\\Users\\Student\\Anaconda3\\lib\\site-packages\\gensim\\models\\keyedvectors.py\u001b[0m in \u001b[0;36maccuracy\u001b[0;34m(self, questions, restrict_vocab, most_similar, case_insensitive)\u001b[0m\n\u001b[1;32m    436\u001b[0m             \u001b[1;32melse\u001b[0m\u001b[1;33m:\u001b[0m\u001b[1;33m\u001b[0m\u001b[0m\n\u001b[1;32m    437\u001b[0m                 \u001b[1;32mif\u001b[0m \u001b[1;32mnot\u001b[0m \u001b[0msection\u001b[0m\u001b[1;33m:\u001b[0m\u001b[1;33m\u001b[0m\u001b[0m\n\u001b[0;32m--> 438\u001b[0;31m                     \u001b[1;32mraise\u001b[0m \u001b[0mValueError\u001b[0m\u001b[1;33m(\u001b[0m\u001b[1;34m\"missing section header before line #%i in %s\"\u001b[0m \u001b[1;33m%\u001b[0m \u001b[1;33m(\u001b[0m\u001b[0mline_no\u001b[0m\u001b[1;33m,\u001b[0m \u001b[0mquestions\u001b[0m\u001b[1;33m)\u001b[0m\u001b[1;33m)\u001b[0m\u001b[1;33m\u001b[0m\u001b[0m\n\u001b[0m\u001b[1;32m    439\u001b[0m                 \u001b[1;32mtry\u001b[0m\u001b[1;33m:\u001b[0m\u001b[1;33m\u001b[0m\u001b[0m\n\u001b[1;32m    440\u001b[0m                     \u001b[1;32mif\u001b[0m \u001b[0mcase_insensitive\u001b[0m\u001b[1;33m:\u001b[0m\u001b[1;33m\u001b[0m\u001b[0m\n",
      "\u001b[0;31mValueError\u001b[0m: missing section header before line #0 in ./data/questions-words.txt"
     ]
    }
   ],
   "source": [
    "model.accuracy('./data/questions-words.txt')"
   ]
  },
  {
   "cell_type": "code",
   "execution_count": 58,
   "metadata": {
    "collapsed": false
   },
   "outputs": [
    {
     "name": "stderr",
     "output_type": "stream",
     "text": [
      "2017-01-05 21:35:56,062 : INFO : Pearson correlation coefficient against C:\\Users\\Student\\Anaconda3\\lib\\site-packages\\gensim\\test\\test_data\\wordsim353.tsv: 0.0978\n",
      "2017-01-05 21:35:56,063 : INFO : Spearman rank-order correlation coefficient against C:\\Users\\Student\\Anaconda3\\lib\\site-packages\\gensim\\test\\test_data\\wordsim353.tsv: 0.0968\n",
      "2017-01-05 21:35:56,064 : INFO : Pairs with unknown words ratio: 85.6%\n"
     ]
    },
    {
     "data": {
      "text/plain": [
       "((0.097812589405989414, 0.49470504695220818),\n",
       " SpearmanrResult(correlation=0.09684353455958257, pvalue=0.49901062434954946),\n",
       " 85.55240793201133)"
      ]
     },
     "execution_count": 58,
     "metadata": {},
     "output_type": "execute_result"
    }
   ],
   "source": [
    "model.evaluate_word_pairs(test_data_dir +'wordsim353.tsv')"
   ]
  },
  {
   "cell_type": "code",
   "execution_count": 59,
   "metadata": {
    "collapsed": false
   },
   "outputs": [
    {
     "name": "stderr",
     "output_type": "stream",
     "text": [
      "2017-01-05 21:36:30,322 : INFO : saving Word2Vec object under C:\\Users\\Student\\AppData\\Local\\Temp\\tmpx2xtxf9hgensim_temp, separately None\n",
      "2017-01-05 21:36:30,322 : INFO : not storing attribute cum_table\n",
      "2017-01-05 21:36:30,322 : INFO : not storing attribute syn0norm\n",
      "2017-01-05 21:36:30,374 : INFO : saved C:\\Users\\Student\\AppData\\Local\\Temp\\tmpx2xtxf9hgensim_temp\n"
     ]
    }
   ],
   "source": [
    "from tempfile import mkstemp\n",
    "\n",
    "fs, temp_path = mkstemp(\"gensim_temp\")  # creates a temp file\n",
    "\n",
    "model.save(temp_path)  # save the model"
   ]
  },
  {
   "cell_type": "code",
   "execution_count": 60,
   "metadata": {
    "collapsed": false
   },
   "outputs": [
    {
     "name": "stderr",
     "output_type": "stream",
     "text": [
      "2017-01-05 21:36:52,266 : INFO : loading Word2Vec object from C:\\Users\\Student\\AppData\\Local\\Temp\\tmpx2xtxf9hgensim_temp\n",
      "2017-01-05 21:36:52,320 : INFO : loading wv recursively from C:\\Users\\Student\\AppData\\Local\\Temp\\tmpx2xtxf9hgensim_temp.wv.* with mmap=None\n",
      "2017-01-05 21:36:52,321 : INFO : setting ignored attribute cum_table to None\n",
      "2017-01-05 21:36:52,322 : INFO : setting ignored attribute syn0norm to None\n",
      "2017-01-05 21:36:52,322 : INFO : loaded C:\\Users\\Student\\AppData\\Local\\Temp\\tmpx2xtxf9hgensim_temp\n"
     ]
    }
   ],
   "source": [
    "new_model = gensim.models.Word2Vec.load(temp_path) "
   ]
  },
  {
   "cell_type": "code",
   "execution_count": 61,
   "metadata": {
    "collapsed": false
   },
   "outputs": [
    {
     "name": "stderr",
     "output_type": "stream",
     "text": [
      "2017-01-05 21:37:12,312 : INFO : loading Word2Vec object from C:\\Users\\Student\\AppData\\Local\\Temp\\tmpx2xtxf9hgensim_temp\n",
      "2017-01-05 21:37:12,362 : INFO : loading wv recursively from C:\\Users\\Student\\AppData\\Local\\Temp\\tmpx2xtxf9hgensim_temp.wv.* with mmap=None\n",
      "2017-01-05 21:37:12,364 : INFO : setting ignored attribute cum_table to None\n",
      "2017-01-05 21:37:12,364 : INFO : setting ignored attribute syn0norm to None\n",
      "2017-01-05 21:37:12,365 : INFO : loaded C:\\Users\\Student\\AppData\\Local\\Temp\\tmpx2xtxf9hgensim_temp\n",
      "2017-01-05 21:37:12,369 : INFO : collecting all words and their counts\n",
      "2017-01-05 21:37:12,370 : INFO : PROGRESS: at sentence #0, processed 0 words, keeping 0 word types\n",
      "2017-01-05 21:37:12,371 : INFO : collected 13 word types from a corpus of 13 raw words and 1 sentences\n",
      "2017-01-05 21:37:12,372 : INFO : Updating model with new vocabulary\n",
      "2017-01-05 21:37:12,372 : INFO : New added 0 unique words (0% of original 13)\n",
      "                        and increased the count of 0 pre-existing words (0% of original 13)\n",
      "2017-01-05 21:37:12,373 : INFO : deleting the raw counts dictionary of 13 items\n",
      "2017-01-05 21:37:12,373 : INFO : sample=0.001 downsamples 0 most-common words\n",
      "2017-01-05 21:37:12,373 : INFO : downsampling leaves estimated 0 word corpus (0.0% of prior 0)\n",
      "2017-01-05 21:37:12,374 : INFO : estimated required memory for 1723 words and 200 dimensions: 3618300 bytes\n",
      "2017-01-05 21:37:12,377 : INFO : updating layer weights\n",
      "2017-01-05 21:37:12,379 : INFO : training model with 3 workers on 1723 vocabulary and 200 features, using sg=0 hs=0 sample=0.001 negative=5 window=5\n",
      "2017-01-05 21:37:12,379 : INFO : expecting 1 sentences, matching count from corpus used for vocabulary survey\n",
      "2017-01-05 21:37:12,381 : INFO : worker thread finished; awaiting finish of 2 more threads\n",
      "2017-01-05 21:37:12,382 : INFO : worker thread finished; awaiting finish of 1 more threads\n",
      "2017-01-05 21:37:12,382 : INFO : worker thread finished; awaiting finish of 0 more threads\n",
      "2017-01-05 21:37:12,382 : INFO : training on 65 raw words (28 effective words) took 0.0s, 22014 effective words/s\n",
      "2017-01-05 21:37:12,383 : WARNING : under 10 jobs per worker: consider setting a smaller `batch_words' for smoother alpha decay\n"
     ]
    }
   ],
   "source": [
    "model = gensim.models.Word2Vec.load(temp_path)\n",
    "more_sentences = [['Advanced', 'users', 'can', 'load', 'a', 'model', 'and', 'continue', \n",
    "                  'training', 'it', 'with', 'more', 'sentences']]\n",
    "model.build_vocab(more_sentences, update=True)\n",
    "model.train(more_sentences, )\n",
    "\n",
    "# cleaning up temp\n",
    "os.close(fs)\n",
    "os.remove(temp_path)"
   ]
  },
  {
   "cell_type": "code",
   "execution_count": 62,
   "metadata": {
    "collapsed": false
   },
   "outputs": [
    {
     "name": "stderr",
     "output_type": "stream",
     "text": [
      "2017-01-05 21:37:27,678 : INFO : precomputing L2-norms of word weight vectors\n"
     ]
    },
    {
     "data": {
      "text/plain": [
       "[('australians', 0.9973864555358887)]"
      ]
     },
     "execution_count": 62,
     "metadata": {},
     "output_type": "execute_result"
    }
   ],
   "source": [
    "model.most_similar(positive=['human', 'crime'], negative=['party'], topn=1)"
   ]
  },
  {
   "cell_type": "code",
   "execution_count": 63,
   "metadata": {
    "collapsed": false
   },
   "outputs": [
    {
     "data": {
      "text/plain": [
       "'sentence'"
      ]
     },
     "execution_count": 63,
     "metadata": {},
     "output_type": "execute_result"
    }
   ],
   "source": [
    "model.doesnt_match(\"input is lunch he sentence cat\".split())"
   ]
  },
  {
   "cell_type": "code",
   "execution_count": 64,
   "metadata": {
    "collapsed": false
   },
   "outputs": [
    {
     "name": "stdout",
     "output_type": "stream",
     "text": [
      "0.999586090025\n",
      "0.997775995999\n"
     ]
    }
   ],
   "source": [
    "print(model.similarity('human', 'party'))\n",
    "print(model.similarity('tree', 'murder'))"
   ]
  },
  {
   "cell_type": "code",
   "execution_count": 65,
   "metadata": {
    "collapsed": false
   },
   "outputs": [
    {
     "data": {
      "text/plain": [
       "array([-0.01127922, -0.03585431, -0.0125974 , -0.04147318,  0.00118686,\n",
       "       -0.01606489, -0.00240359, -0.01758233, -0.03929804, -0.00437588,\n",
       "       -0.02706588, -0.04878673,  0.00651546, -0.00814761, -0.01902641,\n",
       "       -0.00802842, -0.02677576, -0.00783781, -0.00248508, -0.03722271,\n",
       "       -0.0401651 ,  0.02337405,  0.026868  , -0.00215164, -0.02530951,\n",
       "       -0.04220852, -0.00314844, -0.02795812,  0.04118952,  0.02010571,\n",
       "       -0.06484023, -0.03345084, -0.06004576,  0.02802508,  0.03755744,\n",
       "       -0.00150028,  0.02468759,  0.05103324,  0.00318254, -0.01412363,\n",
       "       -0.02588135, -0.04607787, -0.00969513, -0.01094116, -0.02884848,\n",
       "        0.0235644 , -0.01119853, -0.02832495,  0.01450322,  0.05574993,\n",
       "        0.02936582, -0.00019662, -0.00673731, -0.01590701, -0.01878649,\n",
       "       -0.02997692, -0.02445791, -0.04906164, -0.00614071, -0.0465661 ,\n",
       "       -0.009026  , -0.01483737, -0.00262535, -0.02153099, -0.04723297,\n",
       "        0.00348318, -0.00915821,  0.0257897 ,  0.05443203, -0.02771545,\n",
       "       -0.03547351, -0.06358738,  0.02810206, -0.00661734,  0.00591523,\n",
       "       -0.00530214, -0.01598136, -0.0154218 , -0.04425085,  0.01494798,\n",
       "       -0.00306561,  0.01014004,  0.02252189,  0.01370851, -0.00099842,\n",
       "        0.04073885, -0.01974431,  0.00881837, -0.00193436,  0.01870783,\n",
       "        0.01108071, -0.05681082, -0.0151587 ,  0.00155328,  0.01797221,\n",
       "       -0.01372595,  0.01848081, -0.02980921, -0.05438592,  0.02600546,\n",
       "        0.00580071, -0.01788255,  0.00940567,  0.05093832, -0.02726026,\n",
       "       -0.06574493, -0.00631127,  0.03604782, -0.03431922,  0.01238912,\n",
       "        0.04211594, -0.00404805,  0.06674642,  0.00657286, -0.04123365,\n",
       "        0.03209941, -0.01940445,  0.00641744, -0.0007858 ,  0.0257361 ,\n",
       "        0.03929282,  0.00282991,  0.07607613, -0.03510129,  0.01900587,\n",
       "       -0.0337614 , -0.00886983, -0.01680479,  0.00222792,  0.03838523,\n",
       "        0.03890262, -0.00041979, -0.04553364, -0.0002935 ,  0.00559755,\n",
       "       -0.00514073, -0.04137651,  0.03785593,  0.01920448,  0.02086805,\n",
       "        0.01726017,  0.0081133 , -0.02127644,  0.00757866,  0.00897926,\n",
       "       -0.00525119,  0.00404478,  0.01845771,  0.02991396, -0.00229874,\n",
       "        0.01563057, -0.00406435,  0.04994174, -0.0034782 , -0.0453846 ,\n",
       "       -0.00393162,  0.01385901, -0.00165312, -0.01670868,  0.04333138,\n",
       "       -0.00757191,  0.02972775, -0.03031535, -0.02085538, -0.03762035,\n",
       "       -0.01666641,  0.00238719, -0.04514377,  0.0065695 ,  0.0430431 ,\n",
       "        0.01727239, -0.01484694, -0.03610225,  0.03788262,  0.01109232,\n",
       "        0.03376326, -0.04752094,  0.0051838 , -0.00239808,  0.0310125 ,\n",
       "       -0.02195173, -0.05181452,  0.03119976,  0.05690091, -0.01019698,\n",
       "       -0.00457551,  0.00685219, -0.02878095, -0.00897455,  0.00861425,\n",
       "       -0.02591216,  0.00669582, -0.0150489 ,  0.03347906,  0.02492078,\n",
       "        0.00117683, -0.01329077,  0.02072382, -0.00704182,  0.03577595], dtype=float32)"
      ]
     },
     "execution_count": 65,
     "metadata": {},
     "output_type": "execute_result"
    }
   ],
   "source": [
    "model['tree']  # raw NumPy vector of a word"
   ]
  },
  {
   "cell_type": "code",
   "execution_count": null,
   "metadata": {
    "collapsed": true
   },
   "outputs": [],
   "source": []
  },
  {
   "cell_type": "code",
   "execution_count": null,
   "metadata": {
    "collapsed": true
   },
   "outputs": [],
   "source": []
  },
  {
   "cell_type": "markdown",
   "metadata": {},
   "source": [
    "https://github.com/RaRe-Technologies/gensim/blob/develop/docs/notebooks/Word2Vec_FastText_Comparison.ipynb"
   ]
  },
  {
   "cell_type": "code",
   "execution_count": null,
   "metadata": {
    "collapsed": true
   },
   "outputs": [],
   "source": []
  }
 ],
 "metadata": {
  "anaconda-cloud": {},
  "kernelspec": {
   "display_name": "Python [default]",
   "language": "python",
   "name": "python3"
  },
  "language_info": {
   "codemirror_mode": {
    "name": "ipython",
    "version": 3
   },
   "file_extension": ".py",
   "mimetype": "text/x-python",
   "name": "python",
   "nbconvert_exporter": "python",
   "pygments_lexer": "ipython3",
   "version": "3.5.2"
  }
 },
 "nbformat": 4,
 "nbformat_minor": 1
}
