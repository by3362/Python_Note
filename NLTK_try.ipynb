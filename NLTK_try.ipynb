{
 "cells": [
  {
   "cell_type": "code",
   "execution_count": 5,
   "metadata": {
    "collapsed": true
   },
   "outputs": [],
   "source": [
    "from nltk.parse.stanford import StanfordDependencyParser\n",
    "import os\n",
    "\n",
    "os.environ[\"JAVA_HOME\"] = \"C:/Program Files/Java/jdk1.8.0_111\" \n",
    "os.environ[\"CLASSPATH\"] = \"C:/Users/lisrba/Documents/StanfordNLP/StanfordNLP/jars\"\n",
    "os.environ[\"STANFORD_MODELS\"] = \"C:/Users/lisrba/Documents/StanfordNLP/StanfordNLP/models\""
   ]
  },
  {
   "cell_type": "code",
   "execution_count": 8,
   "metadata": {
    "collapsed": false
   },
   "outputs": [],
   "source": [
    "eng_parser = StanfordDependencyParser()\n",
    "res = list(eng_parser.parse(\"The quick brown fox jumps over the lazy dog. The lazy dog gets very angry.\".split()))"
   ]
  },
  {
   "cell_type": "code",
   "execution_count": 9,
   "metadata": {
    "collapsed": false
   },
   "outputs": [
    {
     "name": "stdout",
     "output_type": "stream",
     "text": [
      "(('fox', 'NN'), 'amod', ('quick', 'JJ'))\n",
      "(('fox', 'NN'), 'amod', ('brown', 'JJ'))\n",
      "(('dog.', 'NN'), 'amod', ('lazy', 'JJ'))\n",
      "(('dog', 'NN'), 'amod', ('lazy', 'JJ'))\n"
     ]
    }
   ],
   "source": [
    "for row in res[0].triples():\n",
    "    if 'amod' in row:\n",
    "        print(row)"
   ]
  },
  {
   "cell_type": "code",
   "execution_count": null,
   "metadata": {
    "collapsed": true
   },
   "outputs": [],
   "source": []
  }
 ],
 "metadata": {
  "anaconda-cloud": {},
  "kernelspec": {
   "display_name": "Python [default]",
   "language": "python",
   "name": "python3"
  },
  "language_info": {
   "codemirror_mode": {
    "name": "ipython",
    "version": 3
   },
   "file_extension": ".py",
   "mimetype": "text/x-python",
   "name": "python",
   "nbconvert_exporter": "python",
   "pygments_lexer": "ipython3",
   "version": "3.5.2"
  }
 },
 "nbformat": 4,
 "nbformat_minor": 1
}
