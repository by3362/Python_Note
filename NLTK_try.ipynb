{
 "cells": [
  {
   "cell_type": "code",
   "execution_count": 1,
   "metadata": {
    "collapsed": true
   },
   "outputs": [],
   "source": [
    "from nltk.parse.stanford import StanfordDependencyParser\n",
    "import os\n",
    "import nltk\n",
    "\n",
    "os.environ[\"JAVA_HOME\"] = \"C:/Program Files/Java/jdk1.8.0_111\" \n",
    "os.environ[\"CLASSPATH\"] = \"C:/Users/lisrba/Documents/StanfordNLP/StanfordNLP/jars\"\n",
    "os.environ[\"STANFORD_MODELS\"] = \"C:/Users/lisrba/Documents/StanfordNLP/StanfordNLP/models\""
   ]
  },
  {
   "cell_type": "code",
   "execution_count": 2,
   "metadata": {
    "collapsed": false
   },
   "outputs": [],
   "source": [
    "eng_parser = StanfordDependencyParser()\n",
    "res = list(eng_parser.parse(\"The quick brown fox jumps over the lazy dog. The lazy dog is very angry.\".split()))"
   ]
  },
  {
   "cell_type": "code",
   "execution_count": 3,
   "metadata": {
    "collapsed": false
   },
   "outputs": [
    {
     "name": "stdout",
     "output_type": "stream",
     "text": [
      "(('jumps', 'VBZ'), 'nsubj', ('fox', 'NN'))\n",
      "(('angry.', 'JJ'), 'nsubj', ('dog', 'NN'))\n"
     ]
    }
   ],
   "source": [
    "for row in res[0].triples():\n",
    "    if 'nsubj' in row:\n",
    "        print(row)"
   ]
  },
  {
   "cell_type": "code",
   "execution_count": 4,
   "metadata": {
    "collapsed": false
   },
   "outputs": [
    {
     "name": "stdout",
     "output_type": "stream",
     "text": [
      "(('fox', 'NN'), 'amod', ('quick', 'JJ'))\n",
      "(('fox', 'NN'), 'amod', ('brown', 'JJ'))\n",
      "(('dog.', 'NN'), 'amod', ('lazy', 'JJ'))\n",
      "(('dog', 'NN'), 'amod', ('lazy', 'JJ'))\n"
     ]
    }
   ],
   "source": [
    "for row in res[0].triples():\n",
    "    if 'amod' in row:\n",
    "        print(row)"
   ]
  },
  {
   "cell_type": "code",
   "execution_count": 5,
   "metadata": {
    "collapsed": false
   },
   "outputs": [
    {
     "name": "stdout",
     "output_type": "stream",
     "text": [
      "(('jumps', 'VBZ'), 'nsubj', ('fox', 'NN'))\n",
      "(('fox', 'NN'), 'det', ('The', 'DT'))\n",
      "(('fox', 'NN'), 'amod', ('quick', 'JJ'))\n",
      "(('fox', 'NN'), 'amod', ('brown', 'JJ'))\n"
     ]
    }
   ],
   "source": [
    "for row in res[0].triples():\n",
    "    if ('fox', 'NN') in row:\n",
    "        print(row)"
   ]
  },
  {
   "cell_type": "code",
   "execution_count": 6,
   "metadata": {
    "collapsed": false
   },
   "outputs": [
    {
     "name": "stdout",
     "output_type": "stream",
     "text": [
      "(('fox', 'NN'), 'amod', ('quick', 'JJ'))\n",
      "(('fox', 'NN'), 'amod', ('brown', 'JJ'))\n"
     ]
    }
   ],
   "source": [
    "for row in res[0].triples():\n",
    "    if (('fox', 'NN') in row) and ('amod' in row):\n",
    "        print(row)"
   ]
  },
  {
   "cell_type": "code",
   "execution_count": 7,
   "metadata": {
    "collapsed": false
   },
   "outputs": [
    {
     "name": "stdout",
     "output_type": "stream",
     "text": [
      "[1, 2, 3]\n"
     ]
    }
   ],
   "source": [
    "a = [[1,2,3],4,5]\n",
    "print (a[0])"
   ]
  },
  {
   "cell_type": "code",
   "execution_count": 8,
   "metadata": {
    "collapsed": false
   },
   "outputs": [
    {
     "name": "stdout",
     "output_type": "stream",
     "text": [
      "1\n"
     ]
    }
   ],
   "source": [
    "print(a[0][0])"
   ]
  },
  {
   "cell_type": "code",
   "execution_count": 18,
   "metadata": {
    "collapsed": true
   },
   "outputs": [],
   "source": [
    "eng_parser = StanfordDependencyParser()\n",
    "res = list(eng_parser.parse(\"The red sushi is not very fresh. But the yellow sushi is not bad\".split()))"
   ]
  },
  {
   "cell_type": "code",
   "execution_count": 19,
   "metadata": {
    "collapsed": false
   },
   "outputs": [
    {
     "name": "stdout",
     "output_type": "stream",
     "text": [
      "(('fresh.', 'JJ'), 'nsubj', ('sushi', 'NN'))\n",
      "(('sushi', 'NN'), 'det', ('The', 'DT'))\n",
      "(('sushi', 'NN'), 'amod', ('red', 'JJ'))\n",
      "(('fresh.', 'JJ'), 'cop', ('is', 'VBZ'))\n",
      "(('fresh.', 'JJ'), 'neg', ('not', 'RB'))\n",
      "(('fresh.', 'JJ'), 'advmod', ('very', 'RB'))\n",
      "(('fresh.', 'JJ'), 'advmod', ('But', 'CC'))\n",
      "(('fresh.', 'JJ'), 'ccomp', ('bad', 'JJ'))\n",
      "(('bad', 'JJ'), 'nsubj', ('sushi', 'NN'))\n",
      "(('sushi', 'NN'), 'det', ('the', 'DT'))\n",
      "(('sushi', 'NN'), 'amod', ('yellow', 'JJ'))\n",
      "(('bad', 'JJ'), 'cop', ('is', 'VBZ'))\n",
      "(('bad', 'JJ'), 'neg', ('not', 'RB'))\n"
     ]
    }
   ],
   "source": [
    "for row in res[0].triples():\n",
    "        print(row)"
   ]
  },
  {
   "cell_type": "code",
   "execution_count": 22,
   "metadata": {
    "collapsed": false
   },
   "outputs": [
    {
     "name": "stdout",
     "output_type": "stream",
     "text": [
      "not_fresh.\n",
      "not_bad\n"
     ]
    }
   ],
   "source": [
    "for row in res[0].triples():\n",
    "    if 'neg' in row:\n",
    "        print(row[2][0]+'_'+row[0][0])"
   ]
  },
  {
   "cell_type": "markdown",
   "metadata": {},
   "source": [
    "找nsubj關係，目標：\n",
    "(('sushi', 'NN'), neg_amod, ('not_fresh', 'JJ'))\n",
    "(('sushi', 'NN'), neg_amod, ('not_bad', 'JJ'))"
   ]
  },
  {
   "cell_type": "code",
   "execution_count": 25,
   "metadata": {
    "collapsed": true
   },
   "outputs": [],
   "source": [
    "res = list(eng_parser.parse(\"The vaccum works very well, and the battery lasts longer than other vaccums\".split()))"
   ]
  },
  {
   "cell_type": "code",
   "execution_count": 26,
   "metadata": {
    "collapsed": false
   },
   "outputs": [
    {
     "name": "stdout",
     "output_type": "stream",
     "text": [
      "(('works', 'VBZ'), 'nsubj', ('vaccum', 'NN'))\n",
      "(('vaccum', 'NN'), 'det', ('The', 'DT'))\n",
      "(('works', 'VBZ'), 'xcomp', ('well,', 'JJ'))\n",
      "(('well,', 'JJ'), 'advmod', ('very', 'RB'))\n",
      "(('works', 'VBZ'), 'cc', ('and', 'CC'))\n",
      "(('works', 'VBZ'), 'conj', ('lasts', 'VBZ'))\n",
      "(('lasts', 'VBZ'), 'nsubj', ('battery', 'NN'))\n",
      "(('battery', 'NN'), 'det', ('the', 'DT'))\n",
      "(('lasts', 'VBZ'), 'advmod', ('longer', 'RB'))\n",
      "(('longer', 'RB'), 'nmod', ('vaccums', 'NNS'))\n",
      "(('vaccums', 'NNS'), 'case', ('than', 'IN'))\n",
      "(('vaccums', 'NNS'), 'amod', ('other', 'JJ'))\n"
     ]
    }
   ],
   "source": [
    "for row in res[0].triples():    \n",
    "    print(row)"
   ]
  },
  {
   "cell_type": "code",
   "execution_count": 31,
   "metadata": {
    "collapsed": false
   },
   "outputs": [
    {
     "name": "stdout",
     "output_type": "stream",
     "text": [
      "(('works', 'VBZ'), 'nsubj', ('vaccum', 'NN'))\n",
      "(('lasts', 'VBZ'), 'nsubj', ('battery', 'NN'))\n"
     ]
    }
   ],
   "source": [
    "for row in res[0].triples():    \n",
    "    if 'nsubj' in row:\n",
    "        print(row)"
   ]
  },
  {
   "cell_type": "code",
   "execution_count": 32,
   "metadata": {
    "collapsed": false
   },
   "outputs": [
    {
     "name": "stdout",
     "output_type": "stream",
     "text": [
      "works_well,\n",
      "well,_very\n",
      "lasts_longer\n"
     ]
    }
   ],
   "source": [
    "for row in res[0].triples():\n",
    "    if ('xcomp' in row) or ('advmod' in row): \n",
    "        print(row[0][0]+'_'+row[2][0])"
   ]
  },
  {
   "cell_type": "markdown",
   "metadata": {},
   "source": [
    "找nsubj關係，目標： (('vaccum', 'NN'), nsubj, ('works_well', 'VP')) (('vaccum', 'NN'), nsubj, ('very_well', '??')) (('battery', 'NN'), nsubj, ('lasts_longer', 'VP'))"
   ]
  },
  {
   "cell_type": "code",
   "execution_count": null,
   "metadata": {
    "collapsed": true
   },
   "outputs": [],
   "source": []
  }
 ],
 "metadata": {
  "anaconda-cloud": {},
  "kernelspec": {
   "display_name": "Python [default]",
   "language": "python",
   "name": "python3"
  },
  "language_info": {
   "codemirror_mode": {
    "name": "ipython",
    "version": 3
   },
   "file_extension": ".py",
   "mimetype": "text/x-python",
   "name": "python",
   "nbconvert_exporter": "python",
   "pygments_lexer": "ipython3",
   "version": "3.5.2"
  }
 },
 "nbformat": 4,
 "nbformat_minor": 1
}
