{
 "cells": [
  {
   "cell_type": "markdown",
   "metadata": {},
   "source": [
    "## Model Trained by GoogleNews"
   ]
  },
  {
   "cell_type": "code",
   "execution_count": 28,
   "metadata": {
    "collapsed": false
   },
   "outputs": [],
   "source": [
    "import gensim\n",
    "import os"
   ]
  },
  {
   "cell_type": "code",
   "execution_count": 29,
   "metadata": {
    "collapsed": false
   },
   "outputs": [],
   "source": [
    "# load the model\n",
    "test_data_dir = '{}'.format(os.sep).join([gensim.__path__[0], 'test', 'test_data']) + os.sep \n",
    "PeiW2V = gensim.models.Word2Vec.load_word2vec_format(test_data_dir + os.sep + 'GoogleNews-vectors-negative300.bin', binary=True)"
   ]
  },
  {
   "cell_type": "markdown",
   "metadata": {},
   "source": [
    "### 找出最接近positive的字，同時離negative最遠"
   ]
  },
  {
   "cell_type": "code",
   "execution_count": 26,
   "metadata": {
    "collapsed": false
   },
   "outputs": [
    {
     "data": {
      "text/plain": [
       "[('crimes', 0.4798206686973572),\n",
       " ('employee_Laura_Althouse', 0.46884191036224365),\n",
       " ('displaying_depraved_indifference', 0.4441700875759125),\n",
       " ('impertinent_flamboyant_endearingly', 0.43214473128318787),\n",
       " ('human_beings', 0.4297069013118744),\n",
       " ('Crimes', 0.41309162974357605),\n",
       " ('graphically_portrayed', 0.4127194285392761),\n",
       " ('Violent_crimes', 0.41108882427215576),\n",
       " ('serial_killers', 0.4102572798728943),\n",
       " ('growth_hormone_misbranding', 0.40998637676239014)]"
      ]
     },
     "execution_count": 26,
     "metadata": {},
     "output_type": "execute_result"
    }
   ],
   "source": [
    "# test the model\n",
    "PeiW2V.most_similar(positive=['human', 'crime'], negative=['party'], topn=10)"
   ]
  },
  {
   "cell_type": "code",
   "execution_count": 30,
   "metadata": {
    "collapsed": false
   },
   "outputs": [
    {
     "data": {
      "text/plain": [
       "[('scrumptious', 0.6988782286643982),\n",
       " ('delectable', 0.634515643119812),\n",
       " ('tasty', 0.625351071357727),\n",
       " ('yummy', 0.617617666721344),\n",
       " ('dessert', 0.6127476692199707),\n",
       " ('delicious_desserts', 0.6121189594268799),\n",
       " ('desserts', 0.6079114079475403),\n",
       " ('decadent_dessert', 0.6058381199836731),\n",
       " ('scrumptious_desserts', 0.596798300743103),\n",
       " ('delectable_desserts', 0.5890421867370605)]"
      ]
     },
     "execution_count": 30,
     "metadata": {},
     "output_type": "execute_result"
    }
   ],
   "source": [
    "PeiW2V.most_similar(positive=['meal', 'delicious'], negative=['beef'], topn=10)"
   ]
  },
  {
   "cell_type": "code",
   "execution_count": 31,
   "metadata": {
    "collapsed": false
   },
   "outputs": [
    {
     "data": {
      "text/plain": [
       "[('vacuum', 0.7606600522994995),\n",
       " ('vaccuum', 0.6520965099334717),\n",
       " ('vacuums', 0.5047175288200378),\n",
       " ('Nature_abhors_vacuum', 0.495270699262619),\n",
       " ('void', 0.46820348501205444),\n",
       " ('Shivanand_Tiwary', 0.448981910943985),\n",
       " ('VGO_hydrotreater', 0.4458332657814026),\n",
       " ('Nature_abhors', 0.4258888065814972),\n",
       " ('fitted_hairpieces', 0.42072242498397827),\n",
       " ('fear_psychosis', 0.4075663089752197)]"
      ]
     },
     "execution_count": 31,
     "metadata": {},
     "output_type": "execute_result"
    }
   ],
   "source": [
    "PeiW2V.most_similar(positive=['vaccum'], topn=10)"
   ]
  },
  {
   "cell_type": "code",
   "execution_count": 32,
   "metadata": {
    "collapsed": false
   },
   "outputs": [
    {
     "data": {
      "text/plain": [
       "[('meats', 0.8006242513656616),\n",
       " ('beef', 0.7286377549171448),\n",
       " ('pork', 0.7186977863311768),\n",
       " ('chicken', 0.6799130439758301),\n",
       " ('veal', 0.665444016456604),\n",
       " ('Meat', 0.6618024706840515),\n",
       " ('lamb', 0.6480673551559448),\n",
       " ('venison', 0.6430236101150513),\n",
       " ('steaks', 0.6292669773101807),\n",
       " ('processed_meats', 0.6270483732223511)]"
      ]
     },
     "execution_count": 32,
     "metadata": {},
     "output_type": "execute_result"
    }
   ],
   "source": [
    "PeiW2V.most_similar(positive=['meat'], topn=10)"
   ]
  },
  {
   "cell_type": "code",
   "execution_count": 33,
   "metadata": {
    "collapsed": false
   },
   "outputs": [
    {
     "data": {
      "text/plain": [
       "[('drink', 0.8052949905395508),\n",
       " ('beverages', 0.7642966508865356),\n",
       " ('alcoholic_drinks', 0.7189464569091797),\n",
       " ('soft_drinks', 0.694857120513916),\n",
       " ('beers', 0.6736067533493042),\n",
       " ('beer', 0.668931245803833),\n",
       " ('beverage', 0.6665424108505249),\n",
       " ('Drinks', 0.663141131401062),\n",
       " ('alcoholic_drink', 0.6617254018783569),\n",
       " ('soda', 0.6503926515579224)]"
      ]
     },
     "execution_count": 33,
     "metadata": {},
     "output_type": "execute_result"
    }
   ],
   "source": [
    "PeiW2V.most_similar(positive=['drinks'], topn=10)"
   ]
  },
  {
   "cell_type": "code",
   "execution_count": 34,
   "metadata": {
    "collapsed": false
   },
   "outputs": [
    {
     "data": {
      "text/plain": [
       "[('Lloyd_Jojola', 0.24445278942584991),\n",
       " ('Rentafriend_receives_###,###', 0.24039404094219208),\n",
       " ('Tall_Timber', 0.23807601630687714),\n",
       " ('TRAFFIC_HOT_SPOTS', 0.23260051012039185),\n",
       " ('By_KAY_LEDBETTER', 0.23168671131134033),\n",
       " ('call_#-###-REDCHIP', 0.22557049989700317),\n",
       " ('jared.favole_@_dowjones.com', 0.22170394659042358),\n",
       " ('Global_Macro_EconoMonitor', 0.22153419256210327),\n",
       " ('Total_Time_#:##:##.##', 0.21961605548858643),\n",
       " ('Wild_Mammal', 0.21805337071418762)]"
      ]
     },
     "execution_count": 34,
     "metadata": {},
     "output_type": "execute_result"
    }
   ],
   "source": [
    "PeiW2V.most_similar(negative=['vaccum'], topn=10)"
   ]
  },
  {
   "cell_type": "markdown",
   "metadata": {},
   "source": [
    "### 找出字串內距離其他字最遠的字"
   ]
  },
  {
   "cell_type": "code",
   "execution_count": 35,
   "metadata": {
    "collapsed": false
   },
   "outputs": [
    {
     "data": {
      "text/plain": [
       "'health'"
      ]
     },
     "execution_count": 35,
     "metadata": {},
     "output_type": "execute_result"
    }
   ],
   "source": [
    "PeiW2V.doesnt_match(\"vaccum is super good for your health\".split())"
   ]
  },
  {
   "cell_type": "markdown",
   "metadata": {},
   "source": [
    "### 找出兩字之間的cosine similarity"
   ]
  },
  {
   "cell_type": "code",
   "execution_count": 40,
   "metadata": {
    "collapsed": false
   },
   "outputs": [
    {
     "name": "stdout",
     "output_type": "stream",
     "text": [
      "-0.0270825520298\n",
      "0.144113677691\n",
      "0.0766720552205\n",
      "0.0734540762875\n"
     ]
    }
   ],
   "source": [
    "print(PeiW2V.similarity('human', 'party'))\n",
    "print(PeiW2V.similarity('human', 'illness'))\n",
    "print(PeiW2V.similarity('human', 'fake'))\n",
    "print(PeiW2V.similarity('human', 'queen'))"
   ]
  },
  {
   "cell_type": "markdown",
   "metadata": {},
   "source": [
    "### 抓出每個字的向量值"
   ]
  },
  {
   "cell_type": "code",
   "execution_count": 41,
   "metadata": {
    "collapsed": false
   },
   "outputs": [
    {
     "data": {
      "text/plain": [
       "array([  5.59082031e-02,   9.22851562e-02,   1.07910156e-01,\n",
       "         2.83203125e-01,  -2.43164062e-01,   1.90429688e-02,\n",
       "         4.08203125e-01,  -3.17382812e-02,  -4.78515625e-02,\n",
       "         6.34765625e-02,  -9.32617188e-02,  -4.46777344e-02,\n",
       "        -2.41210938e-01,  -1.58203125e-01,  -5.83496094e-02,\n",
       "         2.51953125e-01,  -3.24707031e-02,   1.00097656e-01,\n",
       "        -4.56542969e-02,   1.35742188e-01,  -2.07031250e-01,\n",
       "        -3.73046875e-01,   4.39453125e-02,   4.24804688e-02,\n",
       "         6.93359375e-02,  -2.42187500e-01,  -2.75390625e-01,\n",
       "         1.95312500e-01,   2.26562500e-01,  -1.90429688e-01,\n",
       "        -2.35351562e-01,  -5.56640625e-02,  -1.25000000e-01,\n",
       "        -8.78906250e-02,  -2.33398438e-01,   9.61914062e-02,\n",
       "        -4.83398438e-02,   4.54101562e-02,   9.81445312e-02,\n",
       "         5.76171875e-02,  -4.17480469e-02,   2.02148438e-01,\n",
       "        -9.03320312e-02,   2.75390625e-01,  -6.34765625e-02,\n",
       "         4.93164062e-02,   2.92968750e-02,   2.57812500e-01,\n",
       "         1.32812500e-01,   7.42187500e-02,   6.64062500e-02,\n",
       "        -1.37695312e-01,  -1.73828125e-01,   1.89453125e-01,\n",
       "        -1.88476562e-01,  -4.34570312e-02,   2.11181641e-02,\n",
       "        -3.02734375e-01,   1.76757812e-01,   3.24218750e-01,\n",
       "        -1.27563477e-02,   1.47094727e-02,   1.88476562e-01,\n",
       "         9.61914062e-02,  -8.15429688e-02,  -6.64062500e-02,\n",
       "         9.71679688e-02,   2.29492188e-01,  -2.94921875e-01,\n",
       "        -1.09375000e-01,   6.54296875e-02,  -7.42187500e-02,\n",
       "        -3.41796875e-03,  -6.88476562e-02,  -9.86328125e-02,\n",
       "        -1.13769531e-01,   1.03027344e-01,   1.39770508e-02,\n",
       "        -7.08007812e-02,  -1.81884766e-02,   6.49414062e-02,\n",
       "        -3.27148438e-02,   1.04980469e-01,  -7.22656250e-02,\n",
       "        -1.67236328e-02,  -6.20117188e-02,  -2.82287598e-03,\n",
       "         1.61132812e-01,  -5.27343750e-02,   1.30859375e-01,\n",
       "         1.46484375e-01,   2.81982422e-02,  -5.54199219e-02,\n",
       "         5.06591797e-03,  -3.93066406e-02,  -2.33154297e-02,\n",
       "         1.16699219e-01,   9.52148438e-02,   9.08203125e-02,\n",
       "        -6.22558594e-02,  -1.24023438e-01,   2.44140625e-02,\n",
       "         1.90429688e-01,  -5.49316406e-02,   1.68945312e-01,\n",
       "        -1.94091797e-02,  -6.88476562e-02,   4.32128906e-02,\n",
       "         1.00097656e-01,   1.70898438e-02,  -1.87500000e-01,\n",
       "        -5.43212891e-03,   4.46777344e-02,   1.46484375e-01,\n",
       "        -1.19018555e-03,   8.74023438e-02,  -8.74023438e-02,\n",
       "        -2.23388672e-02,   1.57226562e-01,   1.48437500e-01,\n",
       "        -1.76757812e-01,  -2.47070312e-01,  -2.71484375e-01,\n",
       "         9.13085938e-02,  -2.71484375e-01,  -4.19921875e-02,\n",
       "         1.51367188e-01,  -9.88769531e-03,   2.14843750e-01,\n",
       "         3.86047363e-03,  -1.08886719e-01,  -1.00585938e-01,\n",
       "        -3.80859375e-01,   8.00781250e-02,   8.83789062e-02,\n",
       "        -2.06054688e-01,   5.49316406e-02,   6.88476562e-02,\n",
       "         1.40625000e-01,  -1.43554688e-01,   9.61914062e-02,\n",
       "        -3.46679688e-02,  -1.42578125e-01,   2.44140625e-02,\n",
       "        -6.29882812e-02,   1.03027344e-01,  -3.12500000e-02,\n",
       "         2.57812500e-01,   2.60009766e-02,  -4.95605469e-02,\n",
       "         6.68945312e-02,  -5.88378906e-02,  -1.56250000e-01,\n",
       "         3.10546875e-01,  -3.27148438e-02,  -1.75781250e-01,\n",
       "        -5.73730469e-02,  -3.41796875e-01,   2.03125000e-01,\n",
       "        -1.30859375e-01,  -1.01074219e-01,  -3.10546875e-01,\n",
       "         2.44140625e-03,   6.05468750e-02,  -1.84570312e-01,\n",
       "         1.33056641e-02,   7.32421875e-02,  -1.00097656e-01,\n",
       "         1.89208984e-02,  -8.44726562e-02,   4.02832031e-02,\n",
       "         1.11328125e-01,   1.07421875e-01,   5.17578125e-02,\n",
       "         3.00781250e-01,   3.88183594e-02,  -1.23046875e-01,\n",
       "        -5.29785156e-02,  -1.79687500e-01,  -2.18750000e-01,\n",
       "        -7.66601562e-02,   1.08886719e-01,   1.25976562e-01,\n",
       "        -2.92968750e-01,  -2.77343750e-01,   1.91650391e-02,\n",
       "        -1.92382812e-01,  -3.68652344e-02,   1.68457031e-02,\n",
       "         3.16406250e-01,  -1.59179688e-01,   1.20605469e-01,\n",
       "        -1.60156250e-01,   1.04492188e-01,  -1.49414062e-01,\n",
       "        -6.73828125e-02,   1.05468750e-01,  -1.80664062e-01,\n",
       "        -7.47070312e-02,  -2.01171875e-01,   1.47460938e-01,\n",
       "         1.66015625e-02,  -1.40625000e-01,  -2.79541016e-02,\n",
       "        -1.60156250e-01,  -4.24804688e-02,  -1.20605469e-01,\n",
       "        -7.08007812e-02,  -3.51562500e-01,  -2.61718750e-01,\n",
       "        -3.49609375e-01,   3.08990479e-04,  -1.45507812e-01,\n",
       "        -8.93554688e-02,  -3.49121094e-02,   6.83593750e-02,\n",
       "         2.49023438e-01,  -7.91015625e-02,  -2.99072266e-02,\n",
       "         3.73535156e-02,   2.39257812e-01,   9.08203125e-02,\n",
       "         1.87500000e-01,  -2.81250000e-01,   5.49316406e-02,\n",
       "        -1.47460938e-01,   8.25195312e-02,   7.08007812e-02,\n",
       "         8.10546875e-02,   8.74023438e-02,   3.59375000e-01,\n",
       "         1.09863281e-01,   8.31604004e-04,   5.83496094e-02,\n",
       "        -1.46484375e-01,  -2.01171875e-01,  -3.54003906e-02,\n",
       "         1.13281250e-01,   9.03320312e-02,  -1.16210938e-01,\n",
       "         2.98828125e-01,  -4.85229492e-03,  -4.22363281e-02,\n",
       "        -1.48437500e-01,   1.33789062e-01,  -3.83300781e-02,\n",
       "         6.34765625e-02,   1.75781250e-01,  -6.34765625e-02,\n",
       "        -1.57226562e-01,   1.79443359e-02,   6.62231445e-03,\n",
       "        -1.74560547e-02,   5.71289062e-02,   3.73535156e-02,\n",
       "        -4.58984375e-01,  -2.58789062e-02,   1.14746094e-01,\n",
       "         4.76074219e-02,   3.90625000e-02,   8.74023438e-02,\n",
       "        -7.27539062e-02,  -1.14257812e-01,   5.71289062e-02,\n",
       "        -1.17797852e-02,   3.83300781e-02,   6.63757324e-04,\n",
       "        -1.22070312e-03,  -1.38671875e-01,   1.10351562e-01,\n",
       "        -1.01074219e-01,   6.98242188e-02,  -1.66015625e-01,\n",
       "        -2.00195312e-01,  -1.25000000e-01,  -6.93359375e-02,\n",
       "        -1.54296875e-01,   1.09863281e-01,   3.27148438e-02,\n",
       "         4.83398438e-02,  -9.42382812e-02,   8.98437500e-02,\n",
       "         1.14746094e-01,  -4.66308594e-02,  -6.29882812e-02,\n",
       "         1.50146484e-02,  -1.55273438e-01,  -1.20605469e-01,\n",
       "         2.23632812e-01,   1.99218750e-01,  -2.11914062e-01,\n",
       "        -6.54296875e-02,  -3.12500000e-01,   8.74023438e-02,\n",
       "        -2.22656250e-01,   1.23046875e-01,   4.76074219e-03,\n",
       "        -7.12890625e-02,   1.62109375e-01,   9.13085938e-02], dtype=float32)"
      ]
     },
     "execution_count": 41,
     "metadata": {},
     "output_type": "execute_result"
    }
   ],
   "source": [
    "PeiW2V[\"human\"]"
   ]
  },
  {
   "cell_type": "code",
   "execution_count": null,
   "metadata": {
    "collapsed": true
   },
   "outputs": [],
   "source": []
  }
 ],
 "metadata": {
  "kernelspec": {
   "display_name": "Python [default]",
   "language": "python",
   "name": "python3"
  },
  "language_info": {
   "codemirror_mode": {
    "name": "ipython",
    "version": 3
   },
   "file_extension": ".py",
   "mimetype": "text/x-python",
   "name": "python",
   "nbconvert_exporter": "python",
   "pygments_lexer": "ipython3",
   "version": "3.5.2"
  }
 },
 "nbformat": 4,
 "nbformat_minor": 1
}
